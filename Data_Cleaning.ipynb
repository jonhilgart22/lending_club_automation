{
 "cells": [
  {
   "cell_type": "code",
   "execution_count": 6,
   "metadata": {
    "collapsed": true
   },
   "outputs": [],
   "source": [
    "import pandas as pd\n",
    "import numpy as np"
   ]
  },
  {
   "cell_type": "code",
   "execution_count": null,
   "metadata": {},
   "outputs": [],
   "source": [
    "lending_club_df = pd.read_csv(\"./data/accepted_2007_to_2017.csv\")"
   ]
  },
  {
   "cell_type": "code",
   "execution_count": null,
   "metadata": {},
   "outputs": [],
   "source": [
    "lending_club_df.head()"
   ]
  },
  {
   "cell_type": "markdown",
   "metadata": {},
   "source": [
    "# Data Dictionary"
   ]
  },
  {
   "cell_type": "markdown",
   "metadata": {},
   "source": [
    "```acc_now_delinq\tThe number of accounts on which the borrower is now delinquent.\n",
    "acc_open_past_24mths\tNumber of trades opened in past 24 months.\n",
    "addr_state\tThe state provided by the borrower in the loan application\n",
    "all_util\tBalance to credit limit on all trades\n",
    "annual_inc\tThe self-reported annual income provided by the borrower during registration.\n",
    "annual_inc_joint\tThe combined self-reported annual income provided by the co-borrowers during registration\n",
    "application_type\tIndicates whether the loan is an individual application or a joint application with two co-borrowers\n",
    "avg_cur_bal\tAverage current balance of all accounts\n",
    "bc_open_to_buy\tTotal open to buy on revolving bankcards.\n",
    "bc_util\tRatio of total current balance to high credit/credit limit for all bankcard accounts.\n",
    "chargeoff_within_12_mths\tNumber of charge-offs within 12 months\n",
    "collection_recovery_fee\tpost charge off collection fee\n",
    "collections_12_mths_ex_med\tNumber of collections in 12 months excluding medical collections\n",
    "delinq_2yrs\tThe number of 30+ days past-due incidences of delinquency in the borrower's credit file for the past 2 years\n",
    "delinq_amnt\tThe past-due amount owed for the accounts on which the borrower is now delinquent.\n",
    "desc\tLoan description provided by the borrower\n",
    "dti\tA ratio calculated using the borrower’s total monthly debt payments on the total debt obligations, excluding mortgage and the requested LC loan, divided by the borrower’s self-reported monthly income.\n",
    "dti_joint\tA ratio calculated using the co-borrowers' total monthly payments on the total debt obligations, excluding mortgages and the requested LC loan, divided by the co-borrowers' combined self-reported monthly income\n",
    "earliest_cr_line\tThe month the borrower's earliest reported credit line was opened\n",
    "emp_length\tEmployment length in years. Possible values are between 0 and 10 where 0 means less than one year and 10 means ten or more years. \n",
    "emp_title\tThe job title supplied by the Borrower when applying for the loan.*\n",
    "fico_range_high\tThe upper boundary range the borrower’s FICO at loan origination belongs to.\n",
    "fico_range_low\tThe lower boundary range the borrower’s FICO at loan origination belongs to.\n",
    "funded_amnt\tThe total amount committed to that loan at that point in time.\n",
    "funded_amnt_inv\tThe total amount committed by investors for that loan at that point in time.\n",
    "grade\tLC assigned loan grade\n",
    "home_ownership\tThe home ownership status provided by the borrower during registration or obtained from the credit report. Our values are: RENT, OWN, MORTGAGE, OTHER\n",
    "id\tA unique LC assigned ID for the loan listing.\n",
    "il_util\tRatio of total current balance to high credit/credit limit on all install acct\n",
    "initial_list_status\tThe initial listing status of the loan. Possible values are – W, F\n",
    "inq_fi\tNumber of personal finance inquiries\n",
    "inq_last_12m\tNumber of credit inquiries in past 12 months\n",
    "inq_last_6mths\tThe number of inquiries in past 6 months (excluding auto and mortgage inquiries)\n",
    "installment\tThe monthly payment owed by the borrower if the loan originates.\n",
    "int_rate\tInterest Rate on the loan\n",
    "issue_d\tThe month which the loan was funded\n",
    "last_credit_pull_d\tThe most recent month LC pulled credit for this loan\n",
    "last_fico_range_high\tThe upper boundary range the borrower’s last FICO pulled belongs to.\n",
    "last_fico_range_low\tThe lower boundary range the borrower’s last FICO pulled belongs to.\n",
    "last_pymnt_amnt\tLast total payment amount received\n",
    "last_pymnt_d\tLast month payment was received\n",
    "loan_amnt\tThe listed amount of the loan applied for by the borrower. If at some point in time, the credit department reduces the loan amount, then it will be reflected in this value.\n",
    "loan_status\tCurrent status of the loan\n",
    "max_bal_bc\tMaximum current balance owed on all revolving accounts\n",
    "member_id\tA unique LC assigned Id for the borrower member.\n",
    "mo_sin_old_il_acct\tMonths since oldest bank installment account opened\n",
    "mo_sin_old_rev_tl_op\tMonths since oldest revolving account opened\n",
    "mo_sin_rcnt_rev_tl_op\tMonths since most recent revolving account opened\n",
    "mo_sin_rcnt_tl\tMonths since most recent account opened\n",
    "mort_acc\tNumber of mortgage accounts.\n",
    "mths_since_last_delinq\tThe number of months since the borrower's last delinquency.\n",
    "mths_since_last_major_derog\tMonths since most recent 90-day or worse rating\n",
    "mths_since_last_record\tThe number of months since the last public record.\n",
    "mths_since_rcnt_il\tMonths since most recent installment accounts opened\n",
    "mths_since_recent_bc\tMonths since most recent bankcard account opened.\n",
    "mths_since_recent_bc_dlq\tMonths since most recent bankcard delinquency\n",
    "mths_since_recent_inq\tMonths since most recent inquiry.\n",
    "mths_since_recent_revol_delinq\tMonths since most recent revolving delinquency.\n",
    "next_pymnt_d\tNext scheduled payment date\n",
    "num_accts_ever_120_pd\tNumber of accounts ever 120 or more days past due\n",
    "num_actv_bc_tl\tNumber of currently active bankcard accounts\n",
    "num_actv_rev_tl\tNumber of currently active revolving trades\n",
    "num_bc_sats\tNumber of satisfactory bankcard accounts\n",
    "num_bc_tl\tNumber of bankcard accounts\n",
    "num_il_tl\tNumber of installment accounts\n",
    "num_op_rev_tl\tNumber of open revolving accounts\n",
    "num_rev_accts\tNumber of revolving accounts\n",
    "num_rev_tl_bal_gt_0\tNumber of revolving trades with balance >0\n",
    "num_sats\tNumber of satisfactory accounts\n",
    "num_tl_120dpd_2m\tNumber of accounts currently 120 days past due (updated in past 2 months)\n",
    "num_tl_30dpd\tNumber of accounts currently 30 days past due (updated in past 2 months)\n",
    "num_tl_90g_dpd_24m\tNumber of accounts 90 or more days past due in last 24 months\n",
    "num_tl_op_past_12m\tNumber of accounts opened in past 12 months\n",
    "open_acc\tThe number of open credit lines in the borrower's credit file.\n",
    "open_acc_6m\tNumber of open trades in last 6 months\n",
    "open_il_12m\tNumber of installment accounts opened in past 12 months\n",
    "open_il_24m\tNumber of installment accounts opened in past 24 months\n",
    "open_il_6m\tNumber of currently active installment trades\n",
    "open_rv_12m\tNumber of revolving trades opened in past 12 months\n",
    "open_rv_24m\tNumber of revolving trades opened in past 24 months\n",
    "out_prncp\tRemaining outstanding principal for total amount funded\n",
    "out_prncp_inv\tRemaining outstanding principal for portion of total amount funded by investors\n",
    "pct_tl_nvr_dlq\tPercent of trades never delinquent\n",
    "percent_bc_gt_75\tPercentage of all bankcard accounts > 75% of limit.\n",
    "policy_code\t\"publicly available policy_code=1\n",
    "new products not publicly available policy_code=2\"\n",
    "pub_rec\tNumber of derogatory public records\n",
    "pub_rec_bankruptcies\tNumber of public record bankruptcies\n",
    "purpose\tA category provided by the borrower for the loan request. \n",
    "pymnt_plan\tIndicates if a payment plan has been put in place for the loan\n",
    "recoveries\tpost charge off gross recovery\n",
    "revol_bal\tTotal credit revolving balance\n",
    "revol_util\tRevolving line utilization rate, or the amount of credit the borrower is using relative to all available revolving credit.\n",
    "sub_grade\tLC assigned loan subgrade\n",
    "tax_liens\tNumber of tax liens\n",
    "term\tThe number of payments on the loan. Values are in months and can be either 36 or 60.\n",
    "title\tThe loan title provided by the borrower\n",
    "tot_coll_amt\tTotal collection amounts ever owed\n",
    "tot_cur_bal\tTotal current balance of all accounts\n",
    "tot_hi_cred_lim\tTotal high credit/credit limit\n",
    "total_acc\tThe total number of credit lines currently in the borrower's credit file\n",
    "total_bal_ex_mort\tTotal credit balance excluding mortgage\n",
    "total_bal_il\tTotal current balance of all installment accounts\n",
    "total_bc_limit\tTotal bankcard high credit/credit limit\n",
    "total_cu_tl\tNumber of finance trades\n",
    "total_il_high_credit_limit\tTotal installment high credit/credit limit\n",
    "total_pymnt\tPayments received to date for total amount funded\n",
    "total_pymnt_inv\tPayments received to date for portion of total amount funded by investors\n",
    "total_rec_int\tInterest received to date\n",
    "total_rec_late_fee\tLate fees received to date\n",
    "total_rec_prncp\tPrincipal received to date\n",
    "total_rev_hi_lim  \tTotal revolving high credit/credit limit\n",
    "url\tURL for the LC page with listing data.\n",
    "verification_status\tIndicates if income was verified by LC, not verified, or if the income source was verified\n",
    "verified_status_joint\tIndicates if the co-borrowers' joint income was verified by LC, not verified, or if the income source was verified\n",
    "zip_code\tThe first 3 numbers of the zip code provided by the borrower in the loan application.\n",
    "revol_bal_joint \t Sum of revolving credit balance of the co-borrowers, net of duplicate balances\n",
    "sec_app_fico_range_low \t FICO range (high) for the secondary applicant\n",
    "sec_app_fico_range_high \t FICO range (low) for the secondary applicant\n",
    "sec_app_earliest_cr_line \t Earliest credit line at time of application for the secondary applicant\n",
    "sec_app_inq_last_6mths \t Credit inquiries in the last 6 months at time of application for the secondary applicant\n",
    "sec_app_mort_acc \t Number of mortgage accounts at time of application for the secondary applicant\n",
    "sec_app_open_acc \t Number of open trades at time of application for the secondary applicant\n",
    "sec_app_revol_util \t Ratio of total current balance to high credit/credit limit for all revolving accounts\n",
    "sec_app_open_il_6m \t Number of currently active installment trades at time of application for the secondary applicant\n",
    "sec_app_num_rev_accts \t Number of revolving accounts at time of application for the secondary applicant\n",
    "sec_app_chargeoff_within_12_mths \t Number of charge-offs within last 12 months at time of application for the secondary applicant\n",
    "sec_app_collections_12_mths_ex_med \t Number of collections within last 12 months excluding medical collections at time of application for the secondary applicant\n",
    "sec_app_mths_since_last_major_derog \t Months since most recent 90-day or worse rating at time of application for the secondary applicant```"
   ]
  },
  {
   "cell_type": "code",
   "execution_count": null,
   "metadata": {
    "collapsed": true
   },
   "outputs": [],
   "source": []
  },
  {
   "cell_type": "markdown",
   "metadata": {},
   "source": [
    "# EDA\n",
    "- FIgure out which columns to drop"
   ]
  },
  {
   "cell_type": "code",
   "execution_count": null,
   "metadata": {},
   "outputs": [],
   "source": [
    "lending_club_df.iloc[:,:50].info()"
   ]
  },
  {
   "cell_type": "markdown",
   "metadata": {},
   "source": [
    "## Figure out which columns to drop or impute 0"
   ]
  },
  {
   "cell_type": "code",
   "execution_count": null,
   "metadata": {},
   "outputs": [],
   "source": [
    "np.isnan(lending_club_df.mths_since_last_delinq[0])"
   ]
  },
  {
   "cell_type": "markdown",
   "metadata": {},
   "source": [
    "- 0 for mths since last deliquency if NaN"
   ]
  },
  {
   "cell_type": "code",
   "execution_count": null,
   "metadata": {
    "collapsed": true
   },
   "outputs": [],
   "source": [
    "lending_club_df.mths_since_last_delinq = [0 if np.isnan(i)==True else i for i in lending_club_df.mths_since_last_delinq]"
   ]
  },
  {
   "cell_type": "markdown",
   "metadata": {},
   "source": [
    "- 0 for mths since last record if nan"
   ]
  },
  {
   "cell_type": "code",
   "execution_count": null,
   "metadata": {
    "collapsed": true
   },
   "outputs": [],
   "source": [
    "lending_club_df.mths_since_last_record = [0 if np.isnan(i)==True else i for i in lending_club_df.mths_since_last_record]"
   ]
  },
  {
   "cell_type": "code",
   "execution_count": null,
   "metadata": {},
   "outputs": [],
   "source": [
    "lending_club_df.mths_since_last_record .head()"
   ]
  },
  {
   "cell_type": "markdown",
   "metadata": {},
   "source": [
    "- Look at employement title"
   ]
  },
  {
   "cell_type": "code",
   "execution_count": null,
   "metadata": {},
   "outputs": [],
   "source": [
    "len(lending_club_df.emp_title.unique())"
   ]
  },
  {
   "cell_type": "markdown",
   "metadata": {},
   "source": [
    "- Too many, drop"
   ]
  },
  {
   "cell_type": "code",
   "execution_count": null,
   "metadata": {
    "collapsed": true
   },
   "outputs": [],
   "source": [
    "lending_club_df.drop('emp_title',1,inplace=True)"
   ]
  },
  {
   "cell_type": "markdown",
   "metadata": {},
   "source": [
    "- Look at desc"
   ]
  },
  {
   "cell_type": "code",
   "execution_count": null,
   "metadata": {},
   "outputs": [],
   "source": [
    "lending_club_df.desc.iloc[1]"
   ]
  },
  {
   "cell_type": "markdown",
   "metadata": {},
   "source": [
    "- Drop desc, not enough text to pull NLP features"
   ]
  },
  {
   "cell_type": "code",
   "execution_count": null,
   "metadata": {
    "collapsed": true
   },
   "outputs": [],
   "source": [
    "lending_club_df.drop('desc',1,inplace=True)"
   ]
  },
  {
   "cell_type": "markdown",
   "metadata": {},
   "source": [
    "- Title\n",
    "    - Drop"
   ]
  },
  {
   "cell_type": "code",
   "execution_count": null,
   "metadata": {
    "collapsed": true
   },
   "outputs": [],
   "source": [
    "lending_club_df.drop('title',1,inplace=True)"
   ]
  },
  {
   "cell_type": "markdown",
   "metadata": {},
   "source": [
    "- next_pymnt_d\n",
    "    - Drop"
   ]
  },
  {
   "cell_type": "code",
   "execution_count": null,
   "metadata": {
    "collapsed": true
   },
   "outputs": [],
   "source": [
    "lending_club_df.drop('next_pymnt_d',1,inplace=True)"
   ]
  },
  {
   "cell_type": "code",
   "execution_count": null,
   "metadata": {
    "collapsed": true
   },
   "outputs": [],
   "source": []
  },
  {
   "cell_type": "code",
   "execution_count": null,
   "metadata": {
    "collapsed": true
   },
   "outputs": [],
   "source": []
  },
  {
   "cell_type": "markdown",
   "metadata": {},
   "source": [
    "### Loan status 'fully paid' = 1\n",
    "- Everything lese - 0"
   ]
  },
  {
   "cell_type": "code",
   "execution_count": 21,
   "metadata": {
    "collapsed": true
   },
   "outputs": [],
   "source": [
    "lending_club_df['repaid'] = [1 if i =='Fully Paid' else 0 for i in lending_club_df.loan_status  ]"
   ]
  },
  {
   "cell_type": "code",
   "execution_count": 14,
   "metadata": {},
   "outputs": [
    {
     "data": {
      "text/plain": [
       "array(['Fully Paid', 'Late (31-120 days)', 'Charged Off', 'Current',\n",
       "       'Late (16-30 days)', 'In Grace Period', 'Default', nan,\n",
       "       'Does not meet the credit policy. Status:Fully Paid',\n",
       "       'Does not meet the credit policy. Status:Charged Off', 'Issued'], dtype=object)"
      ]
     },
     "execution_count": 14,
     "metadata": {},
     "output_type": "execute_result"
    }
   ],
   "source": [
    "lending_club_df.loan_status.unique()"
   ]
  },
  {
   "cell_type": "code",
   "execution_count": null,
   "metadata": {
    "collapsed": true
   },
   "outputs": [],
   "source": []
  }
 ],
 "metadata": {
  "kernelspec": {
   "display_name": "dl",
   "language": "python",
   "name": "dl"
  },
  "language_info": {
   "codemirror_mode": {
    "name": "ipython",
    "version": 3
   },
   "file_extension": ".py",
   "mimetype": "text/x-python",
   "name": "python",
   "nbconvert_exporter": "python",
   "pygments_lexer": "ipython3",
   "version": "3.6.1"
  }
 },
 "nbformat": 4,
 "nbformat_minor": 2
}
