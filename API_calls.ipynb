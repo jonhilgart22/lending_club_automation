{
 "cells": [
  {
   "cell_type": "code",
   "execution_count": 3,
   "metadata": {},
   "outputs": [],
   "source": [
    "import requests\n",
    "import os\n",
    "import yaml\n",
    "import pandas as pd"
   ]
  },
  {
   "cell_type": "markdown",
   "metadata": {},
   "source": [
    "- Import credentials"
   ]
  },
  {
   "cell_type": "code",
   "execution_count": 4,
   "metadata": {
    "collapsed": true
   },
   "outputs": [],
   "source": [
    "credentials = yaml.load(open(os.path.expanduser('~/.ssh/lending_club_api.yml')))"
   ]
  },
  {
   "cell_type": "code",
   "execution_count": 5,
   "metadata": {
    "collapsed": true
   },
   "outputs": [],
   "source": [
    "account_id = credentials['account_id']"
   ]
  },
  {
   "cell_type": "markdown",
   "metadata": {},
   "source": [
    "- Make the API call"
   ]
  },
  {
   "cell_type": "code",
   "execution_count": 77,
   "metadata": {
    "collapsed": true
   },
   "outputs": [],
   "source": [
    "\n",
    "r = requests.get('https://api.lendingclub.com/api/investor/v1/loans/listing',\n",
    "                 headers={'Authorization': credentials['authentication'],'Content-Type': 'application/json',\n",
    "                          'Accept': 'application/json'}, params = {'showAll':'true'})"
   ]
  },
  {
   "cell_type": "code",
   "execution_count": 78,
   "metadata": {},
   "outputs": [
    {
     "data": {
      "text/plain": [
       "<Response [200]>"
      ]
     },
     "execution_count": 78,
     "metadata": {},
     "output_type": "execute_result"
    }
   ],
   "source": [
    "r"
   ]
  },
  {
   "cell_type": "code",
   "execution_count": 79,
   "metadata": {
    "collapsed": true
   },
   "outputs": [],
   "source": [
    "json_response =  r.json()"
   ]
  },
  {
   "cell_type": "code",
   "execution_count": 80,
   "metadata": {},
   "outputs": [
    {
     "data": {
      "text/plain": [
       "[u'loans', u'asOfDate']"
      ]
     },
     "execution_count": 80,
     "metadata": {},
     "output_type": "execute_result"
    }
   ],
   "source": [
    "json_response.keys()"
   ]
  },
  {
   "cell_type": "code",
   "execution_count": 81,
   "metadata": {
    "collapsed": true
   },
   "outputs": [],
   "source": [
    "test_loan = json_response['loans'][50]"
   ]
  },
  {
   "cell_type": "code",
   "execution_count": 83,
   "metadata": {},
   "outputs": [
    {
     "data": {
      "text/plain": [
       "u'RENT'"
      ]
     },
     "execution_count": 83,
     "metadata": {},
     "output_type": "execute_result"
    }
   ],
   "source": [
    "test_loan['homeOwnership']"
   ]
  },
  {
   "cell_type": "markdown",
   "metadata": {},
   "source": [
    "- Convert to DF"
   ]
  },
  {
   "cell_type": "code",
   "execution_count": 52,
   "metadata": {},
   "outputs": [],
   "source": [
    "loans_df = pd.DataFrame(json_response['loans'])"
   ]
  },
  {
   "cell_type": "markdown",
   "metadata": {},
   "source": [
    "#### Convert EmpLength to years"
   ]
  },
  {
   "cell_type": "code",
   "execution_count": 53,
   "metadata": {},
   "outputs": [],
   "source": [
    "loans_df.empLength = loans_df.empLength.apply(lambda x: x/60 if x >0 else 0)"
   ]
  },
  {
   "cell_type": "markdown",
   "metadata": {},
   "source": [
    "#### Create month to int 1-12"
   ]
  },
  {
   "cell_type": "code",
   "execution_count": 54,
   "metadata": {
    "collapsed": true
   },
   "outputs": [],
   "source": [
    "loans_df['month'] = loans_df.acceptD.apply(lambda x: pd.to_datetime(x).month)"
   ]
  },
  {
   "cell_type": "markdown",
   "metadata": {},
   "source": [
    "#### Crea cols term_36 and term_60"
   ]
  },
  {
   "cell_type": "code",
   "execution_count": 58,
   "metadata": {
    "collapsed": true
   },
   "outputs": [],
   "source": [
    "loans_df['term_36'] = [1 if i ==36 else 0 for i in loans_df.term]"
   ]
  },
  {
   "cell_type": "code",
   "execution_count": 59,
   "metadata": {
    "collapsed": true
   },
   "outputs": [],
   "source": [
    "loans_df['term_60'] = [1 if i ==60 else 0 for i in loans_df.term]"
   ]
  },
  {
   "cell_type": "markdown",
   "metadata": {},
   "source": [
    "#### Create grade columns\n",
    "- a:g"
   ]
  },
  {
   "cell_type": "code",
   "execution_count": 63,
   "metadata": {
    "collapsed": true
   },
   "outputs": [],
   "source": [
    "loans_df['grade_a'] = [1 if i =='A' else 0 for i in loans_df.grade]\n",
    "loans_df['grade_b']= [1 if i =='B' else 0 for i in loans_df.grade]\n",
    "loans_df['grade_c']= [1 if i =='C' else 0 for i in loans_df.grade]\n",
    "loans_df['grade_d']= [1 if i =='D' else 0 for i in loans_df.grade]\n",
    "loans_df['grade_e']= [1 if i =='E' else 0 for i in loans_df.grade]\n",
    "loans_df['grade_f']= [1 if i =='F' else 0 for i in loans_df.grade]\n",
    "loans_df['grade_g']= [1 if i =='G' else 0 for i in loans_df.grade]"
   ]
  },
  {
   "cell_type": "markdown",
   "metadata": {},
   "source": [
    "### Create home ownership columns\n",
    "-'home_ownership_ANY',\n",
    " 'home_ownership_MORTGAGE',\n",
    " 'home_ownership_NONE',\n",
    " 'home_ownership_OTHER',\n",
    " 'home_ownership_OWN',\n",
    " 'home_ownership_RENT',"
   ]
  },
  {
   "cell_type": "code",
   "execution_count": null,
   "metadata": {
    "collapsed": true
   },
   "outputs": [],
   "source": [
    "loans_df['home_ownership_any'] = [1 if i =='ANY' else 0 for i in loans_df.homeOwnership]\n",
    "loans_df['home_ownership_mortgage'] = [1 if i =='MORTGAGE' else 0 for i in loans_df.homeOwnership]\n",
    "loans_df['home_ownership_none'] = [1 if i =='NONE' else 0 for i in loans_df.homeOwnership]\n",
    "loans_df['home_ownership_other'] = [1 if i =='OTHER' else 0 for i in loans_df.homeOwnership]\n",
    "loans_df['home_ownership_own'] = [1 if i =='OWN' else 0 for i in loans_df.homeOwnership]\n",
    "loans_df['home_ownership_rent'] = [1 if i =='RENT' else 0 for i in loans_df.homeOwnership]"
   ]
  },
  {
   "cell_type": "code",
   "execution_count": null,
   "metadata": {
    "collapsed": true
   },
   "outputs": [],
   "source": []
  },
  {
   "cell_type": "code",
   "execution_count": null,
   "metadata": {
    "collapsed": true
   },
   "outputs": [],
   "source": []
  },
  {
   "cell_type": "code",
   "execution_count": 56,
   "metadata": {},
   "outputs": [
    {
     "name": "stdout",
     "output_type": "stream",
     "text": [
      "<class 'pandas.core.frame.DataFrame'>\n",
      "RangeIndex: 390 entries, 0 to 389\n",
      "Data columns (total 104 columns):\n",
      "accNowDelinq                  int64\n",
      "accOpenPast24Mths             int64\n",
      "acceptD                       object\n",
      "addrState                     object\n",
      "addrZip                       object\n",
      "allUtil                       float64\n",
      "annualInc                     float64\n",
      "annualIncJoint                float64\n",
      "applicationType               object\n",
      "avgCurBal                     int64\n",
      "bcOpenToBuy                   float64\n",
      "bcUtil                        float64\n",
      "chargeoffWithin12Mths         int64\n",
      "collections12MthsExMed        int64\n",
      "creditPullD                   object\n",
      "delinq2Yrs                    int64\n",
      "delinqAmnt                    float64\n",
      "desc                          object\n",
      "dti                           float64\n",
      "dtiJoint                      float64\n",
      "earliestCrLine                object\n",
      "empLength                     float64\n",
      "empTitle                      object\n",
      "expD                          object\n",
      "expDefaultRate                float64\n",
      "ficoRangeHigh                 int64\n",
      "ficoRangeLow                  int64\n",
      "fundedAmount                  float64\n",
      "grade                         object\n",
      "homeOwnership                 object\n",
      "iLUtil                        float64\n",
      "id                            int64\n",
      "ilsExpD                       object\n",
      "initialListStatus             object\n",
      "inqFi                         int64\n",
      "inqLast12m                    int64\n",
      "inqLast6Mths                  int64\n",
      "installment                   float64\n",
      "intRate                       float64\n",
      "investorCount                 object\n",
      "isIncV                        object\n",
      "isIncVJoint                   object\n",
      "listD                         object\n",
      "loanAmount                    float64\n",
      "maxBalBc                      float64\n",
      "memberId                      int64\n",
      "moSinOldIlAcct                float64\n",
      "moSinOldRevTlOp               int64\n",
      "moSinRcntRevTlOp              int64\n",
      "moSinRcntTl                   int64\n",
      "mortAcc                       int64\n",
      "mthsSinceLastDelinq           float64\n",
      "mthsSinceLastMajorDerog       float64\n",
      "mthsSinceLastRecord           float64\n",
      "mthsSinceRcntIl               float64\n",
      "mthsSinceRecentBc             float64\n",
      "mthsSinceRecentBcDlq          float64\n",
      "mthsSinceRecentInq            float64\n",
      "mthsSinceRecentRevolDelinq    float64\n",
      "numAcctsEver120Ppd            int64\n",
      "numActvBcTl                   int64\n",
      "numActvRevTl                  int64\n",
      "numBcSats                     int64\n",
      "numBcTl                       int64\n",
      "numIlTl                       int64\n",
      "numOpRevTl                    int64\n",
      "numRevAccts                   int64\n",
      "numRevTlBalGt0                int64\n",
      "numSats                       int64\n",
      "numTl120dpd2m                 float64\n",
      "numTl30dpd                    int64\n",
      "numTl90gDpd24m                int64\n",
      "numTlOpPast12m                int64\n",
      "openAcc                       int64\n",
      "openAcc6m                     int64\n",
      "openIl12m                     int64\n",
      "openIl24m                     int64\n",
      "openIl6m                      int64\n",
      "openRv12m                     int64\n",
      "openRv24m                     int64\n",
      "pctTlNvrDlq                   int64\n",
      "percentBcGt75                 float64\n",
      "pubRec                        int64\n",
      "pubRecBankruptcies            int64\n",
      "purpose                       object\n",
      "reviewStatus                  object\n",
      "reviewStatusD                 object\n",
      "revolBal                      float64\n",
      "revolUtil                     float64\n",
      "serviceFeeRate                float64\n",
      "subGrade                      object\n",
      "taxLiens                      int64\n",
      "term                          int64\n",
      "totCollAmt                    int64\n",
      "totCurBal                     int64\n",
      "totHiCredLim                  int64\n",
      "totalAcc                      int64\n",
      "totalBalExMort                int64\n",
      "totalBalIl                    float64\n",
      "totalBcLimit                  int64\n",
      "totalCuTl                     int64\n",
      "totalIlHighCreditLimit        int64\n",
      "totalRevHiLim                 int64\n",
      "month                         int64\n",
      "dtypes: float64(31), int64(52), object(21)\n",
      "memory usage: 316.9+ KB\n"
     ]
    }
   ],
   "source": [
    "loans_df.info(verbose=True)"
   ]
  },
  {
   "cell_type": "code",
   "execution_count": null,
   "metadata": {
    "collapsed": true
   },
   "outputs": [],
   "source": []
  },
  {
   "cell_type": "code",
   "execution_count": null,
   "metadata": {
    "collapsed": true
   },
   "outputs": [],
   "source": [
    "# Columns to match the data model\n",
    "# empLength is in months - convert to years\n",
    "cols [['fundedAmount','intRate','installment','empLength','annualInc','dti','delinq2Yrs','inqLast6Mths',\n",
    "       'mthsSinceLastDelinq','mthsSinceLastRecord','openAcc','pubRec','revolBal','revolUtil','totalAcc',\n",
    "      'collections12MthsExMed','mthsSinceLastMajorDerog','accNowDelinq','totCollAmt','totCurBal','openAcc6m',\n",
    "      'openIl6m','openIl12m','openIl24m','iLUtil','maxBalBc','allUtil','totalRevHiLim','inqLast12m','accOpenPast24Mths',\n",
    "      'avgCurBal','bcUtil','chargeoffWithin12Mths','delinqAmnt','moSinOldIlAcct','moSinOldRevTlOp','moSinRcntRevTlOp',\n",
    "      'moSinRcntTl','mortAcc','mthsSinceRecentBc','mthsSinceRecentBcDlq','mthsSinceRecentInq','mthsSinceRecentRevolDelinq',\n",
    "      'numAcctsEver120Ppd','numActvBcTl','numActvRevTl','numBcSats','numBcTl','numIlTl','numOpRevTl','numRevAccts',\n",
    "      'numRevTlBalGt0','numSats','numTl120dpd2m','numTl30dpd','numTl90gDpd24m','numTlOpPast12m','pctTlNvrDlq',\n",
    "      'percentBcGt75','pubRecBankruptcies','taxLiens','totHiCredLim','totalBalExMort','totalBcLimit','totalIlHighCreditLimit',\n",
    "      'month','term','term_36','term_60','grade_a','grade_b','grade_c','grade_d','grade_e','grade_f','grade_g',\n",
    "      '']]\n",
    "\n",
    "\n"
   ]
  },
  {
   "cell_type": "code",
   "execution_count": null,
   "metadata": {
    "collapsed": true
   },
   "outputs": [],
   "source": []
  },
  {
   "cell_type": "code",
   "execution_count": null,
   "metadata": {
    "collapsed": true
   },
   "outputs": [],
   "source": [
    "- no funded_amnt_inv\n",
    "- changed emp_length to month\n",
    "- no 'total_rec_late_fee'\n",
    "- no recoveries\n",
    "- no collection_recovery_fee\n",
    "- no policy code\n",
    "- no bc_open_to_buy\n",
    "- no repaid"
   ]
  },
  {
   "cell_type": "markdown",
   "metadata": {
    "collapsed": true
   },
   "source": [
    "# Data Model\n",
    "```['loan_amnt',\n",
    " 'funded_amnt',\n",
    " 'funded_amnt_inv',\n",
    " 'int_rate',\n",
    " 'installment',\n",
    " 'emp_length',\n",
    " 'annual_inc',\n",
    " 'dti',\n",
    " 'delinq_2yrs',\n",
    " 'inq_last_6mths',\n",
    " 'mths_since_last_delinq',\n",
    " 'mths_since_last_record',\n",
    " 'open_acc',\n",
    " 'pub_rec',\n",
    " 'revol_bal',\n",
    " 'revol_util',\n",
    " 'total_acc',\n",
    " 'total_rec_late_fee',\n",
    " 'recoveries',\n",
    " 'collection_recovery_fee',\n",
    " 'collections_12_mths_ex_med',\n",
    " 'mths_since_last_major_derog',\n",
    " 'policy_code',\n",
    " 'acc_now_delinq',\n",
    " 'tot_coll_amt',\n",
    " 'tot_cur_bal',\n",
    " 'open_acc_6m',\n",
    " 'open_il_6m',\n",
    " 'open_il_12m',\n",
    " 'open_il_24m',\n",
    " 'total_bal_il',\n",
    " 'il_util',\n",
    " 'max_bal_bc',\n",
    " 'all_util',\n",
    " 'total_rev_hi_lim',\n",
    " 'inq_last_12m',\n",
    " 'acc_open_past_24mths',\n",
    " 'avg_cur_bal',\n",
    " 'bc_open_to_buy',\n",
    " 'bc_util',\n",
    " 'chargeoff_within_12_mths',\n",
    " 'delinq_amnt',\n",
    " 'mo_sin_old_il_acct',\n",
    " 'mo_sin_old_rev_tl_op',\n",
    " 'mo_sin_rcnt_rev_tl_op',\n",
    " 'mo_sin_rcnt_tl',\n",
    " 'mort_acc',\n",
    " 'mths_since_recent_bc',\n",
    " 'mths_since_recent_bc_dlq',\n",
    " 'mths_since_recent_inq',\n",
    " 'mths_since_recent_revol_delinq',\n",
    " 'num_accts_ever_120_pd',\n",
    " 'num_actv_bc_tl',\n",
    " 'num_actv_rev_tl',\n",
    " 'num_bc_sats',\n",
    " 'num_bc_tl',\n",
    " 'num_il_tl',\n",
    " 'num_op_rev_tl',\n",
    " 'num_rev_accts',\n",
    " 'num_rev_tl_bal_gt_0',\n",
    " 'num_sats',\n",
    " 'num_tl_120dpd_2m',\n",
    " 'num_tl_30dpd',\n",
    " 'num_tl_90g_dpd_24m',\n",
    " 'num_tl_op_past_12m',\n",
    " 'pct_tl_nvr_dlq',\n",
    " 'percent_bc_gt_75',\n",
    " 'pub_rec_bankruptcies',\n",
    " 'tax_liens',\n",
    " 'tot_hi_cred_lim',\n",
    " 'total_bal_ex_mort',\n",
    " 'total_bc_limit',\n",
    " 'total_il_high_credit_limit',\n",
    " 'repaid',\n",
    " 'month',\n",
    " 'term_ 36 months',\n",
    " 'term_ 60 months',\n",
    " 'grade_A',\n",
    " 'grade_B',\n",
    " 'grade_C',\n",
    " 'grade_D',\n",
    " 'grade_E',\n",
    " 'grade_F',\n",
    " 'grade_G',\n",
    " -'home_ownership_ANY',\n",
    " 'home_ownership_MORTGAGE',\n",
    " 'home_ownership_NONE',\n",
    " 'home_ownership_OTHER',\n",
    " 'home_ownership_OWN',\n",
    " 'home_ownership_RENT',\n",
    " 'pymnt_plan_n',\n",
    " 'pymnt_plan_y',\n",
    " 'purpose_car',\n",
    " 'purpose_credit_card',\n",
    " 'purpose_debt_consolidation',\n",
    " 'purpose_educational',\n",
    " 'purpose_home_improvement',\n",
    " 'purpose_house',\n",
    " 'purpose_major_purchase',\n",
    " 'purpose_medical',\n",
    " 'purpose_moving',\n",
    " 'purpose_other',\n",
    " 'purpose_renewable_energy',\n",
    " 'purpose_small_business',\n",
    " 'purpose_vacation',\n",
    " 'purpose_wedding',\n",
    " 'addr_state_AK',\n",
    " 'addr_state_AL',\n",
    " 'addr_state_AR',\n",
    " 'addr_state_AZ',\n",
    " 'addr_state_CA',\n",
    " 'addr_state_CO',\n",
    " 'addr_state_CT',\n",
    " 'addr_state_DC',\n",
    " 'addr_state_DE',\n",
    " 'addr_state_FL',\n",
    " 'addr_state_GA',\n",
    " 'addr_state_HI',\n",
    " 'addr_state_IA',\n",
    " 'addr_state_ID',\n",
    " 'addr_state_IL',\n",
    " 'addr_state_IN',\n",
    " 'addr_state_KS',\n",
    " 'addr_state_KY',\n",
    " 'addr_state_LA',\n",
    " 'addr_state_MA',\n",
    " 'addr_state_MD',\n",
    " 'addr_state_ME',\n",
    " 'addr_state_MI',\n",
    " 'addr_state_MN',\n",
    " 'addr_state_MO',\n",
    " 'addr_state_MS',\n",
    " 'addr_state_MT',\n",
    " 'addr_state_NC',\n",
    " 'addr_state_ND',\n",
    " 'addr_state_NE',\n",
    " 'addr_state_NH',\n",
    " 'addr_state_NJ',\n",
    " 'addr_state_NM',\n",
    " 'addr_state_NV',\n",
    " 'addr_state_NY',\n",
    " 'addr_state_OH',\n",
    " 'addr_state_OK',\n",
    " 'addr_state_OR',\n",
    " 'addr_state_PA',\n",
    " 'addr_state_RI',\n",
    " 'addr_state_SC',\n",
    " 'addr_state_SD',\n",
    " 'addr_state_TN',\n",
    " 'addr_state_TX',\n",
    " 'addr_state_UT',\n",
    " 'addr_state_VA',\n",
    " 'addr_state_VT',\n",
    " 'addr_state_WA',\n",
    " 'addr_state_WI',\n",
    " 'addr_state_WV',\n",
    " 'addr_state_WY']```"
   ]
  },
  {
   "cell_type": "code",
   "execution_count": null,
   "metadata": {
    "collapsed": true
   },
   "outputs": [],
   "source": []
  }
 ],
 "metadata": {
  "kernelspec": {
   "display_name": "Python 2",
   "language": "python",
   "name": "python2"
  },
  "language_info": {
   "codemirror_mode": {
    "name": "ipython",
    "version": 2
   },
   "file_extension": ".py",
   "mimetype": "text/x-python",
   "name": "python",
   "nbconvert_exporter": "python",
   "pygments_lexer": "ipython2",
   "version": "2.7.13"
  }
 },
 "nbformat": 4,
 "nbformat_minor": 2
}
