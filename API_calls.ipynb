{
 "cells": [
  {
   "cell_type": "code",
   "execution_count": 268,
   "metadata": {},
   "outputs": [],
   "source": [
    "import requests\n",
    "import os\n",
    "import yaml\n",
    "import pandas as pd\n",
    "import numpy as np\n",
    "import re\n",
    "import pickle\n",
    "from keras.models import model_from_json\n",
    "from sklearn.externals import joblib\n",
    "import json"
   ]
  },
  {
   "cell_type": "markdown",
   "metadata": {},
   "source": [
    "- Import credentials"
   ]
  },
  {
   "cell_type": "code",
   "execution_count": 217,
   "metadata": {
    "collapsed": true
   },
   "outputs": [],
   "source": [
    "credentials = yaml.load(open(os.path.expanduser('~/.ssh/lending_club_api.yml')))"
   ]
  },
  {
   "cell_type": "code",
   "execution_count": 218,
   "metadata": {},
   "outputs": [
    {
     "data": {
      "text/plain": [
       "{'account_id': 71351615, 'authentication': 'lOYMBaOCpJorkX62/RCOZ1Vezn0='}"
      ]
     },
     "execution_count": 218,
     "metadata": {},
     "output_type": "execute_result"
    }
   ],
   "source": [
    "credentials"
   ]
  },
  {
   "cell_type": "code",
   "execution_count": 219,
   "metadata": {
    "collapsed": true
   },
   "outputs": [],
   "source": [
    "account_id = credentials['account_id']"
   ]
  },
  {
   "cell_type": "code",
   "execution_count": 220,
   "metadata": {},
   "outputs": [
    {
     "data": {
      "text/plain": [
       "71351615"
      ]
     },
     "execution_count": 220,
     "metadata": {},
     "output_type": "execute_result"
    }
   ],
   "source": [
    "account_id"
   ]
  },
  {
   "cell_type": "markdown",
   "metadata": {},
   "source": [
    "- Make the api call for the portfolios owned\n",
    "    - Find the API portfolio to put loans into"
   ]
  },
  {
   "cell_type": "code",
   "execution_count": 221,
   "metadata": {
    "collapsed": true
   },
   "outputs": [],
   "source": [
    "portfolio_r = requests.get(\"https://api.lendingclub.com/api/investor/v1/accounts/{}/portfolios\".format(account_id),\n",
    "                 headers={'Authorization': credentials['authentication'],'Content-Type': 'application/json',\n",
    "                          'Accept': 'application/json'}, params = {'showAll':'true'})"
   ]
  },
  {
   "cell_type": "code",
   "execution_count": 222,
   "metadata": {
    "collapsed": true
   },
   "outputs": [],
   "source": [
    "portfolio_id = 0\n",
    "for portfolio in portfolio_r.json()['myPortfolios']:\n",
    "    if portfolio['portfolioName']=='api': # Put api orders in this portfolio\n",
    "        portfolio_id = portfolio['portfolioId']\n",
    "    "
   ]
  },
  {
   "cell_type": "markdown",
   "metadata": {},
   "source": [
    "- Make the API call to see the loans listed"
   ]
  },
  {
   "cell_type": "code",
   "execution_count": 223,
   "metadata": {
    "collapsed": true
   },
   "outputs": [],
   "source": [
    "\n",
    "r = requests.get('https://api.lendingclub.com/api/investor/v1/loans/listing',\n",
    "                 headers={'Authorization': credentials['authentication'],'Content-Type': 'application/json',\n",
    "                          'Accept': 'application/json'}, params = {'showAll':'true'})"
   ]
  },
  {
   "cell_type": "code",
   "execution_count": 224,
   "metadata": {},
   "outputs": [
    {
     "data": {
      "text/plain": [
       "<Response [200]>"
      ]
     },
     "execution_count": 224,
     "metadata": {},
     "output_type": "execute_result"
    }
   ],
   "source": [
    "r"
   ]
  },
  {
   "cell_type": "code",
   "execution_count": 225,
   "metadata": {
    "collapsed": true
   },
   "outputs": [],
   "source": [
    "json_response =  r.json()"
   ]
  },
  {
   "cell_type": "code",
   "execution_count": 226,
   "metadata": {},
   "outputs": [
    {
     "data": {
      "text/plain": [
       "[u'loans', u'asOfDate']"
      ]
     },
     "execution_count": 226,
     "metadata": {},
     "output_type": "execute_result"
    }
   ],
   "source": [
    "json_response.keys()"
   ]
  },
  {
   "cell_type": "code",
   "execution_count": 227,
   "metadata": {
    "collapsed": true
   },
   "outputs": [],
   "source": [
    "test_loan = json_response['loans'][50]"
   ]
  },
  {
   "cell_type": "code",
   "execution_count": 228,
   "metadata": {},
   "outputs": [
    {
     "data": {
      "text/plain": [
       "u'debt_consolidation'"
      ]
     },
     "execution_count": 228,
     "metadata": {},
     "output_type": "execute_result"
    }
   ],
   "source": [
    "test_loan['purpose']"
   ]
  },
  {
   "cell_type": "markdown",
   "metadata": {},
   "source": [
    "- Convert to DF"
   ]
  },
  {
   "cell_type": "code",
   "execution_count": 229,
   "metadata": {
    "collapsed": true
   },
   "outputs": [],
   "source": [
    "loans_df = pd.DataFrame(json_response['loans'])"
   ]
  },
  {
   "cell_type": "code",
   "execution_count": 230,
   "metadata": {},
   "outputs": [
    {
     "data": {
      "text/html": [
       "<div>\n",
       "<style>\n",
       "    .dataframe thead tr:only-child th {\n",
       "        text-align: right;\n",
       "    }\n",
       "\n",
       "    .dataframe thead th {\n",
       "        text-align: left;\n",
       "    }\n",
       "\n",
       "    .dataframe tbody tr th {\n",
       "        vertical-align: top;\n",
       "    }\n",
       "</style>\n",
       "<table border=\"1\" class=\"dataframe\">\n",
       "  <thead>\n",
       "    <tr style=\"text-align: right;\">\n",
       "      <th></th>\n",
       "      <th>accNowDelinq</th>\n",
       "      <th>accOpenPast24Mths</th>\n",
       "      <th>acceptD</th>\n",
       "      <th>addrState</th>\n",
       "      <th>addrZip</th>\n",
       "      <th>allUtil</th>\n",
       "      <th>annualInc</th>\n",
       "      <th>annualIncJoint</th>\n",
       "      <th>applicationType</th>\n",
       "      <th>avgCurBal</th>\n",
       "      <th>...</th>\n",
       "      <th>totCollAmt</th>\n",
       "      <th>totCurBal</th>\n",
       "      <th>totHiCredLim</th>\n",
       "      <th>totalAcc</th>\n",
       "      <th>totalBalExMort</th>\n",
       "      <th>totalBalIl</th>\n",
       "      <th>totalBcLimit</th>\n",
       "      <th>totalCuTl</th>\n",
       "      <th>totalIlHighCreditLimit</th>\n",
       "      <th>totalRevHiLim</th>\n",
       "    </tr>\n",
       "  </thead>\n",
       "  <tbody>\n",
       "    <tr>\n",
       "      <th>0</th>\n",
       "      <td>0</td>\n",
       "      <td>2</td>\n",
       "      <td>2017-09-30T17:46:38.000-07:00</td>\n",
       "      <td>MA</td>\n",
       "      <td>021xx</td>\n",
       "      <td>21.4</td>\n",
       "      <td>49000.0</td>\n",
       "      <td>NaN</td>\n",
       "      <td>INDIVIDUAL</td>\n",
       "      <td>2697</td>\n",
       "      <td>...</td>\n",
       "      <td>0</td>\n",
       "      <td>16181</td>\n",
       "      <td>75850</td>\n",
       "      <td>17</td>\n",
       "      <td>16181</td>\n",
       "      <td>15357.0</td>\n",
       "      <td>51300</td>\n",
       "      <td>0</td>\n",
       "      <td>24550</td>\n",
       "      <td>51300</td>\n",
       "    </tr>\n",
       "    <tr>\n",
       "      <th>1</th>\n",
       "      <td>0</td>\n",
       "      <td>3</td>\n",
       "      <td>2017-10-03T13:04:40.000-07:00</td>\n",
       "      <td>NH</td>\n",
       "      <td>038xx</td>\n",
       "      <td>77.8</td>\n",
       "      <td>152028.0</td>\n",
       "      <td>NaN</td>\n",
       "      <td>INDIVIDUAL</td>\n",
       "      <td>63996</td>\n",
       "      <td>...</td>\n",
       "      <td>0</td>\n",
       "      <td>511971</td>\n",
       "      <td>527824</td>\n",
       "      <td>21</td>\n",
       "      <td>23664</td>\n",
       "      <td>0.0</td>\n",
       "      <td>23900</td>\n",
       "      <td>0</td>\n",
       "      <td>0</td>\n",
       "      <td>30400</td>\n",
       "    </tr>\n",
       "    <tr>\n",
       "      <th>2</th>\n",
       "      <td>0</td>\n",
       "      <td>3</td>\n",
       "      <td>2017-09-19T16:01:49.000-07:00</td>\n",
       "      <td>IL</td>\n",
       "      <td>622xx</td>\n",
       "      <td>53.3</td>\n",
       "      <td>45000.0</td>\n",
       "      <td>NaN</td>\n",
       "      <td>INDIVIDUAL</td>\n",
       "      <td>3049</td>\n",
       "      <td>...</td>\n",
       "      <td>0</td>\n",
       "      <td>24391</td>\n",
       "      <td>45777</td>\n",
       "      <td>13</td>\n",
       "      <td>24391</td>\n",
       "      <td>3198.0</td>\n",
       "      <td>19000</td>\n",
       "      <td>2</td>\n",
       "      <td>16077</td>\n",
       "      <td>29700</td>\n",
       "    </tr>\n",
       "    <tr>\n",
       "      <th>3</th>\n",
       "      <td>0</td>\n",
       "      <td>4</td>\n",
       "      <td>2017-10-04T07:15:43.000-07:00</td>\n",
       "      <td>VA</td>\n",
       "      <td>234xx</td>\n",
       "      <td>74.9</td>\n",
       "      <td>33000.0</td>\n",
       "      <td>145000.0</td>\n",
       "      <td>JOINT</td>\n",
       "      <td>9592</td>\n",
       "      <td>...</td>\n",
       "      <td>0</td>\n",
       "      <td>67142</td>\n",
       "      <td>90629</td>\n",
       "      <td>21</td>\n",
       "      <td>67142</td>\n",
       "      <td>52794.0</td>\n",
       "      <td>2800</td>\n",
       "      <td>9</td>\n",
       "      <td>73529</td>\n",
       "      <td>17100</td>\n",
       "    </tr>\n",
       "    <tr>\n",
       "      <th>4</th>\n",
       "      <td>0</td>\n",
       "      <td>1</td>\n",
       "      <td>2017-09-15T20:40:15.000-07:00</td>\n",
       "      <td>CA</td>\n",
       "      <td>960xx</td>\n",
       "      <td>78.3</td>\n",
       "      <td>70000.0</td>\n",
       "      <td>NaN</td>\n",
       "      <td>INDIVIDUAL</td>\n",
       "      <td>44958</td>\n",
       "      <td>...</td>\n",
       "      <td>0</td>\n",
       "      <td>314705</td>\n",
       "      <td>356571</td>\n",
       "      <td>9</td>\n",
       "      <td>50439</td>\n",
       "      <td>26040.0</td>\n",
       "      <td>30100</td>\n",
       "      <td>0</td>\n",
       "      <td>34322</td>\n",
       "      <td>30100</td>\n",
       "    </tr>\n",
       "  </tbody>\n",
       "</table>\n",
       "<p>5 rows × 103 columns</p>\n",
       "</div>"
      ],
      "text/plain": [
       "   accNowDelinq  accOpenPast24Mths                        acceptD addrState  \\\n",
       "0             0                  2  2017-09-30T17:46:38.000-07:00        MA   \n",
       "1             0                  3  2017-10-03T13:04:40.000-07:00        NH   \n",
       "2             0                  3  2017-09-19T16:01:49.000-07:00        IL   \n",
       "3             0                  4  2017-10-04T07:15:43.000-07:00        VA   \n",
       "4             0                  1  2017-09-15T20:40:15.000-07:00        CA   \n",
       "\n",
       "  addrZip  allUtil  annualInc  annualIncJoint applicationType  avgCurBal  \\\n",
       "0   021xx     21.4    49000.0             NaN      INDIVIDUAL       2697   \n",
       "1   038xx     77.8   152028.0             NaN      INDIVIDUAL      63996   \n",
       "2   622xx     53.3    45000.0             NaN      INDIVIDUAL       3049   \n",
       "3   234xx     74.9    33000.0        145000.0           JOINT       9592   \n",
       "4   960xx     78.3    70000.0             NaN      INDIVIDUAL      44958   \n",
       "\n",
       "       ...        totCollAmt  totCurBal  totHiCredLim  totalAcc  \\\n",
       "0      ...                 0      16181         75850        17   \n",
       "1      ...                 0     511971        527824        21   \n",
       "2      ...                 0      24391         45777        13   \n",
       "3      ...                 0      67142         90629        21   \n",
       "4      ...                 0     314705        356571         9   \n",
       "\n",
       "  totalBalExMort  totalBalIl  totalBcLimit totalCuTl  totalIlHighCreditLimit  \\\n",
       "0          16181     15357.0         51300         0                   24550   \n",
       "1          23664         0.0         23900         0                       0   \n",
       "2          24391      3198.0         19000         2                   16077   \n",
       "3          67142     52794.0          2800         9                   73529   \n",
       "4          50439     26040.0         30100         0                   34322   \n",
       "\n",
       "   totalRevHiLim  \n",
       "0          51300  \n",
       "1          30400  \n",
       "2          29700  \n",
       "3          17100  \n",
       "4          30100  \n",
       "\n",
       "[5 rows x 103 columns]"
      ]
     },
     "execution_count": 230,
     "metadata": {},
     "output_type": "execute_result"
    }
   ],
   "source": [
    "loans_df.head()"
   ]
  },
  {
   "cell_type": "code",
   "execution_count": 231,
   "metadata": {},
   "outputs": [
    {
     "name": "stdout",
     "output_type": "stream",
     "text": [
      "<class 'pandas.core.frame.DataFrame'>\n",
      "RangeIndex: 211 entries, 0 to 210\n",
      "Data columns (total 103 columns):\n",
      "accNowDelinq                  int64\n",
      "accOpenPast24Mths             int64\n",
      "acceptD                       object\n",
      "addrState                     object\n",
      "addrZip                       object\n",
      "allUtil                       float64\n",
      "annualInc                     float64\n",
      "annualIncJoint                float64\n",
      "applicationType               object\n",
      "avgCurBal                     int64\n",
      "bcOpenToBuy                   float64\n",
      "bcUtil                        float64\n",
      "chargeoffWithin12Mths         int64\n",
      "collections12MthsExMed        int64\n",
      "creditPullD                   object\n",
      "delinq2Yrs                    int64\n",
      "delinqAmnt                    float64\n",
      "desc                          object\n",
      "dti                           float64\n",
      "dtiJoint                      float64\n",
      "earliestCrLine                object\n",
      "empLength                     float64\n",
      "empTitle                      object\n",
      "expD                          object\n",
      "expDefaultRate                float64\n",
      "ficoRangeHigh                 int64\n",
      "ficoRangeLow                  int64\n",
      "fundedAmount                  float64\n",
      "grade                         object\n",
      "homeOwnership                 object\n",
      "iLUtil                        float64\n",
      "id                            int64\n",
      "ilsExpD                       object\n",
      "initialListStatus             object\n",
      "inqFi                         int64\n",
      "inqLast12m                    int64\n",
      "inqLast6Mths                  int64\n",
      "installment                   float64\n",
      "intRate                       float64\n",
      "investorCount                 object\n",
      "isIncV                        object\n",
      "isIncVJoint                   object\n",
      "listD                         object\n",
      "loanAmount                    float64\n",
      "maxBalBc                      float64\n",
      "memberId                      int64\n",
      "moSinOldIlAcct                float64\n",
      "moSinOldRevTlOp               int64\n",
      "moSinRcntRevTlOp              int64\n",
      "moSinRcntTl                   int64\n",
      "mortAcc                       int64\n",
      "mthsSinceLastDelinq           float64\n",
      "mthsSinceLastMajorDerog       float64\n",
      "mthsSinceLastRecord           float64\n",
      "mthsSinceRcntIl               float64\n",
      "mthsSinceRecentBc             float64\n",
      "mthsSinceRecentBcDlq          float64\n",
      "mthsSinceRecentInq            float64\n",
      "mthsSinceRecentRevolDelinq    float64\n",
      "numAcctsEver120Ppd            int64\n",
      "numActvBcTl                   int64\n",
      "numActvRevTl                  int64\n",
      "numBcSats                     int64\n",
      "numBcTl                       int64\n",
      "numIlTl                       int64\n",
      "numOpRevTl                    int64\n",
      "numRevAccts                   int64\n",
      "numRevTlBalGt0                int64\n",
      "numSats                       int64\n",
      "numTl120dpd2m                 float64\n",
      "numTl30dpd                    int64\n",
      "numTl90gDpd24m                int64\n",
      "numTlOpPast12m                int64\n",
      "openAcc                       int64\n",
      "openAcc6m                     int64\n",
      "openIl12m                     int64\n",
      "openIl24m                     int64\n",
      "openIl6m                      int64\n",
      "openRv12m                     int64\n",
      "openRv24m                     int64\n",
      "pctTlNvrDlq                   int64\n",
      "percentBcGt75                 float64\n",
      "pubRec                        int64\n",
      "pubRecBankruptcies            int64\n",
      "purpose                       object\n",
      "reviewStatus                  object\n",
      "reviewStatusD                 object\n",
      "revolBal                      float64\n",
      "revolUtil                     float64\n",
      "serviceFeeRate                float64\n",
      "subGrade                      object\n",
      "taxLiens                      int64\n",
      "term                          int64\n",
      "totCollAmt                    int64\n",
      "totCurBal                     int64\n",
      "totHiCredLim                  int64\n",
      "totalAcc                      int64\n",
      "totalBalExMort                int64\n",
      "totalBalIl                    float64\n",
      "totalBcLimit                  int64\n",
      "totalCuTl                     int64\n",
      "totalIlHighCreditLimit        int64\n",
      "totalRevHiLim                 int64\n",
      "dtypes: float64(31), int64(51), object(21)\n",
      "memory usage: 169.9+ KB\n"
     ]
    }
   ],
   "source": [
    "loans_df.info(verbose=True)"
   ]
  },
  {
   "cell_type": "code",
   "execution_count": 232,
   "metadata": {},
   "outputs": [
    {
     "data": {
      "text/plain": [
       "0    120158005\n",
       "1    120215482\n",
       "2    119304363\n",
       "3    120234827\n",
       "4    118945408\n",
       "Name: id, dtype: int64"
      ]
     },
     "execution_count": 232,
     "metadata": {},
     "output_type": "execute_result"
    }
   ],
   "source": [
    "loans_df.id.head()"
   ]
  },
  {
   "cell_type": "markdown",
   "metadata": {},
   "source": [
    "#### Convert EmpLength to years"
   ]
  },
  {
   "cell_type": "code",
   "execution_count": 233,
   "metadata": {
    "collapsed": true
   },
   "outputs": [],
   "source": [
    "loans_df.empLength = loans_df.empLength.apply(lambda x: x/60 if x >0 else 0)"
   ]
  },
  {
   "cell_type": "markdown",
   "metadata": {},
   "source": [
    "#### Create month to int 1-12"
   ]
  },
  {
   "cell_type": "code",
   "execution_count": 234,
   "metadata": {
    "collapsed": true
   },
   "outputs": [],
   "source": [
    "loans_df['month'] = loans_df.acceptD.apply(lambda x: pd.to_datetime(x).month)"
   ]
  },
  {
   "cell_type": "markdown",
   "metadata": {},
   "source": [
    "#### Crea cols term_36 and term_60"
   ]
  },
  {
   "cell_type": "code",
   "execution_count": 235,
   "metadata": {
    "collapsed": true
   },
   "outputs": [],
   "source": [
    "loans_df['term_36'] = [1 if i ==36 else 0 for i in loans_df.term]"
   ]
  },
  {
   "cell_type": "code",
   "execution_count": 236,
   "metadata": {
    "collapsed": true
   },
   "outputs": [],
   "source": [
    "loans_df['term_60'] = [1 if i ==60 else 0 for i in loans_df.term]"
   ]
  },
  {
   "cell_type": "markdown",
   "metadata": {},
   "source": [
    "#### Create grade columns\n",
    "- a:g"
   ]
  },
  {
   "cell_type": "code",
   "execution_count": 237,
   "metadata": {
    "collapsed": true
   },
   "outputs": [],
   "source": [
    "loans_df['grade_a'] = [1 if i =='A' else 0 for i in loans_df.grade]\n",
    "loans_df['grade_b']= [1 if i =='B' else 0 for i in loans_df.grade]\n",
    "loans_df['grade_c']= [1 if i =='C' else 0 for i in loans_df.grade]\n",
    "loans_df['grade_d']= [1 if i =='D' else 0 for i in loans_df.grade]\n",
    "loans_df['grade_e']= [1 if i =='E' else 0 for i in loans_df.grade]\n",
    "loans_df['grade_f']= [1 if i =='F' else 0 for i in loans_df.grade]\n",
    "loans_df['grade_g']= [1 if i =='G' else 0 for i in loans_df.grade]"
   ]
  },
  {
   "cell_type": "markdown",
   "metadata": {},
   "source": [
    "### Create home ownership columns\n",
    "-'home_ownership_ANY',\n",
    " 'home_ownership_MORTGAGE',\n",
    " 'home_ownership_NONE',\n",
    " 'home_ownership_OTHER',\n",
    " 'home_ownership_OWN',\n",
    " 'home_ownership_RENT',"
   ]
  },
  {
   "cell_type": "code",
   "execution_count": 238,
   "metadata": {
    "collapsed": true
   },
   "outputs": [],
   "source": [
    "loans_df['home_ownership_any'] = [1 if i =='ANY' else 0 for i in loans_df.homeOwnership]\n",
    "loans_df['home_ownership_mortgage'] = [1 if i =='MORTGAGE' else 0 for i in loans_df.homeOwnership]\n",
    "loans_df['home_ownership_none'] = [1 if i =='NONE' else 0 for i in loans_df.homeOwnership]\n",
    "loans_df['home_ownership_other'] = [1 if i =='OTHER' else 0 for i in loans_df.homeOwnership]\n",
    "loans_df['home_ownership_own'] = [1 if i =='OWN' else 0 for i in loans_df.homeOwnership]\n",
    "loans_df['home_ownership_rent'] = [1 if i =='RENT' else 0 for i in loans_df.homeOwnership]"
   ]
  },
  {
   "cell_type": "markdown",
   "metadata": {},
   "source": [
    "## Create purpose columns\n",
    "-'purpose_credit_card',\n",
    " 'purpose_debt_consolidation',\n",
    " 'purpose_educational',\n",
    " 'purpose_home_improvement',\n",
    " 'purpose_house',\n",
    " 'purpose_major_purchase',\n",
    " 'purpose_medical',\n",
    " 'purpose_moving',\n",
    " 'purpose_other',\n",
    " 'purpose_renewable_energy',\n",
    " 'purpose_small_business',\n",
    " 'purpose_vacation',\n",
    " 'purpose_wedding',"
   ]
  },
  {
   "cell_type": "code",
   "execution_count": 239,
   "metadata": {
    "collapsed": true
   },
   "outputs": [],
   "source": [
    "loans_df['purpose_credit_card'] = [1 if i =='credit_card' else 0 for i in loans_df.purpose]\n",
    "loans_df['purpose_debt_consolidation'] = [1 if i =='debt_consolidation' else 0 for i in loans_df.purpose]\n",
    "loans_df['purpose_educational'] = [1 if i =='educational' else 0 for i in loans_df.purpose]\n",
    "loans_df['purpose_home_improvement'] = [1 if i =='home_improvement' else 0 for i in loans_df.purpose]\n",
    "loans_df['purpose_house'] = [1 if i =='house' else 0 for i in loans_df.purpose]\n",
    "loans_df['purpose_major_purchase'] = [1 if i =='major_purchase' else 0 for i in loans_df.purpose]\n",
    "loans_df['purpose_medical'] = [1 if i =='medical' else 0 for i in loans_df.purpose]\n",
    "loans_df['purpose_moving'] = [1 if i =='moving' else 0 for i in loans_df.purpose]\n",
    "loans_df['purpose_other'] = [1 if i =='other' else 0 for i in loans_df.purpose]\n",
    "loans_df['purpose_renewable_energy'] = [1 if i =='renewable_energy' else 0 for i in loans_df.purpose]\n",
    "loans_df['purpose_small_business'] = [1 if i =='small_business' else 0 for i in loans_df.purpose]\n",
    "loans_df['purpose_vacation'] = [1 if i =='vacation' else 0 for i in loans_df.purpose]\n",
    "loans_df['purpose_wedding'] = [1 if i =='wedding' else 0 for i in loans_df.purpose]\n",
    "loans_df['purpose_car'] = [1 if i =='car' else 0 for i in loans_df.purpose]\n",
    "\n",
    "\n"
   ]
  },
  {
   "cell_type": "markdown",
   "metadata": {},
   "source": [
    "### Create the states columns\n",
    "'addr_state_AK',\n",
    " 'addr_state_AL',\n",
    " 'addr_state_AR',\n",
    " 'addr_state_AZ',\n",
    " 'addr_state_CA',\n",
    " 'addr_state_CO',\n",
    " 'addr_state_CT',\n",
    " 'addr_state_DC',\n",
    " 'addr_state_DE',\n",
    " 'addr_state_FL',\n",
    " 'addr_state_GA',\n",
    " 'addr_state_HI',\n",
    " 'addr_state_IA',\n",
    " 'addr_state_ID',\n",
    " 'addr_state_IL',\n",
    " 'addr_state_IN',\n",
    " 'addr_state_KS',\n",
    " 'addr_state_KY',\n",
    " 'addr_state_LA',\n",
    " 'addr_state_MA',\n",
    " 'addr_state_MD',\n",
    " 'addr_state_ME',\n",
    " 'addr_state_MI',\n",
    " 'addr_state_MN',\n",
    " 'addr_state_MO',\n",
    " 'addr_state_MS',\n",
    " 'addr_state_MT',\n",
    " 'addr_state_NC',\n",
    " 'addr_state_ND',\n",
    " 'addr_state_NE',\n",
    " 'addr_state_NH',\n",
    " 'addr_state_NJ',\n",
    " 'addr_state_NM',\n",
    " 'addr_state_NV',\n",
    " 'addr_state_NY',\n",
    " 'addr_state_OH',\n",
    " 'addr_state_OK',\n",
    " 'addr_state_OR',\n",
    " 'addr_state_PA',\n",
    " 'addr_state_RI',\n",
    " 'addr_state_SC',\n",
    " 'addr_state_SD',\n",
    " 'addr_state_TN',\n",
    " 'addr_state_TX',\n",
    " 'addr_state_UT',\n",
    " 'addr_state_VA',\n",
    " 'addr_state_VT',\n",
    " 'addr_state_WA',\n",
    " 'addr_state_WI',\n",
    " 'addr_state_WV',\n",
    " 'addr_state_WY'"
   ]
  },
  {
   "cell_type": "code",
   "execution_count": 240,
   "metadata": {
    "collapsed": true
   },
   "outputs": [],
   "source": [
    "loans_df['addr_state_AK'] = [1 if i =='AK' else 0 for i in loans_df.addrState]\n",
    "loans_df['addr_state_AL'] = [1 if i =='AL' else 0 for i in loans_df.addrState]\n",
    "loans_df['addr_state_AR'] = [1 if i =='AR' else 0 for i in loans_df.addrState]\n",
    "loans_df['addr_state_AZ'] = [1 if i =='AZ' else 0 for i in loans_df.addrState]\n",
    "loans_df['addr_state_CA'] = [1 if i =='CA' else 0 for i in loans_df.addrState]\n",
    "loans_df['addr_state_CO'] = [1 if i =='CO' else 0 for i in loans_df.addrState]\n",
    "loans_df['addr_state_CT'] = [1 if i =='CT' else 0 for i in loans_df.addrState]\n",
    "loans_df['addr_state_DC'] = [1 if i =='DC' else 0 for i in loans_df.addrState]\n",
    "loans_df['addr_state_DE'] = [1 if i =='DE' else 0 for i in loans_df.addrState]\n",
    "loans_df['addr_state_FL'] = [1 if i =='FL' else 0 for i in loans_df.addrState]\n",
    "loans_df['addr_state_GA'] = [1 if i =='GA' else 0 for i in loans_df.addrState]\n",
    "loans_df['addr_state_HI'] = [1 if i =='HI' else 0 for i in loans_df.addrState]\n",
    "loans_df['addr_state_IA'] = [1 if i =='IA' else 0 for i in loans_df.addrState]\n",
    "loans_df['addr_state_ID'] = [1 if i =='ID' else 0 for i in loans_df.addrState]\n",
    "loans_df['addr_state_IL'] = [1 if i =='IL' else 0 for i in loans_df.addrState]\n",
    "loans_df['addr_state_IN'] = [1 if i =='IN' else 0 for i in loans_df.addrState]\n",
    "loans_df['addr_state_KS'] = [1 if i =='KS' else 0 for i in loans_df.addrState]\n",
    "loans_df['addr_state_KY'] = [1 if i =='KY' else 0 for i in loans_df.addrState]\n",
    "loans_df['addr_state_LA'] = [1 if i =='LA' else 0 for i in loans_df.addrState]\n",
    "loans_df['addr_state_MA'] = [1 if i =='MA' else 0 for i in loans_df.addrState]\n",
    "loans_df['addr_state_MD'] = [1 if i =='MD' else 0 for i in loans_df.addrState]\n",
    "loans_df['addr_state_ME'] = [1 if i =='ME' else 0 for i in loans_df.addrState]\n",
    "loans_df['addr_state_MI'] = [1 if i =='MI' else 0 for i in loans_df.addrState]\n",
    "loans_df['addr_state_MN'] = [1 if i =='MN' else 0 for i in loans_df.addrState]\n",
    "loans_df['addr_state_MO'] = [1 if i =='MO' else 0 for i in loans_df.addrState]\n",
    "loans_df['addr_state_MS'] = [1 if i =='MS' else 0 for i in loans_df.addrState]\n",
    "loans_df['addr_state_MT'] = [1 if i =='MT' else 0 for i in loans_df.addrState]\n",
    "loans_df['addr_state_NC'] = [1 if i =='NC' else 0 for i in loans_df.addrState]\n",
    "loans_df['addr_state_ND'] = [1 if i =='ND' else 0 for i in loans_df.addrState]\n",
    "loans_df['addr_state_NE'] = [1 if i =='NE' else 0 for i in loans_df.addrState]\n",
    "loans_df['addr_state_NH'] = [1 if i =='NH' else 0 for i in loans_df.addrState]\n",
    "loans_df['addr_state_NJ'] = [1 if i =='NJ' else 0 for i in loans_df.addrState]\n",
    "loans_df['addr_state_NM'] = [1 if i =='NM' else 0 for i in loans_df.addrState]\n",
    "loans_df['addr_state_NV'] = [1 if i =='NV' else 0 for i in loans_df.addrState]\n",
    "loans_df['addr_state_NY'] = [1 if i =='NY' else 0 for i in loans_df.addrState]\n",
    "loans_df['addr_state_OH'] = [1 if i =='OH' else 0 for i in loans_df.addrState]\n",
    "loans_df['addr_state_OK'] = [1 if i =='OK' else 0 for i in loans_df.addrState]\n",
    "loans_df['addr_state_OR'] = [1 if i =='OR' else 0 for i in loans_df.addrState]\n",
    "loans_df['addr_state_PA'] = [1 if i =='PA' else 0 for i in loans_df.addrState]\n",
    "loans_df['addr_state_RI'] = [1 if i =='RI' else 0 for i in loans_df.addrState]\n",
    "loans_df['addr_state_SC'] = [1 if i =='SC' else 0 for i in loans_df.addrState]\n",
    "loans_df['addr_state_SD'] = [1 if i =='SD' else 0 for i in loans_df.addrState]\n",
    "loans_df['addr_state_TN'] = [1 if i =='TN' else 0 for i in loans_df.addrState]\n",
    "loans_df['addr_state_TX'] = [1 if i =='TX' else 0 for i in loans_df.addrState]\n",
    "loans_df['addr_state_UT'] = [1 if i =='UT' else 0 for i in loans_df.addrState]\n",
    "loans_df['addr_state_VA'] = [1 if i =='VA' else 0 for i in loans_df.addrState]\n",
    "loans_df['addr_state_VT'] = [1 if i =='VT' else 0 for i in loans_df.addrState]\n",
    "loans_df['addr_state_WA'] = [1 if i =='WA' else 0 for i in loans_df.addrState]\n",
    "loans_df['addr_state_WI'] = [1 if i =='WI' else 0 for i in loans_df.addrState]\n",
    "loans_df['addr_state_WV'] = [1 if i =='WV' else 0 for i in loans_df.addrState]\n",
    "loans_df['addr_state_WY'] = [1 if i =='WY' else 0 for i in loans_df.addrState]\n",
    "\n"
   ]
  },
  {
   "cell_type": "markdown",
   "metadata": {},
   "source": [
    "#### Create the zip code column"
   ]
  },
  {
   "cell_type": "code",
   "execution_count": 241,
   "metadata": {},
   "outputs": [
    {
     "data": {
      "text/plain": [
       "21"
      ]
     },
     "execution_count": 241,
     "metadata": {},
     "output_type": "execute_result"
    }
   ],
   "source": [
    "int(loans_df.addrZip[0][:3])"
   ]
  },
  {
   "cell_type": "markdown",
   "metadata": {},
   "source": [
    "- Drop null zip codes"
   ]
  },
  {
   "cell_type": "code",
   "execution_count": 242,
   "metadata": {
    "collapsed": true
   },
   "outputs": [],
   "source": [
    "loans_df.addrZip = loans_df.addrZip.apply( lambda x: float(x[:3]))"
   ]
  },
  {
   "cell_type": "code",
   "execution_count": 243,
   "metadata": {},
   "outputs": [
    {
     "data": {
      "text/plain": [
       "Index([     u'accNowDelinq', u'accOpenPast24Mths',           u'acceptD',\n",
       "               u'addrState',           u'addrZip',           u'allUtil',\n",
       "               u'annualInc',    u'annualIncJoint',   u'applicationType',\n",
       "               u'avgCurBal',\n",
       "       ...\n",
       "           u'addr_state_SD',     u'addr_state_TN',     u'addr_state_TX',\n",
       "           u'addr_state_UT',     u'addr_state_VA',     u'addr_state_VT',\n",
       "           u'addr_state_WA',     u'addr_state_WI',     u'addr_state_WV',\n",
       "           u'addr_state_WY'],\n",
       "      dtype='object', length=184)"
      ]
     },
     "execution_count": 243,
     "metadata": {},
     "output_type": "execute_result"
    }
   ],
   "source": [
    "loans_df.columns"
   ]
  },
  {
   "cell_type": "code",
   "execution_count": 244,
   "metadata": {
    "collapsed": true
   },
   "outputs": [],
   "source": [
    "# Columns to match the data model\n",
    "# empLength is in months - convert to years\n",
    "api_cols =['loanAmount',\n",
    "           'fundedAmount',\n",
    "           'intRate',\n",
    "           'installment',\n",
    "           'empLength',\n",
    "           'annualInc',\n",
    "           'addrZip',\n",
    "          'dti',\n",
    "           'delinq2Yrs',\n",
    "           'inqLast6Mths',\n",
    "       'mthsSinceLastDelinq',\n",
    "           'mthsSinceLastRecord',\n",
    "           'openAcc',\n",
    "           'pubRec',\n",
    "           'revolBal',\n",
    "           'revolUtil',\n",
    "           'totalAcc',\n",
    "      'collections12MthsExMed',\n",
    "           'mthsSinceLastMajorDerog',\n",
    "           'accNowDelinq',\n",
    "           'totCollAmt',\n",
    "           'totCurBal',\n",
    "           'openAcc6m',\n",
    "      'openIl6m',\n",
    "        'openIl12m',\n",
    "           'openIl24m',\n",
    "           'totalBalIl',\n",
    "           'iLUtil',\n",
    "           'maxBalBc',\n",
    "           'allUtil',\n",
    "        'totalRevHiLim',\n",
    "           'inqLast12m',\n",
    "           'accOpenPast24Mths',\n",
    "      'avgCurBal',\n",
    "           'bcUtil',\n",
    "           'chargeoffWithin12Mths',\n",
    "           'delinqAmnt',\n",
    "           'moSinOldIlAcct',\n",
    "           'moSinOldRevTlOp',\n",
    "           'moSinRcntRevTlOp',\n",
    "     'moSinRcntTl',\n",
    "           'mortAcc',\n",
    "           'mthsSinceRecentBc',\n",
    "           'mthsSinceRecentBcDlq',\n",
    "           'mthsSinceRecentInq',\n",
    "           'mthsSinceRecentRevolDelinq',\n",
    "      'numAcctsEver120Ppd',\n",
    "           'numActvBcTl',\n",
    "           'numActvRevTl',\n",
    "           'numBcSats',\n",
    "           'numBcTl',\n",
    "           'numIlTl',\n",
    "           'numOpRevTl',\n",
    "           'numRevAccts',\n",
    "      'numRevTlBalGt0',\n",
    "           'numSats',\n",
    "           'numTl120dpd2m',\n",
    "           'numTl30dpd',\n",
    "           'numTl90gDpd24m',\n",
    "           'numTlOpPast12m',\n",
    "           'pctTlNvrDlq',\n",
    "      'percentBcGt75',\n",
    "           'pubRecBankruptcies',\n",
    "           'taxLiens',\n",
    "           'totHiCredLim',\n",
    "           'totalBalExMort',\n",
    "           'totalBcLimit',\n",
    "           'totalIlHighCreditLimit',\n",
    "      'month',\n",
    "           'term_36',\n",
    "           'term_60',\n",
    "           'grade_a',\n",
    "           'grade_b',\n",
    "           'grade_c',\n",
    "           'grade_d',\n",
    "           'grade_e',\n",
    "           'grade_f',\n",
    "           'grade_g',\n",
    "      'home_ownership_any','home_ownership_mortgage','home_ownership_none','home_ownership_other','home_ownership_own',\n",
    "      'home_ownership_rent',\n",
    "           'purpose_car','purpose_credit_card','purpose_debt_consolidation','purpose_educational','purpose_home_improvement',\n",
    "      'purpose_house','purpose_major_purchase','purpose_medical','purpose_moving','purpose_other','purpose_renewable_energy',\n",
    "      'purpose_small_business','purpose_vacation','purpose_wedding',\n",
    "           'addr_state_AK','addr_state_AL','addr_state_AR',\n",
    "      'addr_state_AZ','addr_state_CA','addr_state_CO','addr_state_CT','addr_state_DC','addr_state_DE','addr_state_FL',\n",
    "      'addr_state_GA','addr_state_HI','addr_state_IA','addr_state_ID','addr_state_IL','addr_state_IN','addr_state_KS',\n",
    "      'addr_state_KY','addr_state_LA','addr_state_MA','addr_state_MD','addr_state_ME','addr_state_MI','addr_state_MN',\n",
    "      'addr_state_MO','addr_state_MS','addr_state_MT','addr_state_NC','addr_state_ND','addr_state_NE','addr_state_NH',\n",
    "      'addr_state_NJ','addr_state_NM','addr_state_NV','addr_state_NY','addr_state_OH','addr_state_OK','addr_state_OR',\n",
    "      'addr_state_PA','addr_state_RI','addr_state_SC','addr_state_SD','addr_state_TN','addr_state_TX','addr_state_UT',\n",
    "      'addr_state_VA','addr_state_VT','addr_state_WA','addr_state_WI','addr_state_WV','addr_state_WY']\n",
    "\n"
   ]
  },
  {
   "cell_type": "code",
   "execution_count": 245,
   "metadata": {},
   "outputs": [
    {
     "data": {
      "text/plain": [
       "149"
      ]
     },
     "execution_count": 245,
     "metadata": {},
     "output_type": "execute_result"
    }
   ],
   "source": [
    "len(api_cols)"
   ]
  },
  {
   "cell_type": "markdown",
   "metadata": {},
   "source": [
    "### Create the final data frame"
   ]
  },
  {
   "cell_type": "code",
   "execution_count": 246,
   "metadata": {
    "collapsed": true
   },
   "outputs": [],
   "source": [
    "final_api_df = loans_df[api_cols]"
   ]
  },
  {
   "cell_type": "markdown",
   "metadata": {
    "collapsed": true
   },
   "source": [
    "# Data Model\n",
    "#### This is what the model was trained on\n",
    "```'loan_amnt',\n",
    " 'funded_amnt',\n",
    " 'int_rate',\n",
    " 'installment',\n",
    " 'emp_length',\n",
    " 'annual_inc',\n",
    " 'zip_code',\n",
    " 'dti',\n",
    " 'delinq_2yrs',\n",
    " 'inq_last_6mths',\n",
    " 'mths_since_last_delinq',\n",
    " 'mths_since_last_record',\n",
    " 'open_acc',\n",
    " 'pub_rec',\n",
    " 'revol_bal',\n",
    " 'revol_util',\n",
    " 'total_acc',\n",
    " 'collections_12_mths_ex_med',\n",
    " 'mths_since_last_major_derog',\n",
    " 'acc_now_delinq',\n",
    " 'tot_coll_amt',\n",
    " 'tot_cur_bal',\n",
    " 'open_acc_6m',\n",
    " 'open_il_6m',\n",
    " 'open_il_12m',\n",
    " 'open_il_24m',\n",
    " 'total_bal_il',\n",
    " 'il_util',\n",
    " 'max_bal_bc',\n",
    " 'all_util',\n",
    " 'total_rev_hi_lim',\n",
    " 'inq_last_12m',\n",
    " 'acc_open_past_24mths',\n",
    " 'avg_cur_bal',\n",
    " 'bc_util',\n",
    " 'chargeoff_within_12_mths',\n",
    " 'delinq_amnt',\n",
    " 'mo_sin_old_il_acct',\n",
    " 'mo_sin_old_rev_tl_op',\n",
    "'mo_sin_rcnt_rev_tl_op',\n",
    " 'mo_sin_rcnt_tl',\n",
    " 'mort_acc',\n",
    " 'mths_since_recent_bc',\n",
    " 'mths_since_recent_bc_dlq',\n",
    " 'mths_since_recent_inq',\n",
    " 'mths_since_recent_revol_delinq',\n",
    " 'num_accts_ever_120_pd',\n",
    " 'num_actv_bc_tl',\n",
    " 'num_actv_rev_tl',\n",
    " 'num_bc_sats',\n",
    " 'num_bc_tl',\n",
    " 'num_il_tl',\n",
    " 'num_op_rev_tl',\n",
    " 'num_rev_accts',\n",
    " 'num_rev_tl_bal_gt_0',\n",
    " 'num_sats',\n",
    " 'num_tl_120dpd_2m',\n",
    " 'num_tl_30dpd',\n",
    " 'num_tl_90g_dpd_24m',\n",
    " 'num_tl_op_past_12m',\n",
    " 'pct_tl_nvr_dlq',\n",
    " 'percent_bc_gt_75',\n",
    " 'pub_rec_bankruptcies',\n",
    " 'tax_liens',\n",
    " 'tot_hi_cred_lim',\n",
    " 'total_bal_ex_mort',\n",
    " 'total_bc_limit',\n",
    " 'total_il_high_credit_limit',\n",
    " 'month',\n",
    " 'term_ 36 months',\n",
    " 'term_ 60 months',\n",
    " 'grade_A',\n",
    " 'grade_B',\n",
    " 'grade_C',\n",
    " 'grade_D',\n",
    " 'grade_E',\n",
    " 'grade_F',\n",
    " 'grade_G',\n",
    " 'home_ownership_ANY',\n",
    " 'home_ownership_MORTGAGE',\n",
    " 'home_ownership_NONE',\n",
    " 'home_ownership_OTHER',\n",
    " 'home_ownership_OWN',\n",
    " 'home_ownership_RENT',\n",
    " 'purpose_car',\n",
    " 'purpose_credit_card',\n",
    " 'purpose_debt_consolidation',\n",
    " 'purpose_educational',\n",
    " 'purpose_home_improvement',\n",
    " 'purpose_house',\n",
    " 'purpose_major_purchase',\n",
    " 'purpose_medical',\n",
    " 'purpose_moving',\n",
    " 'purpose_other',\n",
    " 'purpose_renewable_energy',\n",
    " 'purpose_small_business',\n",
    " 'purpose_vacation',\n",
    " 'purpose_wedding',\n",
    " 'addr_state_AK',\n",
    " 'addr_state_AL',\n",
    " 'addr_state_AR',\n",
    " 'addr_state_AZ',\n",
    " 'addr_state_CA',\n",
    " 'addr_state_CO',\n",
    " 'addr_state_CT',\n",
    " 'addr_state_DC',\n",
    " 'addr_state_DE',\n",
    " 'addr_state_FL',\n",
    " 'addr_state_GA',\n",
    " 'addr_state_HI',\n",
    " 'addr_state_IA',\n",
    " 'addr_state_ID',\n",
    " 'addr_state_IL',\n",
    " 'addr_state_IN',\n",
    " 'addr_state_KS',\n",
    " 'addr_state_KY',\n",
    " 'addr_state_LA',\n",
    " 'addr_state_MA',\n",
    " 'addr_state_MD',\n",
    " 'addr_state_ME',\n",
    " 'addr_state_MI',\n",
    " 'addr_state_MN',\n",
    " 'addr_state_MO',\n",
    " 'addr_state_MS',\n",
    " 'addr_state_MT',\n",
    " 'addr_state_NC',\n",
    " 'addr_state_ND',\n",
    " 'addr_state_NE',\n",
    " 'addr_state_NH',\n",
    " 'addr_state_NJ',\n",
    " 'addr_state_NM',\n",
    " 'addr_state_NV',\n",
    " 'addr_state_NY',\n",
    " 'addr_state_OH',\n",
    " 'addr_state_OK',\n",
    " 'addr_state_OR',\n",
    " 'addr_state_PA',\n",
    " 'addr_state_RI',\n",
    " 'addr_state_SC',\n",
    " 'addr_state_SD',\n",
    " 'addr_state_TN',\n",
    " 'addr_state_TX',\n",
    " 'addr_state_UT',\n",
    " 'addr_state_VA',\n",
    " 'addr_state_VT',\n",
    " 'addr_state_WA',\n",
    " 'addr_state_WI',\n",
    " 'addr_state_WV',\n",
    " 'addr_state_WY'] ```"
   ]
  },
  {
   "cell_type": "code",
   "execution_count": 247,
   "metadata": {
    "collapsed": true
   },
   "outputs": [],
   "source": [
    "total_x_cols = ['loan_amnt',\n",
    " 'funded_amnt',\n",
    " 'int_rate',\n",
    " 'installment',\n",
    " 'emp_length',\n",
    " 'annual_inc',\n",
    " 'zip_code',\n",
    " 'dti',\n",
    " 'delinq_2yrs',\n",
    " 'inq_last_6mths',\n",
    " 'mths_since_last_delinq',\n",
    " 'mths_since_last_record',\n",
    " 'open_acc',\n",
    " 'pub_rec',\n",
    " 'revol_bal',\n",
    " 'revol_util',\n",
    " 'total_acc',\n",
    " 'collections_12_mths_ex_med',\n",
    " 'mths_since_last_major_derog',\n",
    " 'acc_now_delinq',\n",
    " 'tot_coll_amt',\n",
    " 'tot_cur_bal',\n",
    " 'open_acc_6m',\n",
    " 'open_il_6m',\n",
    " 'open_il_12m',\n",
    " 'open_il_24m',\n",
    " 'total_bal_il',\n",
    " 'il_util',\n",
    " 'max_bal_bc',\n",
    " 'all_util',\n",
    " 'total_rev_hi_lim',\n",
    " 'inq_last_12m',\n",
    " 'acc_open_past_24mths',\n",
    " 'avg_cur_bal',\n",
    " 'bc_util',\n",
    " 'chargeoff_within_12_mths',\n",
    " 'delinq_amnt',\n",
    " 'mo_sin_old_il_acct',\n",
    " 'mo_sin_old_rev_tl_op',\n",
    " 'mo_sin_rcnt_rev_tl_op',\n",
    " 'mo_sin_rcnt_tl',\n",
    " 'mort_acc',\n",
    " 'mths_since_recent_bc',\n",
    " 'mths_since_recent_bc_dlq',\n",
    " 'mths_since_recent_inq',\n",
    " 'mths_since_recent_revol_delinq',\n",
    " 'num_accts_ever_120_pd',\n",
    " 'num_actv_bc_tl',\n",
    " 'num_actv_rev_tl',\n",
    " 'num_bc_sats',\n",
    " 'num_bc_tl',\n",
    " 'num_il_tl',\n",
    " 'num_op_rev_tl',\n",
    " 'num_rev_accts',\n",
    " 'num_rev_tl_bal_gt_0',\n",
    " 'num_sats',\n",
    " 'num_tl_120dpd_2m',\n",
    " 'num_tl_30dpd',\n",
    " 'num_tl_90g_dpd_24m',\n",
    " 'num_tl_op_past_12m',\n",
    " 'pct_tl_nvr_dlq',\n",
    " 'percent_bc_gt_75',\n",
    " 'pub_rec_bankruptcies',\n",
    " 'tax_liens',\n",
    " 'tot_hi_cred_lim',\n",
    " 'total_bal_ex_mort',\n",
    " 'total_bc_limit',\n",
    " 'total_il_high_credit_limit',\n",
    " 'month',\n",
    " 'term_ 36 months',\n",
    " 'term_ 60 months',\n",
    " 'grade_A',\n",
    " 'grade_B',\n",
    " 'grade_C',\n",
    " 'grade_D',\n",
    " 'grade_E',\n",
    " 'grade_F',\n",
    " 'grade_G',\n",
    " 'home_ownership_ANY',\n",
    " 'home_ownership_MORTGAGE',\n",
    " 'home_ownership_NONE',\n",
    " 'home_ownership_OTHER',\n",
    " 'home_ownership_OWN',\n",
    " 'home_ownership_RENT',\n",
    " 'purpose_car',\n",
    " 'purpose_credit_card',\n",
    " 'purpose_debt_consolidation',\n",
    " 'purpose_educational',\n",
    " 'purpose_home_improvement',\n",
    " 'purpose_house',\n",
    " 'purpose_major_purchase',\n",
    " 'purpose_medical',\n",
    " 'purpose_moving',\n",
    " 'purpose_other',\n",
    " 'purpose_renewable_energy',\n",
    " 'purpose_small_business',\n",
    " 'purpose_vacation',\n",
    " 'purpose_wedding',\n",
    " 'addr_state_AK',\n",
    " 'addr_state_AL',\n",
    " 'addr_state_AR',\n",
    " 'addr_state_AZ',\n",
    " 'addr_state_CA',\n",
    " 'addr_state_CO',\n",
    " 'addr_state_CT',\n",
    " 'addr_state_DC',\n",
    " 'addr_state_DE',\n",
    " 'addr_state_FL',\n",
    " 'addr_state_GA',\n",
    " 'addr_state_HI',\n",
    " 'addr_state_IA',\n",
    " 'addr_state_ID',\n",
    " 'addr_state_IL',\n",
    " 'addr_state_IN',\n",
    " 'addr_state_KS',\n",
    " 'addr_state_KY',\n",
    " 'addr_state_LA',\n",
    " 'addr_state_MA',\n",
    " 'addr_state_MD',\n",
    " 'addr_state_ME',\n",
    " 'addr_state_MI',\n",
    " 'addr_state_MN',\n",
    " 'addr_state_MO',\n",
    " 'addr_state_MS',\n",
    " 'addr_state_MT',\n",
    " 'addr_state_NC',\n",
    " 'addr_state_ND',\n",
    " 'addr_state_NE',\n",
    " 'addr_state_NH',\n",
    " 'addr_state_NJ',\n",
    " 'addr_state_NM',\n",
    " 'addr_state_NV',\n",
    " 'addr_state_NY',\n",
    " 'addr_state_OH',\n",
    " 'addr_state_OK',\n",
    " 'addr_state_OR',\n",
    " 'addr_state_PA',\n",
    " 'addr_state_RI',\n",
    " 'addr_state_SC',\n",
    " 'addr_state_SD',\n",
    " 'addr_state_TN',\n",
    " 'addr_state_TX',\n",
    " 'addr_state_UT',\n",
    " 'addr_state_VA',\n",
    " 'addr_state_VT',\n",
    " 'addr_state_WA',\n",
    " 'addr_state_WI',\n",
    " 'addr_state_WV',\n",
    " 'addr_state_WY']"
   ]
  },
  {
   "cell_type": "code",
   "execution_count": 248,
   "metadata": {
    "collapsed": true
   },
   "outputs": [],
   "source": [
    "y_col = ['repaid']"
   ]
  },
  {
   "cell_type": "code",
   "execution_count": 249,
   "metadata": {},
   "outputs": [
    {
     "data": {
      "text/plain": [
       "149"
      ]
     },
     "execution_count": 249,
     "metadata": {},
     "output_type": "execute_result"
    }
   ],
   "source": [
    "len(total_x_cols)"
   ]
  },
  {
   "cell_type": "code",
   "execution_count": 250,
   "metadata": {},
   "outputs": [
    {
     "data": {
      "text/plain": [
       "149"
      ]
     },
     "execution_count": 250,
     "metadata": {},
     "output_type": "execute_result"
    }
   ],
   "source": [
    "len(api_cols)"
   ]
  },
  {
   "cell_type": "markdown",
   "metadata": {},
   "source": [
    "- Same number of columns and in the correct order \n"
   ]
  },
  {
   "cell_type": "markdown",
   "metadata": {},
   "source": [
    "### Impute zeros for NaNs"
   ]
  },
  {
   "cell_type": "code",
   "execution_count": 251,
   "metadata": {},
   "outputs": [],
   "source": [
    "final_api_df.fillna(0,inplace=True)"
   ]
  },
  {
   "cell_type": "code",
   "execution_count": null,
   "metadata": {
    "collapsed": true
   },
   "outputs": [],
   "source": []
  },
  {
   "cell_type": "code",
   "execution_count": 252,
   "metadata": {},
   "outputs": [
    {
     "data": {
      "text/html": [
       "<div>\n",
       "<style>\n",
       "    .dataframe thead tr:only-child th {\n",
       "        text-align: right;\n",
       "    }\n",
       "\n",
       "    .dataframe thead th {\n",
       "        text-align: left;\n",
       "    }\n",
       "\n",
       "    .dataframe tbody tr th {\n",
       "        vertical-align: top;\n",
       "    }\n",
       "</style>\n",
       "<table border=\"1\" class=\"dataframe\">\n",
       "  <thead>\n",
       "    <tr style=\"text-align: right;\">\n",
       "      <th></th>\n",
       "      <th>loanAmount</th>\n",
       "      <th>fundedAmount</th>\n",
       "      <th>intRate</th>\n",
       "      <th>installment</th>\n",
       "      <th>empLength</th>\n",
       "      <th>annualInc</th>\n",
       "      <th>addrZip</th>\n",
       "      <th>dti</th>\n",
       "      <th>delinq2Yrs</th>\n",
       "      <th>inqLast6Mths</th>\n",
       "      <th>mthsSinceLastDelinq</th>\n",
       "      <th>mthsSinceLastRecord</th>\n",
       "      <th>openAcc</th>\n",
       "      <th>pubRec</th>\n",
       "      <th>revolBal</th>\n",
       "      <th>revolUtil</th>\n",
       "      <th>totalAcc</th>\n",
       "      <th>collections12MthsExMed</th>\n",
       "      <th>mthsSinceLastMajorDerog</th>\n",
       "      <th>accNowDelinq</th>\n",
       "    </tr>\n",
       "  </thead>\n",
       "  <tbody>\n",
       "    <tr>\n",
       "      <th>0</th>\n",
       "      <td>6025.0</td>\n",
       "      <td>5975.0</td>\n",
       "      <td>10.42</td>\n",
       "      <td>195.61</td>\n",
       "      <td>0.0</td>\n",
       "      <td>49000.0</td>\n",
       "      <td>21.0</td>\n",
       "      <td>14.43</td>\n",
       "      <td>2</td>\n",
       "      <td>0</td>\n",
       "      <td>9.0</td>\n",
       "      <td>82.0</td>\n",
       "      <td>7</td>\n",
       "      <td>3</td>\n",
       "      <td>824.0</td>\n",
       "      <td>1.5</td>\n",
       "      <td>17</td>\n",
       "      <td>0</td>\n",
       "      <td>25.0</td>\n",
       "      <td>0</td>\n",
       "    </tr>\n",
       "    <tr>\n",
       "      <th>1</th>\n",
       "      <td>20000.0</td>\n",
       "      <td>19950.0</td>\n",
       "      <td>9.93</td>\n",
       "      <td>644.69</td>\n",
       "      <td>1.2</td>\n",
       "      <td>152028.0</td>\n",
       "      <td>38.0</td>\n",
       "      <td>6.36</td>\n",
       "      <td>1</td>\n",
       "      <td>0</td>\n",
       "      <td>23.0</td>\n",
       "      <td>0.0</td>\n",
       "      <td>9</td>\n",
       "      <td>0</td>\n",
       "      <td>23664.0</td>\n",
       "      <td>77.8</td>\n",
       "      <td>21</td>\n",
       "      <td>0</td>\n",
       "      <td>67.0</td>\n",
       "      <td>0</td>\n",
       "    </tr>\n",
       "    <tr>\n",
       "      <th>2</th>\n",
       "      <td>20000.0</td>\n",
       "      <td>17950.0</td>\n",
       "      <td>30.79</td>\n",
       "      <td>656.81</td>\n",
       "      <td>1.2</td>\n",
       "      <td>45000.0</td>\n",
       "      <td>622.0</td>\n",
       "      <td>25.17</td>\n",
       "      <td>0</td>\n",
       "      <td>1</td>\n",
       "      <td>81.0</td>\n",
       "      <td>0.0</td>\n",
       "      <td>9</td>\n",
       "      <td>0</td>\n",
       "      <td>21193.0</td>\n",
       "      <td>71.4</td>\n",
       "      <td>13</td>\n",
       "      <td>0</td>\n",
       "      <td>0.0</td>\n",
       "      <td>0</td>\n",
       "    </tr>\n",
       "    <tr>\n",
       "      <th>3</th>\n",
       "      <td>1600.0</td>\n",
       "      <td>1525.0</td>\n",
       "      <td>15.05</td>\n",
       "      <td>55.51</td>\n",
       "      <td>0.0</td>\n",
       "      <td>33000.0</td>\n",
       "      <td>234.0</td>\n",
       "      <td>65.78</td>\n",
       "      <td>0</td>\n",
       "      <td>2</td>\n",
       "      <td>48.0</td>\n",
       "      <td>0.0</td>\n",
       "      <td>7</td>\n",
       "      <td>0</td>\n",
       "      <td>14348.0</td>\n",
       "      <td>83.9</td>\n",
       "      <td>21</td>\n",
       "      <td>0</td>\n",
       "      <td>0.0</td>\n",
       "      <td>0</td>\n",
       "    </tr>\n",
       "    <tr>\n",
       "      <th>4</th>\n",
       "      <td>32000.0</td>\n",
       "      <td>15000.0</td>\n",
       "      <td>9.44</td>\n",
       "      <td>1024.16</td>\n",
       "      <td>0.8</td>\n",
       "      <td>70000.0</td>\n",
       "      <td>960.0</td>\n",
       "      <td>22.48</td>\n",
       "      <td>0</td>\n",
       "      <td>0</td>\n",
       "      <td>0.0</td>\n",
       "      <td>113.0</td>\n",
       "      <td>7</td>\n",
       "      <td>1</td>\n",
       "      <td>24399.0</td>\n",
       "      <td>81.1</td>\n",
       "      <td>9</td>\n",
       "      <td>0</td>\n",
       "      <td>0.0</td>\n",
       "      <td>0</td>\n",
       "    </tr>\n",
       "  </tbody>\n",
       "</table>\n",
       "</div>"
      ],
      "text/plain": [
       "   loanAmount  fundedAmount  intRate  installment  empLength  annualInc  \\\n",
       "0      6025.0        5975.0    10.42       195.61        0.0    49000.0   \n",
       "1     20000.0       19950.0     9.93       644.69        1.2   152028.0   \n",
       "2     20000.0       17950.0    30.79       656.81        1.2    45000.0   \n",
       "3      1600.0        1525.0    15.05        55.51        0.0    33000.0   \n",
       "4     32000.0       15000.0     9.44      1024.16        0.8    70000.0   \n",
       "\n",
       "   addrZip    dti  delinq2Yrs  inqLast6Mths  mthsSinceLastDelinq  \\\n",
       "0     21.0  14.43           2             0                  9.0   \n",
       "1     38.0   6.36           1             0                 23.0   \n",
       "2    622.0  25.17           0             1                 81.0   \n",
       "3    234.0  65.78           0             2                 48.0   \n",
       "4    960.0  22.48           0             0                  0.0   \n",
       "\n",
       "   mthsSinceLastRecord  openAcc  pubRec  revolBal  revolUtil  totalAcc  \\\n",
       "0                 82.0        7       3     824.0        1.5        17   \n",
       "1                  0.0        9       0   23664.0       77.8        21   \n",
       "2                  0.0        9       0   21193.0       71.4        13   \n",
       "3                  0.0        7       0   14348.0       83.9        21   \n",
       "4                113.0        7       1   24399.0       81.1         9   \n",
       "\n",
       "   collections12MthsExMed  mthsSinceLastMajorDerog  accNowDelinq  \n",
       "0                       0                     25.0             0  \n",
       "1                       0                     67.0             0  \n",
       "2                       0                      0.0             0  \n",
       "3                       0                      0.0             0  \n",
       "4                       0                      0.0             0  "
      ]
     },
     "execution_count": 252,
     "metadata": {},
     "output_type": "execute_result"
    }
   ],
   "source": [
    "final_api_df.iloc[:,:20] .head()"
   ]
  },
  {
   "cell_type": "code",
   "execution_count": 253,
   "metadata": {},
   "outputs": [
    {
     "data": {
      "text/html": [
       "<div>\n",
       "<style>\n",
       "    .dataframe thead tr:only-child th {\n",
       "        text-align: right;\n",
       "    }\n",
       "\n",
       "    .dataframe thead th {\n",
       "        text-align: left;\n",
       "    }\n",
       "\n",
       "    .dataframe tbody tr th {\n",
       "        vertical-align: top;\n",
       "    }\n",
       "</style>\n",
       "<table border=\"1\" class=\"dataframe\">\n",
       "  <thead>\n",
       "    <tr style=\"text-align: right;\">\n",
       "      <th></th>\n",
       "      <th>totCollAmt</th>\n",
       "      <th>totCurBal</th>\n",
       "      <th>openAcc6m</th>\n",
       "      <th>openIl6m</th>\n",
       "      <th>openIl12m</th>\n",
       "      <th>openIl24m</th>\n",
       "      <th>totalBalIl</th>\n",
       "      <th>iLUtil</th>\n",
       "      <th>maxBalBc</th>\n",
       "      <th>allUtil</th>\n",
       "      <th>totalRevHiLim</th>\n",
       "      <th>inqLast12m</th>\n",
       "      <th>accOpenPast24Mths</th>\n",
       "      <th>avgCurBal</th>\n",
       "      <th>bcUtil</th>\n",
       "      <th>chargeoffWithin12Mths</th>\n",
       "      <th>delinqAmnt</th>\n",
       "      <th>moSinOldIlAcct</th>\n",
       "      <th>moSinOldRevTlOp</th>\n",
       "      <th>moSinRcntRevTlOp</th>\n",
       "    </tr>\n",
       "  </thead>\n",
       "  <tbody>\n",
       "    <tr>\n",
       "      <th>0</th>\n",
       "      <td>0</td>\n",
       "      <td>16181</td>\n",
       "      <td>1</td>\n",
       "      <td>1</td>\n",
       "      <td>0</td>\n",
       "      <td>1</td>\n",
       "      <td>15357.0</td>\n",
       "      <td>62.6</td>\n",
       "      <td>303.0</td>\n",
       "      <td>21.4</td>\n",
       "      <td>51300</td>\n",
       "      <td>0</td>\n",
       "      <td>2</td>\n",
       "      <td>2697</td>\n",
       "      <td>1.5</td>\n",
       "      <td>0</td>\n",
       "      <td>0.0</td>\n",
       "      <td>146.0</td>\n",
       "      <td>205</td>\n",
       "      <td>0</td>\n",
       "    </tr>\n",
       "    <tr>\n",
       "      <th>1</th>\n",
       "      <td>0</td>\n",
       "      <td>511971</td>\n",
       "      <td>1</td>\n",
       "      <td>0</td>\n",
       "      <td>0</td>\n",
       "      <td>0</td>\n",
       "      <td>0.0</td>\n",
       "      <td>0.0</td>\n",
       "      <td>19706.0</td>\n",
       "      <td>77.8</td>\n",
       "      <td>30400</td>\n",
       "      <td>0</td>\n",
       "      <td>3</td>\n",
       "      <td>63996</td>\n",
       "      <td>93.7</td>\n",
       "      <td>0</td>\n",
       "      <td>0.0</td>\n",
       "      <td>148.0</td>\n",
       "      <td>216</td>\n",
       "      <td>3</td>\n",
       "    </tr>\n",
       "    <tr>\n",
       "      <th>2</th>\n",
       "      <td>0</td>\n",
       "      <td>24391</td>\n",
       "      <td>2</td>\n",
       "      <td>1</td>\n",
       "      <td>0</td>\n",
       "      <td>0</td>\n",
       "      <td>3198.0</td>\n",
       "      <td>19.9</td>\n",
       "      <td>5067.0</td>\n",
       "      <td>53.3</td>\n",
       "      <td>29700</td>\n",
       "      <td>1</td>\n",
       "      <td>3</td>\n",
       "      <td>3049</td>\n",
       "      <td>86.1</td>\n",
       "      <td>0</td>\n",
       "      <td>0.0</td>\n",
       "      <td>142.0</td>\n",
       "      <td>293</td>\n",
       "      <td>2</td>\n",
       "    </tr>\n",
       "    <tr>\n",
       "      <th>3</th>\n",
       "      <td>0</td>\n",
       "      <td>67142</td>\n",
       "      <td>2</td>\n",
       "      <td>2</td>\n",
       "      <td>0</td>\n",
       "      <td>2</td>\n",
       "      <td>52794.0</td>\n",
       "      <td>70.4</td>\n",
       "      <td>1331.0</td>\n",
       "      <td>74.9</td>\n",
       "      <td>17100</td>\n",
       "      <td>3</td>\n",
       "      <td>4</td>\n",
       "      <td>9592</td>\n",
       "      <td>47.5</td>\n",
       "      <td>0</td>\n",
       "      <td>0.0</td>\n",
       "      <td>124.0</td>\n",
       "      <td>241</td>\n",
       "      <td>3</td>\n",
       "    </tr>\n",
       "    <tr>\n",
       "      <th>4</th>\n",
       "      <td>0</td>\n",
       "      <td>314705</td>\n",
       "      <td>0</td>\n",
       "      <td>1</td>\n",
       "      <td>0</td>\n",
       "      <td>1</td>\n",
       "      <td>26040.0</td>\n",
       "      <td>75.9</td>\n",
       "      <td>10671.0</td>\n",
       "      <td>78.3</td>\n",
       "      <td>30100</td>\n",
       "      <td>0</td>\n",
       "      <td>1</td>\n",
       "      <td>44958</td>\n",
       "      <td>81.1</td>\n",
       "      <td>0</td>\n",
       "      <td>0.0</td>\n",
       "      <td>21.0</td>\n",
       "      <td>189</td>\n",
       "      <td>29</td>\n",
       "    </tr>\n",
       "  </tbody>\n",
       "</table>\n",
       "</div>"
      ],
      "text/plain": [
       "   totCollAmt  totCurBal  openAcc6m  openIl6m  openIl12m  openIl24m  \\\n",
       "0           0      16181          1         1          0          1   \n",
       "1           0     511971          1         0          0          0   \n",
       "2           0      24391          2         1          0          0   \n",
       "3           0      67142          2         2          0          2   \n",
       "4           0     314705          0         1          0          1   \n",
       "\n",
       "   totalBalIl  iLUtil  maxBalBc  allUtil  totalRevHiLim  inqLast12m  \\\n",
       "0     15357.0    62.6     303.0     21.4          51300           0   \n",
       "1         0.0     0.0   19706.0     77.8          30400           0   \n",
       "2      3198.0    19.9    5067.0     53.3          29700           1   \n",
       "3     52794.0    70.4    1331.0     74.9          17100           3   \n",
       "4     26040.0    75.9   10671.0     78.3          30100           0   \n",
       "\n",
       "   accOpenPast24Mths  avgCurBal  bcUtil  chargeoffWithin12Mths  delinqAmnt  \\\n",
       "0                  2       2697     1.5                      0         0.0   \n",
       "1                  3      63996    93.7                      0         0.0   \n",
       "2                  3       3049    86.1                      0         0.0   \n",
       "3                  4       9592    47.5                      0         0.0   \n",
       "4                  1      44958    81.1                      0         0.0   \n",
       "\n",
       "   moSinOldIlAcct  moSinOldRevTlOp  moSinRcntRevTlOp  \n",
       "0           146.0              205                 0  \n",
       "1           148.0              216                 3  \n",
       "2           142.0              293                 2  \n",
       "3           124.0              241                 3  \n",
       "4            21.0              189                29  "
      ]
     },
     "execution_count": 253,
     "metadata": {},
     "output_type": "execute_result"
    }
   ],
   "source": [
    "final_api_df.iloc[:,20:40] .head()"
   ]
  },
  {
   "cell_type": "code",
   "execution_count": null,
   "metadata": {
    "collapsed": true
   },
   "outputs": [],
   "source": []
  },
  {
   "cell_type": "markdown",
   "metadata": {},
   "source": [
    "# Load the trained models"
   ]
  },
  {
   "cell_type": "markdown",
   "metadata": {},
   "source": [
    "#### Gradient Boosting"
   ]
  },
  {
   "cell_type": "code",
   "execution_count": 279,
   "metadata": {},
   "outputs": [],
   "source": [
    "# load the model from disk\n",
    "loaded_gb_model = joblib.load(open(\"./models/gradient_boosting_400-trees.joblib.pkl\", 'rb'))"
   ]
  },
  {
   "cell_type": "code",
   "execution_count": 281,
   "metadata": {},
   "outputs": [
    {
     "data": {
      "text/plain": [
       "array([0, 0, 0, 0, 0, 0, 0, 0, 0, 0, 0, 0, 0, 0, 0, 0, 0, 0, 0, 0, 0, 0, 0,\n",
       "       0, 0, 0, 0, 0, 0, 0, 0, 0, 0, 0, 0, 0, 0, 0, 0, 0, 0, 0, 0, 0, 0, 0,\n",
       "       0, 0, 0, 0, 0, 0, 0, 0, 0, 0, 0, 0, 0, 0, 0, 0, 0, 0, 0, 0, 0, 0, 0,\n",
       "       0, 0, 0, 0, 0, 0, 0, 0, 0, 0, 0, 0, 0, 0, 0, 0, 0, 0, 0, 0, 0, 0, 0,\n",
       "       0, 0, 0, 0, 0, 0, 0, 0, 0, 0, 0, 0, 0, 0, 0, 0, 0, 0, 0, 0, 0, 0, 0,\n",
       "       0, 0, 0, 0, 0, 0, 0, 0, 0, 0, 0, 0, 0, 0, 0, 0, 0, 0, 0, 0, 0, 0, 0,\n",
       "       0, 0, 0, 0, 0, 0, 0, 0, 0, 0, 0, 0, 0, 0, 0, 0, 0, 0, 0, 0, 0, 0, 0,\n",
       "       0, 0, 0, 0, 0, 0, 0, 0, 0, 0, 0, 0, 0, 0, 0, 0, 0, 0, 0, 0, 0, 0, 0,\n",
       "       0, 0, 0, 0, 0, 0, 0, 0, 0, 0, 0, 0, 0, 0, 0, 0, 0, 0, 0, 0, 0, 0, 0,\n",
       "       0, 0, 0, 0])"
      ]
     },
     "execution_count": 281,
     "metadata": {},
     "output_type": "execute_result"
    }
   ],
   "source": [
    "loaded_gb_model.predict(final_api_df)"
   ]
  },
  {
   "cell_type": "code",
   "execution_count": 282,
   "metadata": {},
   "outputs": [
    {
     "data": {
      "text/plain": [
       "0"
      ]
     },
     "execution_count": 282,
     "metadata": {},
     "output_type": "execute_result"
    }
   ],
   "source": [
    "loaded_gb_model.predict(final_api_df).sum()"
   ]
  },
  {
   "cell_type": "code",
   "execution_count": 283,
   "metadata": {},
   "outputs": [],
   "source": [
    "loans_to_purchase = loans_df.id[loaded_gb_model.predict(final_api_df)==1] #find the indexes of where loans predicted to r\n",
    "# repay = 1"
   ]
  },
  {
   "cell_type": "code",
   "execution_count": null,
   "metadata": {
    "collapsed": true
   },
   "outputs": [],
   "source": []
  },
  {
   "cell_type": "markdown",
   "metadata": {},
   "source": [
    "#### Keras"
   ]
  },
  {
   "cell_type": "code",
   "execution_count": 141,
   "metadata": {},
   "outputs": [
    {
     "name": "stdout",
     "output_type": "stream",
     "text": [
      "Loaded model from disk\n"
     ]
    }
   ],
   "source": [
    "#Taken from https://machinelearningmastery.com/save-load-keras-deep-learning-models/\n",
    "# load json and create model\n",
    "json_file = open('./models/mlp_model_5-epochs_64-batchsize_0.761329171758-train_acc_0.762269526-val_acc', 'r')\n",
    "loaded_model_json = json_file.read()\n",
    "json_file.close()\n",
    "loaded_model = model_from_json(loaded_model_json)\n",
    "# load weights into new model\n",
    "loaded_model.load_weights(\"./models/mlp_model_5-epochs_64-batchsize_0.761758990161-train_acc_0.763773047407-val_acc.h5\")\n",
    "print(\"Loaded model from disk\")"
   ]
  },
  {
   "cell_type": "code",
   "execution_count": null,
   "metadata": {
    "collapsed": true
   },
   "outputs": [],
   "source": []
  },
  {
   "cell_type": "markdown",
   "metadata": {},
   "source": [
    "# Check available cash\n",
    "```\n",
    "URL: https://api.lendingclub.com/api/investor/<version>/accounts/<investor id>/availablecash\n",
    "```"
   ]
  },
  {
   "cell_type": "code",
   "execution_count": 272,
   "metadata": {
    "collapsed": true
   },
   "outputs": [],
   "source": [
    "\n",
    "cash_r = requests.get('https://api.lendingclub.com/api/investor/v1/accounts/{}/availablecash'.format(account_id),\n",
    "                 headers={'Authorization': credentials['authentication'],'Content-Type': 'application/json',\n",
    "                          'Accept': 'application/json'}, params = {'showAll':'true'})"
   ]
  },
  {
   "cell_type": "code",
   "execution_count": 273,
   "metadata": {},
   "outputs": [],
   "source": [
    "available_cash = cash_r.json()['availableCash'] # see if available cash > $25"
   ]
  },
  {
   "cell_type": "code",
   "execution_count": 274,
   "metadata": {},
   "outputs": [
    {
     "data": {
      "text/plain": [
       "27.68"
      ]
     },
     "execution_count": 274,
     "metadata": {},
     "output_type": "execute_result"
    }
   ],
   "source": [
    "available_cash"
   ]
  },
  {
   "cell_type": "markdown",
   "metadata": {},
   "source": [
    "# Create orders\n",
    "```\n",
    "\n",
    "Operation: POST\n",
    "URL: https://api.lendingclub.com/api/investor/<version>/accounts/<investor id>/orders\n",
    "\n",
    "\n",
    "{\n",
    "\t\"aid\":11111,\n",
    "\t\"orders\":[\n",
    "\t{\n",
    "\t\t\"loanId\":22222,\n",
    "\t\t\"requestedAmount\":55.0,\n",
    "\t\t\"portfolioId\":44444\n",
    "\t},\n",
    "\t{\n",
    "\t\t\"loanId\": 33333,\n",
    "\t\t\"requestedAmount\":25,\n",
    "\t\t\"portfolioId\":55555\n",
    "\t},\n",
    "\t{\n",
    "\t\t\"loanId\": 44444,\n",
    "\t\t\"requestedAmount\":25,\n",
    "\t}]\n",
    "}```"
   ]
  },
  {
   "cell_type": "code",
   "execution_count": 204,
   "metadata": {
    "collapsed": true
   },
   "outputs": [],
   "source": [
    "num_orders = available_cash // 25 ## total number of possible orders of $25"
   ]
  },
  {
   "cell_type": "code",
   "execution_count": 270,
   "metadata": {},
   "outputs": [],
   "source": [
    "def purchase_loans(available_cash,account_id,loans_to_purchase, portfolio_id):\n",
    "    \"\"\"\"\"\"\n",
    "count = 0\n",
    "while count != len(loans_to_purchase):\n",
    "    if (len(loans_to_purchase) >0) & (available_cash > 25): # buy some loans!\n",
    "\n",
    " \n",
    "        payload = json.dumps({'aid': account_id, \\\n",
    "                   'orders':[{'loanId' : loans_to_purchase[count], \\\n",
    "                                'requestedAmount' : float(25), \\\n",
    "                                'portfolioId' : portfolio_id}]})\n",
    "\n",
    "\n",
    "\n",
    "        buy_loans_r = requests.post('https://api.lendingclub.com/api/investor/v1/accounts/{}/orders'.format(account_id),\n",
    "                                    data=payload,\n",
    "                     headers={'Authorization': credentials['authentication'],'Content-Type': 'application/json',\n",
    "                              'Accept': 'application/json'}, params = {'showAll':'true'})\n",
    "        count +=1\n",
    "    else:\n",
    "        print('Nothing to purchase')\n",
    "        break\n",
    "    "
   ]
  },
  {
   "cell_type": "code",
   "execution_count": 271,
   "metadata": {},
   "outputs": [
    {
     "data": {
      "text/plain": [
       "u'{\"orderInstructId\":168357062,\"orderConfirmations\":[{\"loanId\":120158005,\"requestedAmount\":25.0,\"investedAmount\":25.0,\"executionStatus\":[\"ORDER_FULFILLED\",\"NOTE_ADDED_TO_PORTFOLIO\"]}]}'"
      ]
     },
     "execution_count": 271,
     "metadata": {},
     "output_type": "execute_result"
    }
   ],
   "source": [
    " buy_loans_r.text"
   ]
  },
  {
   "cell_type": "markdown",
   "metadata": {},
   "source": [
    ">>> payload = {'key1': 'value1', 'key2': 'value2'}\n",
    "\n",
    ">>> r = requests.post(\"http://httpbin.org/post\", data=payload)\n",
    "payload = (('key1', 'value1'), ('key1', 'value2'))\n",
    ">>> print(r.text)\n",
    "{"
   ]
  },
  {
   "cell_type": "code",
   "execution_count": null,
   "metadata": {
    "collapsed": true
   },
   "outputs": [],
   "source": [
    "portfolio_id , account_id"
   ]
  }
 ],
 "metadata": {
  "kernelspec": {
   "display_name": "Python 2",
   "language": "python",
   "name": "python2"
  },
  "language_info": {
   "codemirror_mode": {
    "name": "ipython",
    "version": 2
   },
   "file_extension": ".py",
   "mimetype": "text/x-python",
   "name": "python",
   "nbconvert_exporter": "python",
   "pygments_lexer": "ipython2",
   "version": "2.7.13"
  }
 },
 "nbformat": 4,
 "nbformat_minor": 2
}
