{
 "cells": [
  {
   "cell_type": "code",
   "execution_count": 54,
   "metadata": {
    "collapsed": true
   },
   "outputs": [],
   "source": [
    "import requests\n",
    "import os\n",
    "import yaml"
   ]
  },
  {
   "cell_type": "markdown",
   "metadata": {},
   "source": [
    "- Import credentials"
   ]
  },
  {
   "cell_type": "code",
   "execution_count": 61,
   "metadata": {},
   "outputs": [],
   "source": [
    "credentials = yaml.load(open(os.path.expanduser('~/.ssh/lending_club_api.yml')))"
   ]
  },
  {
   "cell_type": "code",
   "execution_count": 62,
   "metadata": {},
   "outputs": [],
   "source": [
    "account_id = credentials['account_id']"
   ]
  },
  {
   "cell_type": "code",
   "execution_count": 58,
   "metadata": {
    "collapsed": true
   },
   "outputs": [],
   "source": [
    "\n",
    "r = requests.get('https://api.lendingclub.com/api/investor/v1/loans/listing',\n",
    "                 headers={'Authorization': credentials['authentication'],'Content-Type': 'application/json',\n",
    "                          'Accept': 'application/json'}, params = {'showAll':'true'})"
   ]
  },
  {
   "cell_type": "code",
   "execution_count": 59,
   "metadata": {},
   "outputs": [
    {
     "data": {
      "text/plain": [
       "<Response [200]>"
      ]
     },
     "execution_count": 59,
     "metadata": {},
     "output_type": "execute_result"
    }
   ],
   "source": [
    "r"
   ]
  },
  {
   "cell_type": "code",
   "execution_count": 36,
   "metadata": {},
   "outputs": [],
   "source": [
    "json_response =  r.json()"
   ]
  },
  {
   "cell_type": "code",
   "execution_count": 39,
   "metadata": {},
   "outputs": [
    {
     "data": {
      "text/plain": [
       "dict_keys(['asOfDate', 'loans'])"
      ]
     },
     "execution_count": 39,
     "metadata": {},
     "output_type": "execute_result"
    }
   ],
   "source": [
    "json_response.keys()"
   ]
  },
  {
   "cell_type": "code",
   "execution_count": 63,
   "metadata": {},
   "outputs": [],
   "source": [
    "test_loan = json_response['loans'][0]"
   ]
  },
  {
   "cell_type": "code",
   "execution_count": 65,
   "metadata": {},
   "outputs": [
    {
     "data": {
      "text/plain": [
       "{'accNowDelinq': 0,\n",
       " 'accOpenPast24Mths': 3,\n",
       " 'acceptD': '2017-08-26T16:23:14.000-07:00',\n",
       " 'addrState': 'TX',\n",
       " 'addrZip': '781xx',\n",
       " 'allUtil': 77.7,\n",
       " 'annualInc': 26000.0,\n",
       " 'annualIncJoint': None,\n",
       " 'applicationType': 'INDIVIDUAL',\n",
       " 'avgCurBal': 2292,\n",
       " 'bcOpenToBuy': 81,\n",
       " 'bcUtil': 94.9,\n",
       " 'chargeoffWithin12Mths': 0,\n",
       " 'collections12MthsExMed': 0,\n",
       " 'creditPullD': '2017-08-26T12:25:18.000-07:00',\n",
       " 'delinq2Yrs': 0,\n",
       " 'delinqAmnt': 0.0,\n",
       " 'desc': None,\n",
       " 'dti': 20.08,\n",
       " 'dtiJoint': None,\n",
       " 'earliestCrLine': '2013-09-25T17:00:00.000-07:00',\n",
       " 'empLength': 24,\n",
       " 'empTitle': 'COSMETOLOGIST',\n",
       " 'expD': '2017-10-10T16:26:34.000-07:00',\n",
       " 'expDefaultRate': 6.59,\n",
       " 'ficoRangeHigh': 664,\n",
       " 'ficoRangeLow': 660,\n",
       " 'fundedAmount': 4100.0,\n",
       " 'grade': 'C',\n",
       " 'homeOwnership': 'RENT',\n",
       " 'iLUtil': 90.3,\n",
       " 'id': 117665483,\n",
       " 'ilsExpD': '2017-09-11T10:00:00.000-07:00',\n",
       " 'initialListStatus': 'F',\n",
       " 'inqFi': 5,\n",
       " 'inqLast12m': 4,\n",
       " 'inqLast6Mths': 0,\n",
       " 'installment': 150.81,\n",
       " 'intRate': 12.62,\n",
       " 'investorCount': None,\n",
       " 'isIncV': 'SOURCE_VERIFIED',\n",
       " 'isIncVJoint': None,\n",
       " 'listD': '2017-09-11T10:00:00.000-07:00',\n",
       " 'loanAmount': 4500.0,\n",
       " 'maxBalBc': 1519.0,\n",
       " 'memberId': 126870197,\n",
       " 'moSinOldIlAcct': 40,\n",
       " 'moSinOldRevTlOp': 47,\n",
       " 'moSinRcntRevTlOp': 14,\n",
       " 'moSinRcntTl': 8,\n",
       " 'mortAcc': 0,\n",
       " 'mthsSinceLastDelinq': 34,\n",
       " 'mthsSinceLastMajorDerog': 34,\n",
       " 'mthsSinceLastRecord': None,\n",
       " 'mthsSinceRcntIl': 8,\n",
       " 'mthsSinceRecentBc': 47,\n",
       " 'mthsSinceRecentBcDlq': None,\n",
       " 'mthsSinceRecentInq': 1,\n",
       " 'mthsSinceRecentRevolDelinq': None,\n",
       " 'numAcctsEver120Ppd': 1,\n",
       " 'numActvBcTl': 1,\n",
       " 'numActvRevTl': 5,\n",
       " 'numBcSats': 1,\n",
       " 'numBcTl': 2,\n",
       " 'numIlTl': 5,\n",
       " 'numOpRevTl': 6,\n",
       " 'numRevAccts': 7,\n",
       " 'numRevTlBalGt0': 5,\n",
       " 'numSats': 11,\n",
       " 'numTl120dpd2m': 0,\n",
       " 'numTl30dpd': 0,\n",
       " 'numTl90gDpd24m': 0,\n",
       " 'numTlOpPast12m': 1,\n",
       " 'openAcc': 11,\n",
       " 'openAcc6m': 0,\n",
       " 'openIl12m': 1,\n",
       " 'openIl24m': 1,\n",
       " 'openIl6m': 5,\n",
       " 'openRv12m': 0,\n",
       " 'openRv24m': 2,\n",
       " 'pctTlNvrDlq': 92,\n",
       " 'percentBcGt75': 100.0,\n",
       " 'pubRec': 0,\n",
       " 'pubRecBankruptcies': 0,\n",
       " 'purpose': 'credit_card',\n",
       " 'reviewStatus': 'APPROVED',\n",
       " 'reviewStatusD': '2017-09-11T08:04:03.000-07:00',\n",
       " 'revolBal': 4041.0,\n",
       " 'revolUtil': 47.0,\n",
       " 'serviceFeeRate': 1.06,\n",
       " 'subGrade': 'C1',\n",
       " 'taxLiens': 0,\n",
       " 'term': 36,\n",
       " 'totCollAmt': 0,\n",
       " 'totCurBal': 22918,\n",
       " 'totHiCredLim': 29496,\n",
       " 'totalAcc': 13,\n",
       " 'totalBalExMort': 22918,\n",
       " 'totalBalIl': 18877.0,\n",
       " 'totalBcLimit': 1600,\n",
       " 'totalCuTl': 0,\n",
       " 'totalIlHighCreditLimit': 20896,\n",
       " 'totalRevHiLim': 8600}"
      ]
     },
     "execution_count": 65,
     "metadata": {},
     "output_type": "execute_result"
    }
   ],
   "source": [
    "test_loan"
   ]
  },
  {
   "cell_type": "code",
   "execution_count": null,
   "metadata": {
    "collapsed": true
   },
   "outputs": [],
   "source": []
  }
 ],
 "metadata": {
  "kernelspec": {
   "display_name": "Python 3",
   "language": "python",
   "name": "python3"
  },
  "language_info": {
   "codemirror_mode": {
    "name": "ipython",
    "version": 3
   },
   "file_extension": ".py",
   "mimetype": "text/x-python",
   "name": "python",
   "nbconvert_exporter": "python",
   "pygments_lexer": "ipython3",
   "version": "3.6.1"
  }
 },
 "nbformat": 4,
 "nbformat_minor": 2
}
