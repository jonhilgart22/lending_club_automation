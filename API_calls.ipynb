{
 "cells": [
  {
   "cell_type": "code",
   "execution_count": 26,
   "metadata": {
    "collapsed": true
   },
   "outputs": [],
   "source": [
    "import requests\n",
    "import os\n",
    "import yaml\n",
    "import pandas as pd\n",
    "import numpy as np\n",
    "import re"
   ]
  },
  {
   "cell_type": "markdown",
   "metadata": {},
   "source": [
    "- Import credentials"
   ]
  },
  {
   "cell_type": "code",
   "execution_count": 31,
   "metadata": {
    "collapsed": true
   },
   "outputs": [],
   "source": [
    "credentials = yaml.load(open(os.path.expanduser('~/.ssh/lending_club_api.yml')))"
   ]
  },
  {
   "cell_type": "code",
   "execution_count": 32,
   "metadata": {},
   "outputs": [
    {
     "data": {
      "text/plain": [
       "{'account_id': 71351615, 'authentication': 'lOYMBaOCpJorkX62/RCOZ1Vezn0='}"
      ]
     },
     "execution_count": 32,
     "metadata": {},
     "output_type": "execute_result"
    }
   ],
   "source": [
    "credentials"
   ]
  },
  {
   "cell_type": "code",
   "execution_count": 33,
   "metadata": {
    "collapsed": true
   },
   "outputs": [],
   "source": [
    "account_id = credentials['account_id']"
   ]
  },
  {
   "cell_type": "code",
   "execution_count": 36,
   "metadata": {},
   "outputs": [
    {
     "data": {
      "text/plain": [
       "71351615"
      ]
     },
     "execution_count": 36,
     "metadata": {},
     "output_type": "execute_result"
    }
   ],
   "source": [
    "account_id"
   ]
  },
  {
   "cell_type": "markdown",
   "metadata": {},
   "source": [
    "- Make the api call for the portfolios owned\n",
    "    - Find the API portfolio to put loans into"
   ]
  },
  {
   "cell_type": "code",
   "execution_count": 45,
   "metadata": {},
   "outputs": [],
   "source": [
    "portfolio_r = requests.get(\"https://api.lendingclub.com/api/investor/v1/accounts/{}/portfolios\".format(account_id),\n",
    "                 headers={'Authorization': credentials['authentication'],'Content-Type': 'application/json',\n",
    "                          'Accept': 'application/json'}, params = {'showAll':'true'})"
   ]
  },
  {
   "cell_type": "code",
   "execution_count": 47,
   "metadata": {},
   "outputs": [],
   "source": [
    "portfolio_id = 0\n",
    "for portfolio in portfolio_r.json()['myPortfolios']:\n",
    "    if portfolio['portfolioName']=='api':\n",
    "        portfolio_id = portfolio['portfolioId']\n",
    "    "
   ]
  },
  {
   "cell_type": "markdown",
   "metadata": {},
   "source": [
    "- Make the API call to see the loans listed"
   ]
  },
  {
   "cell_type": "code",
   "execution_count": 49,
   "metadata": {
    "collapsed": true
   },
   "outputs": [],
   "source": [
    "\n",
    "r = requests.get('https://api.lendingclub.com/api/investor/v1/loans/listing',\n",
    "                 headers={'Authorization': credentials['authentication'],'Content-Type': 'application/json',\n",
    "                          'Accept': 'application/json'}, params = {'showAll':'true'})"
   ]
  },
  {
   "cell_type": "code",
   "execution_count": 50,
   "metadata": {},
   "outputs": [
    {
     "data": {
      "text/plain": [
       "<Response [200]>"
      ]
     },
     "execution_count": 50,
     "metadata": {},
     "output_type": "execute_result"
    }
   ],
   "source": [
    "r"
   ]
  },
  {
   "cell_type": "code",
   "execution_count": 51,
   "metadata": {
    "collapsed": true
   },
   "outputs": [],
   "source": [
    "json_response =  r.json()"
   ]
  },
  {
   "cell_type": "code",
   "execution_count": 52,
   "metadata": {},
   "outputs": [
    {
     "data": {
      "text/plain": [
       "[u'loans', u'asOfDate']"
      ]
     },
     "execution_count": 52,
     "metadata": {},
     "output_type": "execute_result"
    }
   ],
   "source": [
    "json_response.keys()"
   ]
  },
  {
   "cell_type": "code",
   "execution_count": 53,
   "metadata": {
    "collapsed": true
   },
   "outputs": [],
   "source": [
    "test_loan = json_response['loans'][50]"
   ]
  },
  {
   "cell_type": "code",
   "execution_count": 54,
   "metadata": {},
   "outputs": [
    {
     "data": {
      "text/plain": [
       "u'debt_consolidation'"
      ]
     },
     "execution_count": 54,
     "metadata": {},
     "output_type": "execute_result"
    }
   ],
   "source": [
    "test_loan['purpose']"
   ]
  },
  {
   "cell_type": "markdown",
   "metadata": {},
   "source": [
    "- Convert to DF"
   ]
  },
  {
   "cell_type": "code",
   "execution_count": 55,
   "metadata": {
    "collapsed": true
   },
   "outputs": [],
   "source": [
    "loans_df = pd.DataFrame(json_response['loans'])"
   ]
  },
  {
   "cell_type": "code",
   "execution_count": 56,
   "metadata": {},
   "outputs": [
    {
     "data": {
      "text/html": [
       "<div>\n",
       "<style>\n",
       "    .dataframe thead tr:only-child th {\n",
       "        text-align: right;\n",
       "    }\n",
       "\n",
       "    .dataframe thead th {\n",
       "        text-align: left;\n",
       "    }\n",
       "\n",
       "    .dataframe tbody tr th {\n",
       "        vertical-align: top;\n",
       "    }\n",
       "</style>\n",
       "<table border=\"1\" class=\"dataframe\">\n",
       "  <thead>\n",
       "    <tr style=\"text-align: right;\">\n",
       "      <th></th>\n",
       "      <th>accNowDelinq</th>\n",
       "      <th>accOpenPast24Mths</th>\n",
       "      <th>acceptD</th>\n",
       "      <th>addrState</th>\n",
       "      <th>addrZip</th>\n",
       "      <th>allUtil</th>\n",
       "      <th>annualInc</th>\n",
       "      <th>annualIncJoint</th>\n",
       "      <th>applicationType</th>\n",
       "      <th>avgCurBal</th>\n",
       "      <th>...</th>\n",
       "      <th>totCollAmt</th>\n",
       "      <th>totCurBal</th>\n",
       "      <th>totHiCredLim</th>\n",
       "      <th>totalAcc</th>\n",
       "      <th>totalBalExMort</th>\n",
       "      <th>totalBalIl</th>\n",
       "      <th>totalBcLimit</th>\n",
       "      <th>totalCuTl</th>\n",
       "      <th>totalIlHighCreditLimit</th>\n",
       "      <th>totalRevHiLim</th>\n",
       "    </tr>\n",
       "  </thead>\n",
       "  <tbody>\n",
       "    <tr>\n",
       "      <th>0</th>\n",
       "      <td>0</td>\n",
       "      <td>7</td>\n",
       "      <td>2017-09-19T07:36:37.000-07:00</td>\n",
       "      <td>CO</td>\n",
       "      <td>800xx</td>\n",
       "      <td>64.1</td>\n",
       "      <td>45000.0</td>\n",
       "      <td>85000.0</td>\n",
       "      <td>JOINT</td>\n",
       "      <td>7039</td>\n",
       "      <td>...</td>\n",
       "      <td>4300</td>\n",
       "      <td>70390</td>\n",
       "      <td>88947</td>\n",
       "      <td>34</td>\n",
       "      <td>70390</td>\n",
       "      <td>66141.0</td>\n",
       "      <td>10800</td>\n",
       "      <td>4</td>\n",
       "      <td>72447</td>\n",
       "      <td>16500</td>\n",
       "    </tr>\n",
       "    <tr>\n",
       "      <th>1</th>\n",
       "      <td>0</td>\n",
       "      <td>9</td>\n",
       "      <td>2017-08-31T12:05:58.000-07:00</td>\n",
       "      <td>WI</td>\n",
       "      <td>530xx</td>\n",
       "      <td>23.0</td>\n",
       "      <td>27887.0</td>\n",
       "      <td>NaN</td>\n",
       "      <td>INDIVIDUAL</td>\n",
       "      <td>1035</td>\n",
       "      <td>...</td>\n",
       "      <td>0</td>\n",
       "      <td>14498</td>\n",
       "      <td>34289</td>\n",
       "      <td>17</td>\n",
       "      <td>14498</td>\n",
       "      <td>8974.0</td>\n",
       "      <td>18050</td>\n",
       "      <td>2</td>\n",
       "      <td>10539</td>\n",
       "      <td>23750</td>\n",
       "    </tr>\n",
       "    <tr>\n",
       "      <th>2</th>\n",
       "      <td>0</td>\n",
       "      <td>1</td>\n",
       "      <td>2017-09-21T18:28:57.000-07:00</td>\n",
       "      <td>TX</td>\n",
       "      <td>761xx</td>\n",
       "      <td>63.9</td>\n",
       "      <td>38000.0</td>\n",
       "      <td>79000.0</td>\n",
       "      <td>JOINT</td>\n",
       "      <td>2911</td>\n",
       "      <td>...</td>\n",
       "      <td>0</td>\n",
       "      <td>26198</td>\n",
       "      <td>40980</td>\n",
       "      <td>13</td>\n",
       "      <td>26198</td>\n",
       "      <td>14788.0</td>\n",
       "      <td>17000</td>\n",
       "      <td>0</td>\n",
       "      <td>18780</td>\n",
       "      <td>22200</td>\n",
       "    </tr>\n",
       "    <tr>\n",
       "      <th>3</th>\n",
       "      <td>0</td>\n",
       "      <td>10</td>\n",
       "      <td>2017-09-15T09:21:16.000-07:00</td>\n",
       "      <td>WY</td>\n",
       "      <td>980xx</td>\n",
       "      <td>58.7</td>\n",
       "      <td>167000.0</td>\n",
       "      <td>NaN</td>\n",
       "      <td>INDIVIDUAL</td>\n",
       "      <td>5382</td>\n",
       "      <td>...</td>\n",
       "      <td>0</td>\n",
       "      <td>64581</td>\n",
       "      <td>110029</td>\n",
       "      <td>27</td>\n",
       "      <td>64581</td>\n",
       "      <td>64514.0</td>\n",
       "      <td>10200</td>\n",
       "      <td>10</td>\n",
       "      <td>70729</td>\n",
       "      <td>39300</td>\n",
       "    </tr>\n",
       "    <tr>\n",
       "      <th>4</th>\n",
       "      <td>1</td>\n",
       "      <td>3</td>\n",
       "      <td>2017-08-28T13:59:18.000-07:00</td>\n",
       "      <td>AZ</td>\n",
       "      <td>852xx</td>\n",
       "      <td>51.6</td>\n",
       "      <td>100000.0</td>\n",
       "      <td>NaN</td>\n",
       "      <td>INDIVIDUAL</td>\n",
       "      <td>30102</td>\n",
       "      <td>...</td>\n",
       "      <td>0</td>\n",
       "      <td>240814</td>\n",
       "      <td>299519</td>\n",
       "      <td>20</td>\n",
       "      <td>48508</td>\n",
       "      <td>44191.0</td>\n",
       "      <td>4900</td>\n",
       "      <td>2</td>\n",
       "      <td>86958</td>\n",
       "      <td>17100</td>\n",
       "    </tr>\n",
       "  </tbody>\n",
       "</table>\n",
       "<p>5 rows × 103 columns</p>\n",
       "</div>"
      ],
      "text/plain": [
       "   accNowDelinq  accOpenPast24Mths                        acceptD addrState  \\\n",
       "0             0                  7  2017-09-19T07:36:37.000-07:00        CO   \n",
       "1             0                  9  2017-08-31T12:05:58.000-07:00        WI   \n",
       "2             0                  1  2017-09-21T18:28:57.000-07:00        TX   \n",
       "3             0                 10  2017-09-15T09:21:16.000-07:00        WY   \n",
       "4             1                  3  2017-08-28T13:59:18.000-07:00        AZ   \n",
       "\n",
       "  addrZip  allUtil  annualInc  annualIncJoint applicationType  avgCurBal  \\\n",
       "0   800xx     64.1    45000.0         85000.0           JOINT       7039   \n",
       "1   530xx     23.0    27887.0             NaN      INDIVIDUAL       1035   \n",
       "2   761xx     63.9    38000.0         79000.0           JOINT       2911   \n",
       "3   980xx     58.7   167000.0             NaN      INDIVIDUAL       5382   \n",
       "4   852xx     51.6   100000.0             NaN      INDIVIDUAL      30102   \n",
       "\n",
       "       ...        totCollAmt  totCurBal  totHiCredLim  totalAcc  \\\n",
       "0      ...              4300      70390         88947        34   \n",
       "1      ...                 0      14498         34289        17   \n",
       "2      ...                 0      26198         40980        13   \n",
       "3      ...                 0      64581        110029        27   \n",
       "4      ...                 0     240814        299519        20   \n",
       "\n",
       "  totalBalExMort  totalBalIl  totalBcLimit totalCuTl  totalIlHighCreditLimit  \\\n",
       "0          70390     66141.0         10800         4                   72447   \n",
       "1          14498      8974.0         18050         2                   10539   \n",
       "2          26198     14788.0         17000         0                   18780   \n",
       "3          64581     64514.0         10200        10                   70729   \n",
       "4          48508     44191.0          4900         2                   86958   \n",
       "\n",
       "   totalRevHiLim  \n",
       "0          16500  \n",
       "1          23750  \n",
       "2          22200  \n",
       "3          39300  \n",
       "4          17100  \n",
       "\n",
       "[5 rows x 103 columns]"
      ]
     },
     "execution_count": 56,
     "metadata": {},
     "output_type": "execute_result"
    }
   ],
   "source": [
    "loans_df.head()"
   ]
  },
  {
   "cell_type": "code",
   "execution_count": 57,
   "metadata": {},
   "outputs": [
    {
     "name": "stdout",
     "output_type": "stream",
     "text": [
      "<class 'pandas.core.frame.DataFrame'>\n",
      "RangeIndex: 629 entries, 0 to 628\n",
      "Data columns (total 103 columns):\n",
      "accNowDelinq                  int64\n",
      "accOpenPast24Mths             int64\n",
      "acceptD                       object\n",
      "addrState                     object\n",
      "addrZip                       object\n",
      "allUtil                       float64\n",
      "annualInc                     float64\n",
      "annualIncJoint                float64\n",
      "applicationType               object\n",
      "avgCurBal                     int64\n",
      "bcOpenToBuy                   float64\n",
      "bcUtil                        float64\n",
      "chargeoffWithin12Mths         int64\n",
      "collections12MthsExMed        int64\n",
      "creditPullD                   object\n",
      "delinq2Yrs                    int64\n",
      "delinqAmnt                    float64\n",
      "desc                          object\n",
      "dti                           float64\n",
      "dtiJoint                      float64\n",
      "earliestCrLine                object\n",
      "empLength                     float64\n",
      "empTitle                      object\n",
      "expD                          object\n",
      "expDefaultRate                float64\n",
      "ficoRangeHigh                 int64\n",
      "ficoRangeLow                  int64\n",
      "fundedAmount                  float64\n",
      "grade                         object\n",
      "homeOwnership                 object\n",
      "iLUtil                        float64\n",
      "id                            int64\n",
      "ilsExpD                       object\n",
      "initialListStatus             object\n",
      "inqFi                         int64\n",
      "inqLast12m                    int64\n",
      "inqLast6Mths                  int64\n",
      "installment                   float64\n",
      "intRate                       float64\n",
      "investorCount                 object\n",
      "isIncV                        object\n",
      "isIncVJoint                   object\n",
      "listD                         object\n",
      "loanAmount                    float64\n",
      "maxBalBc                      float64\n",
      "memberId                      int64\n",
      "moSinOldIlAcct                float64\n",
      "moSinOldRevTlOp               int64\n",
      "moSinRcntRevTlOp              int64\n",
      "moSinRcntTl                   int64\n",
      "mortAcc                       int64\n",
      "mthsSinceLastDelinq           float64\n",
      "mthsSinceLastMajorDerog       float64\n",
      "mthsSinceLastRecord           float64\n",
      "mthsSinceRcntIl               float64\n",
      "mthsSinceRecentBc             float64\n",
      "mthsSinceRecentBcDlq          float64\n",
      "mthsSinceRecentInq            float64\n",
      "mthsSinceRecentRevolDelinq    float64\n",
      "numAcctsEver120Ppd            int64\n",
      "numActvBcTl                   int64\n",
      "numActvRevTl                  int64\n",
      "numBcSats                     int64\n",
      "numBcTl                       int64\n",
      "numIlTl                       int64\n",
      "numOpRevTl                    int64\n",
      "numRevAccts                   int64\n",
      "numRevTlBalGt0                int64\n",
      "numSats                       int64\n",
      "numTl120dpd2m                 float64\n",
      "numTl30dpd                    int64\n",
      "numTl90gDpd24m                int64\n",
      "numTlOpPast12m                int64\n",
      "openAcc                       int64\n",
      "openAcc6m                     int64\n",
      "openIl12m                     int64\n",
      "openIl24m                     int64\n",
      "openIl6m                      int64\n",
      "openRv12m                     int64\n",
      "openRv24m                     int64\n",
      "pctTlNvrDlq                   int64\n",
      "percentBcGt75                 float64\n",
      "pubRec                        int64\n",
      "pubRecBankruptcies            int64\n",
      "purpose                       object\n",
      "reviewStatus                  object\n",
      "reviewStatusD                 object\n",
      "revolBal                      float64\n",
      "revolUtil                     float64\n",
      "serviceFeeRate                float64\n",
      "subGrade                      object\n",
      "taxLiens                      int64\n",
      "term                          int64\n",
      "totCollAmt                    int64\n",
      "totCurBal                     int64\n",
      "totHiCredLim                  int64\n",
      "totalAcc                      int64\n",
      "totalBalExMort                int64\n",
      "totalBalIl                    float64\n",
      "totalBcLimit                  int64\n",
      "totalCuTl                     int64\n",
      "totalIlHighCreditLimit        int64\n",
      "totalRevHiLim                 int64\n",
      "dtypes: float64(31), int64(51), object(21)\n",
      "memory usage: 506.2+ KB\n"
     ]
    }
   ],
   "source": [
    "loans_df.info(verbose=True)"
   ]
  },
  {
   "cell_type": "code",
   "execution_count": 59,
   "metadata": {},
   "outputs": [
    {
     "data": {
      "text/plain": [
       "0    119361021\n",
       "1    117290003\n",
       "2    119702021\n",
       "3    119201589\n",
       "4    117874429\n",
       "Name: id, dtype: int64"
      ]
     },
     "execution_count": 59,
     "metadata": {},
     "output_type": "execute_result"
    }
   ],
   "source": [
    "loans_df.id.head()"
   ]
  },
  {
   "cell_type": "markdown",
   "metadata": {},
   "source": [
    "#### Convert EmpLength to years"
   ]
  },
  {
   "cell_type": "code",
   "execution_count": 60,
   "metadata": {
    "collapsed": true
   },
   "outputs": [],
   "source": [
    "loans_df.empLength = loans_df.empLength.apply(lambda x: x/60 if x >0 else 0)"
   ]
  },
  {
   "cell_type": "markdown",
   "metadata": {},
   "source": [
    "#### Create month to int 1-12"
   ]
  },
  {
   "cell_type": "code",
   "execution_count": 61,
   "metadata": {
    "collapsed": true
   },
   "outputs": [],
   "source": [
    "loans_df['month'] = loans_df.acceptD.apply(lambda x: pd.to_datetime(x).month)"
   ]
  },
  {
   "cell_type": "markdown",
   "metadata": {},
   "source": [
    "#### Crea cols term_36 and term_60"
   ]
  },
  {
   "cell_type": "code",
   "execution_count": 62,
   "metadata": {
    "collapsed": true
   },
   "outputs": [],
   "source": [
    "loans_df['term_36'] = [1 if i ==36 else 0 for i in loans_df.term]"
   ]
  },
  {
   "cell_type": "code",
   "execution_count": 63,
   "metadata": {
    "collapsed": true
   },
   "outputs": [],
   "source": [
    "loans_df['term_60'] = [1 if i ==60 else 0 for i in loans_df.term]"
   ]
  },
  {
   "cell_type": "markdown",
   "metadata": {},
   "source": [
    "#### Create grade columns\n",
    "- a:g"
   ]
  },
  {
   "cell_type": "code",
   "execution_count": 64,
   "metadata": {
    "collapsed": true
   },
   "outputs": [],
   "source": [
    "loans_df['grade_a'] = [1 if i =='A' else 0 for i in loans_df.grade]\n",
    "loans_df['grade_b']= [1 if i =='B' else 0 for i in loans_df.grade]\n",
    "loans_df['grade_c']= [1 if i =='C' else 0 for i in loans_df.grade]\n",
    "loans_df['grade_d']= [1 if i =='D' else 0 for i in loans_df.grade]\n",
    "loans_df['grade_e']= [1 if i =='E' else 0 for i in loans_df.grade]\n",
    "loans_df['grade_f']= [1 if i =='F' else 0 for i in loans_df.grade]\n",
    "loans_df['grade_g']= [1 if i =='G' else 0 for i in loans_df.grade]"
   ]
  },
  {
   "cell_type": "markdown",
   "metadata": {},
   "source": [
    "### Create home ownership columns\n",
    "-'home_ownership_ANY',\n",
    " 'home_ownership_MORTGAGE',\n",
    " 'home_ownership_NONE',\n",
    " 'home_ownership_OTHER',\n",
    " 'home_ownership_OWN',\n",
    " 'home_ownership_RENT',"
   ]
  },
  {
   "cell_type": "code",
   "execution_count": 65,
   "metadata": {
    "collapsed": true
   },
   "outputs": [],
   "source": [
    "loans_df['home_ownership_any'] = [1 if i =='ANY' else 0 for i in loans_df.homeOwnership]\n",
    "loans_df['home_ownership_mortgage'] = [1 if i =='MORTGAGE' else 0 for i in loans_df.homeOwnership]\n",
    "loans_df['home_ownership_none'] = [1 if i =='NONE' else 0 for i in loans_df.homeOwnership]\n",
    "loans_df['home_ownership_other'] = [1 if i =='OTHER' else 0 for i in loans_df.homeOwnership]\n",
    "loans_df['home_ownership_own'] = [1 if i =='OWN' else 0 for i in loans_df.homeOwnership]\n",
    "loans_df['home_ownership_rent'] = [1 if i =='RENT' else 0 for i in loans_df.homeOwnership]"
   ]
  },
  {
   "cell_type": "markdown",
   "metadata": {},
   "source": [
    "## Create purpose columns\n",
    "-'purpose_credit_card',\n",
    " 'purpose_debt_consolidation',\n",
    " 'purpose_educational',\n",
    " 'purpose_home_improvement',\n",
    " 'purpose_house',\n",
    " 'purpose_major_purchase',\n",
    " 'purpose_medical',\n",
    " 'purpose_moving',\n",
    " 'purpose_other',\n",
    " 'purpose_renewable_energy',\n",
    " 'purpose_small_business',\n",
    " 'purpose_vacation',\n",
    " 'purpose_wedding',"
   ]
  },
  {
   "cell_type": "code",
   "execution_count": 67,
   "metadata": {
    "collapsed": true
   },
   "outputs": [],
   "source": [
    "loans_df['purpose_credit_card'] = [1 if i =='credit_card' else 0 for i in loans_df.purpose]\n",
    "loans_df['purpose_debt_consolidation'] = [1 if i =='debt_consolidation' else 0 for i in loans_df.purpose]\n",
    "loans_df['purpose_educational'] = [1 if i =='educational' else 0 for i in loans_df.purpose]\n",
    "loans_df['purpose_home_improvement'] = [1 if i =='home_improvement' else 0 for i in loans_df.purpose]\n",
    "loans_df['purpose_house'] = [1 if i =='house' else 0 for i in loans_df.purpose]\n",
    "loans_df['purpose_major_purchase'] = [1 if i =='major_purchase' else 0 for i in loans_df.purpose]\n",
    "loans_df['purpose_medical'] = [1 if i =='medical' else 0 for i in loans_df.purpose]\n",
    "loans_df['purpose_moving'] = [1 if i =='moving' else 0 for i in loans_df.purpose]\n",
    "loans_df['purpose_other'] = [1 if i =='other' else 0 for i in loans_df.purpose]\n",
    "loans_df['purpose_renewable_energy'] = [1 if i =='renewable_energy' else 0 for i in loans_df.purpose]\n",
    "loans_df['purpose_small_business'] = [1 if i =='small_business' else 0 for i in loans_df.purpose]\n",
    "loans_df['purpose_vacation'] = [1 if i =='vacation' else 0 for i in loans_df.purpose]\n",
    "loans_df['purpose_wedding'] = [1 if i =='wedding' else 0 for i in loans_df.purpose]\n",
    "loans_df['purpose_car'] = [1 if i =='car' else 0 for i in loans_df.purpose]\n",
    "\n",
    "\n"
   ]
  },
  {
   "cell_type": "markdown",
   "metadata": {},
   "source": [
    "### Create the states columns\n",
    "'addr_state_AK',\n",
    " 'addr_state_AL',\n",
    " 'addr_state_AR',\n",
    " 'addr_state_AZ',\n",
    " 'addr_state_CA',\n",
    " 'addr_state_CO',\n",
    " 'addr_state_CT',\n",
    " 'addr_state_DC',\n",
    " 'addr_state_DE',\n",
    " 'addr_state_FL',\n",
    " 'addr_state_GA',\n",
    " 'addr_state_HI',\n",
    " 'addr_state_IA',\n",
    " 'addr_state_ID',\n",
    " 'addr_state_IL',\n",
    " 'addr_state_IN',\n",
    " 'addr_state_KS',\n",
    " 'addr_state_KY',\n",
    " 'addr_state_LA',\n",
    " 'addr_state_MA',\n",
    " 'addr_state_MD',\n",
    " 'addr_state_ME',\n",
    " 'addr_state_MI',\n",
    " 'addr_state_MN',\n",
    " 'addr_state_MO',\n",
    " 'addr_state_MS',\n",
    " 'addr_state_MT',\n",
    " 'addr_state_NC',\n",
    " 'addr_state_ND',\n",
    " 'addr_state_NE',\n",
    " 'addr_state_NH',\n",
    " 'addr_state_NJ',\n",
    " 'addr_state_NM',\n",
    " 'addr_state_NV',\n",
    " 'addr_state_NY',\n",
    " 'addr_state_OH',\n",
    " 'addr_state_OK',\n",
    " 'addr_state_OR',\n",
    " 'addr_state_PA',\n",
    " 'addr_state_RI',\n",
    " 'addr_state_SC',\n",
    " 'addr_state_SD',\n",
    " 'addr_state_TN',\n",
    " 'addr_state_TX',\n",
    " 'addr_state_UT',\n",
    " 'addr_state_VA',\n",
    " 'addr_state_VT',\n",
    " 'addr_state_WA',\n",
    " 'addr_state_WI',\n",
    " 'addr_state_WV',\n",
    " 'addr_state_WY'"
   ]
  },
  {
   "cell_type": "code",
   "execution_count": 68,
   "metadata": {
    "collapsed": true
   },
   "outputs": [],
   "source": [
    "loans_df['addr_state_AK'] = [1 if i =='AK' else 0 for i in loans_df.addrState]\n",
    "loans_df['addr_state_AL'] = [1 if i =='AL' else 0 for i in loans_df.addrState]\n",
    "loans_df['addr_state_AR'] = [1 if i =='AR' else 0 for i in loans_df.addrState]\n",
    "loans_df['addr_state_AZ'] = [1 if i =='AZ' else 0 for i in loans_df.addrState]\n",
    "loans_df['addr_state_CA'] = [1 if i =='CA' else 0 for i in loans_df.addrState]\n",
    "loans_df['addr_state_CO'] = [1 if i =='CO' else 0 for i in loans_df.addrState]\n",
    "loans_df['addr_state_CT'] = [1 if i =='CT' else 0 for i in loans_df.addrState]\n",
    "loans_df['addr_state_DC'] = [1 if i =='DC' else 0 for i in loans_df.addrState]\n",
    "loans_df['addr_state_DE'] = [1 if i =='DE' else 0 for i in loans_df.addrState]\n",
    "loans_df['addr_state_FL'] = [1 if i =='FL' else 0 for i in loans_df.addrState]\n",
    "loans_df['addr_state_GA'] = [1 if i =='GA' else 0 for i in loans_df.addrState]\n",
    "loans_df['addr_state_HI'] = [1 if i =='HI' else 0 for i in loans_df.addrState]\n",
    "loans_df['addr_state_IA'] = [1 if i =='IA' else 0 for i in loans_df.addrState]\n",
    "loans_df['addr_state_ID'] = [1 if i =='ID' else 0 for i in loans_df.addrState]\n",
    "loans_df['addr_state_IL'] = [1 if i =='IL' else 0 for i in loans_df.addrState]\n",
    "loans_df['addr_state_IN'] = [1 if i =='IN' else 0 for i in loans_df.addrState]\n",
    "loans_df['addr_state_KS'] = [1 if i =='KS' else 0 for i in loans_df.addrState]\n",
    "loans_df['addr_state_KY'] = [1 if i =='KY' else 0 for i in loans_df.addrState]\n",
    "loans_df['addr_state_LA'] = [1 if i =='LA' else 0 for i in loans_df.addrState]\n",
    "loans_df['addr_state_MA'] = [1 if i =='MA' else 0 for i in loans_df.addrState]\n",
    "loans_df['addr_state_MD'] = [1 if i =='MD' else 0 for i in loans_df.addrState]\n",
    "loans_df['addr_state_ME'] = [1 if i =='ME' else 0 for i in loans_df.addrState]\n",
    "loans_df['addr_state_MI'] = [1 if i =='MI' else 0 for i in loans_df.addrState]\n",
    "loans_df['addr_state_MN'] = [1 if i =='MN' else 0 for i in loans_df.addrState]\n",
    "loans_df['addr_state_MO'] = [1 if i =='MO' else 0 for i in loans_df.addrState]\n",
    "loans_df['addr_state_MS'] = [1 if i =='MS' else 0 for i in loans_df.addrState]\n",
    "loans_df['addr_state_MT'] = [1 if i =='MT' else 0 for i in loans_df.addrState]\n",
    "loans_df['addr_state_NC'] = [1 if i =='NC' else 0 for i in loans_df.addrState]\n",
    "loans_df['addr_state_ND'] = [1 if i =='ND' else 0 for i in loans_df.addrState]\n",
    "loans_df['addr_state_NE'] = [1 if i =='NE' else 0 for i in loans_df.addrState]\n",
    "loans_df['addr_state_NH'] = [1 if i =='NH' else 0 for i in loans_df.addrState]\n",
    "loans_df['addr_state_NJ'] = [1 if i =='NJ' else 0 for i in loans_df.addrState]\n",
    "loans_df['addr_state_NM'] = [1 if i =='NM' else 0 for i in loans_df.addrState]\n",
    "loans_df['addr_state_NV'] = [1 if i =='NV' else 0 for i in loans_df.addrState]\n",
    "loans_df['addr_state_NY'] = [1 if i =='NY' else 0 for i in loans_df.addrState]\n",
    "loans_df['addr_state_OH'] = [1 if i =='OH' else 0 for i in loans_df.addrState]\n",
    "loans_df['addr_state_OK'] = [1 if i =='OK' else 0 for i in loans_df.addrState]\n",
    "loans_df['addr_state_OR'] = [1 if i =='OR' else 0 for i in loans_df.addrState]\n",
    "loans_df['addr_state_PA'] = [1 if i =='PA' else 0 for i in loans_df.addrState]\n",
    "loans_df['addr_state_RI'] = [1 if i =='RI' else 0 for i in loans_df.addrState]\n",
    "loans_df['addr_state_SC'] = [1 if i =='SC' else 0 for i in loans_df.addrState]\n",
    "loans_df['addr_state_SD'] = [1 if i =='SD' else 0 for i in loans_df.addrState]\n",
    "loans_df['addr_state_TN'] = [1 if i =='TN' else 0 for i in loans_df.addrState]\n",
    "loans_df['addr_state_TX'] = [1 if i =='TX' else 0 for i in loans_df.addrState]\n",
    "loans_df['addr_state_UT'] = [1 if i =='UT' else 0 for i in loans_df.addrState]\n",
    "loans_df['addr_state_VA'] = [1 if i =='VA' else 0 for i in loans_df.addrState]\n",
    "loans_df['addr_state_VT'] = [1 if i =='VT' else 0 for i in loans_df.addrState]\n",
    "loans_df['addr_state_WA'] = [1 if i =='WA' else 0 for i in loans_df.addrState]\n",
    "loans_df['addr_state_WI'] = [1 if i =='WI' else 0 for i in loans_df.addrState]\n",
    "loans_df['addr_state_WV'] = [1 if i =='WV' else 0 for i in loans_df.addrState]\n",
    "loans_df['addr_state_WY'] = [1 if i =='WY' else 0 for i in loans_df.addrState]\n",
    "\n"
   ]
  },
  {
   "cell_type": "markdown",
   "metadata": {},
   "source": [
    "#### Create the zip code column"
   ]
  },
  {
   "cell_type": "code",
   "execution_count": 69,
   "metadata": {},
   "outputs": [
    {
     "data": {
      "text/plain": [
       "800"
      ]
     },
     "execution_count": 69,
     "metadata": {},
     "output_type": "execute_result"
    }
   ],
   "source": [
    "int(loans_df.addrZip[0][:3])"
   ]
  },
  {
   "cell_type": "markdown",
   "metadata": {},
   "source": [
    "- Drop null zip codes"
   ]
  },
  {
   "cell_type": "code",
   "execution_count": 70,
   "metadata": {},
   "outputs": [],
   "source": [
    "loans_df.addrZip = loans_df.addrZip.apply( lambda x: float(x[:3]))"
   ]
  },
  {
   "cell_type": "code",
   "execution_count": 82,
   "metadata": {},
   "outputs": [
    {
     "data": {
      "text/plain": [
       "Index([     u'accNowDelinq', u'accOpenPast24Mths',           u'acceptD',\n",
       "               u'addrState',           u'addrZip',           u'allUtil',\n",
       "               u'annualInc',    u'annualIncJoint',   u'applicationType',\n",
       "               u'avgCurBal',\n",
       "       ...\n",
       "           u'addr_state_SD',     u'addr_state_TN',     u'addr_state_TX',\n",
       "           u'addr_state_UT',     u'addr_state_VA',     u'addr_state_VT',\n",
       "           u'addr_state_WA',     u'addr_state_WI',     u'addr_state_WV',\n",
       "           u'addr_state_WY'],\n",
       "      dtype='object', length=184)"
      ]
     },
     "execution_count": 82,
     "metadata": {},
     "output_type": "execute_result"
    }
   ],
   "source": [
    "loans_df.columns"
   ]
  },
  {
   "cell_type": "code",
   "execution_count": 71,
   "metadata": {},
   "outputs": [],
   "source": [
    "# Columns to match the data model\n",
    "# empLength is in months - convert to years\n",
    "api_cols =['loanAmount',\n",
    "           'fundedAmount',\n",
    "           'intRate',\n",
    "           'installment',\n",
    "           'empLength',\n",
    "           'annualInc',\n",
    "           'addrZip',\n",
    "          'dti',\n",
    "           'delinq2Yrs',\n",
    "           'inqLast6Mths',\n",
    "       'mthsSinceLastDelinq',\n",
    "           'mthsSinceLastRecord',\n",
    "           'openAcc',\n",
    "           'pubRec',\n",
    "           'revolBal',\n",
    "           'revolUtil',\n",
    "           'totalAcc',\n",
    "      'collections12MthsExMed',\n",
    "           'mthsSinceLastMajorDerog',\n",
    "           'accNowDelinq',\n",
    "           'totCollAmt',\n",
    "           'totCurBal',\n",
    "           'openAcc6m',\n",
    "      'openIl6m',\n",
    "        'openIl12m',\n",
    "           'openIl24m',\n",
    "           'totalBalIl',\n",
    "           'iLUtil',\n",
    "           'maxBalBc',\n",
    "           'allUtil',\n",
    "        'totalRevHiLim',\n",
    "           'inqLast12m',\n",
    "           'accOpenPast24Mths',\n",
    "      'avgCurBal',\n",
    "           'bcUtil',\n",
    "           'chargeoffWithin12Mths',\n",
    "           'delinqAmnt',\n",
    "           'moSinOldIlAcct',\n",
    "           'moSinOldRevTlOp',\n",
    "           'moSinRcntRevTlOp',\n",
    "     'moSinRcntTl',\n",
    "           'mortAcc',\n",
    "           'mthsSinceRecentBc',\n",
    "           'mthsSinceRecentBcDlq',\n",
    "           'mthsSinceRecentInq',\n",
    "           'mthsSinceRecentRevolDelinq',\n",
    "      'numAcctsEver120Ppd',\n",
    "           'numActvBcTl',\n",
    "           'numActvRevTl',\n",
    "           'numBcSats',\n",
    "           'numBcTl',\n",
    "           'numIlTl',\n",
    "           'numOpRevTl',\n",
    "           'numRevAccts',\n",
    "      'numRevTlBalGt0',\n",
    "           'numSats',\n",
    "           'numTl120dpd2m',\n",
    "           'numTl30dpd',\n",
    "           'numTl90gDpd24m',\n",
    "           'numTlOpPast12m',\n",
    "           'pctTlNvrDlq',\n",
    "      'percentBcGt75',\n",
    "           'pubRecBankruptcies',\n",
    "           'taxLiens',\n",
    "           'totHiCredLim',\n",
    "           'totalBalExMort',\n",
    "           'totalBcLimit',\n",
    "           'totalIlHighCreditLimit',\n",
    "      'month',\n",
    "           'term_36',\n",
    "           'term_60',\n",
    "           'grade_a',\n",
    "           'grade_b',\n",
    "           'grade_c',\n",
    "           'grade_d',\n",
    "           'grade_e',\n",
    "           'grade_f',\n",
    "           'grade_g',\n",
    "      'home_ownership_any','home_ownership_mortgage','home_ownership_none','home_ownership_other','home_ownership_own',\n",
    "      'home_ownership_rent',\n",
    "           'purpose_car','purpose_credit_card','purpose_debt_consolidation','purpose_educational','purpose_home_improvement',\n",
    "      'purpose_house','purpose_major_purchase','purpose_medical','purpose_moving','purpose_other','purpose_renewable_energy',\n",
    "      'purpose_small_business','purpose_vacation','purpose_wedding',\n",
    "           'addr_state_AK','addr_state_AL','addr_state_AR',\n",
    "      'addr_state_AZ','addr_state_CA','addr_state_CO','addr_state_CT','addr_state_DC','addr_state_DE','addr_state_FL',\n",
    "      'addr_state_GA','addr_state_HI','addr_state_IA','addr_state_ID','addr_state_IL','addr_state_IN','addr_state_KS',\n",
    "      'addr_state_KY','addr_state_LA','addr_state_MA','addr_state_MD','addr_state_ME','addr_state_MI','addr_state_MN',\n",
    "      'addr_state_MO','addr_state_MS','addr_state_MT','addr_state_NC','addr_state_ND','addr_state_NE','addr_state_NH',\n",
    "      'addr_state_NJ','addr_state_NM','addr_state_NV','addr_state_NY','addr_state_OH','addr_state_OK','addr_state_OR',\n",
    "      'addr_state_PA','addr_state_RI','addr_state_SC','addr_state_SD','addr_state_TN','addr_state_TX','addr_state_UT',\n",
    "      'addr_state_VA','addr_state_VT','addr_state_WA','addr_state_WI','addr_state_WV','addr_state_WY']\n",
    "\n"
   ]
  },
  {
   "cell_type": "code",
   "execution_count": 72,
   "metadata": {},
   "outputs": [
    {
     "data": {
      "text/plain": [
       "149"
      ]
     },
     "execution_count": 72,
     "metadata": {},
     "output_type": "execute_result"
    }
   ],
   "source": [
    "len(api_cols)"
   ]
  },
  {
   "cell_type": "markdown",
   "metadata": {},
   "source": [
    "### Create the final data frame"
   ]
  },
  {
   "cell_type": "code",
   "execution_count": 74,
   "metadata": {},
   "outputs": [],
   "source": [
    "final_api_df = loans_df[api_cols]"
   ]
  },
  {
   "cell_type": "markdown",
   "metadata": {
    "collapsed": true
   },
   "source": [
    "# Data Model\n",
    "#### This is what the model was trained on\n",
    "```'loan_amnt',\n",
    " 'funded_amnt',\n",
    " 'int_rate',\n",
    " 'installment',\n",
    " 'emp_length',\n",
    " 'annual_inc',\n",
    " 'zip_code',\n",
    " 'dti',\n",
    " 'delinq_2yrs',\n",
    " 'inq_last_6mths',\n",
    " 'mths_since_last_delinq',\n",
    " 'mths_since_last_record',\n",
    " 'open_acc',\n",
    " 'pub_rec',\n",
    " 'revol_bal',\n",
    " 'revol_util',\n",
    " 'total_acc',\n",
    " 'collections_12_mths_ex_med',\n",
    " 'mths_since_last_major_derog',\n",
    " 'acc_now_delinq',\n",
    " 'tot_coll_amt',\n",
    " 'tot_cur_bal',\n",
    " 'open_acc_6m',\n",
    " 'open_il_6m',\n",
    " 'open_il_12m',\n",
    " 'open_il_24m',\n",
    " 'total_bal_il',\n",
    " 'il_util',\n",
    " 'max_bal_bc',\n",
    " 'all_util',\n",
    " 'total_rev_hi_lim',\n",
    " 'inq_last_12m',\n",
    " 'acc_open_past_24mths',\n",
    " 'avg_cur_bal',\n",
    " 'bc_util',\n",
    " 'chargeoff_within_12_mths',\n",
    " 'delinq_amnt',\n",
    " 'mo_sin_old_il_acct',\n",
    " 'mo_sin_old_rev_tl_op',\n",
    "'mo_sin_rcnt_rev_tl_op',\n",
    " 'mo_sin_rcnt_tl',\n",
    " 'mort_acc',\n",
    " 'mths_since_recent_bc',\n",
    " 'mths_since_recent_bc_dlq',\n",
    " 'mths_since_recent_inq',\n",
    " 'mths_since_recent_revol_delinq',\n",
    " 'num_accts_ever_120_pd',\n",
    " 'num_actv_bc_tl',\n",
    " 'num_actv_rev_tl',\n",
    " 'num_bc_sats',\n",
    " 'num_bc_tl',\n",
    " 'num_il_tl',\n",
    " 'num_op_rev_tl',\n",
    " 'num_rev_accts',\n",
    " 'num_rev_tl_bal_gt_0',\n",
    " 'num_sats',\n",
    " 'num_tl_120dpd_2m',\n",
    " 'num_tl_30dpd',\n",
    " 'num_tl_90g_dpd_24m',\n",
    " 'num_tl_op_past_12m',\n",
    " 'pct_tl_nvr_dlq',\n",
    " 'percent_bc_gt_75',\n",
    " 'pub_rec_bankruptcies',\n",
    " 'tax_liens',\n",
    " 'tot_hi_cred_lim',\n",
    " 'total_bal_ex_mort',\n",
    " 'total_bc_limit',\n",
    " 'total_il_high_credit_limit',\n",
    " 'month',\n",
    " 'term_ 36 months',\n",
    " 'term_ 60 months',\n",
    " 'grade_A',\n",
    " 'grade_B',\n",
    " 'grade_C',\n",
    " 'grade_D',\n",
    " 'grade_E',\n",
    " 'grade_F',\n",
    " 'grade_G',\n",
    " 'home_ownership_ANY',\n",
    " 'home_ownership_MORTGAGE',\n",
    " 'home_ownership_NONE',\n",
    " 'home_ownership_OTHER',\n",
    " 'home_ownership_OWN',\n",
    " 'home_ownership_RENT',\n",
    " 'purpose_car',\n",
    " 'purpose_credit_card',\n",
    " 'purpose_debt_consolidation',\n",
    " 'purpose_educational',\n",
    " 'purpose_home_improvement',\n",
    " 'purpose_house',\n",
    " 'purpose_major_purchase',\n",
    " 'purpose_medical',\n",
    " 'purpose_moving',\n",
    " 'purpose_other',\n",
    " 'purpose_renewable_energy',\n",
    " 'purpose_small_business',\n",
    " 'purpose_vacation',\n",
    " 'purpose_wedding',\n",
    " 'addr_state_AK',\n",
    " 'addr_state_AL',\n",
    " 'addr_state_AR',\n",
    " 'addr_state_AZ',\n",
    " 'addr_state_CA',\n",
    " 'addr_state_CO',\n",
    " 'addr_state_CT',\n",
    " 'addr_state_DC',\n",
    " 'addr_state_DE',\n",
    " 'addr_state_FL',\n",
    " 'addr_state_GA',\n",
    " 'addr_state_HI',\n",
    " 'addr_state_IA',\n",
    " 'addr_state_ID',\n",
    " 'addr_state_IL',\n",
    " 'addr_state_IN',\n",
    " 'addr_state_KS',\n",
    " 'addr_state_KY',\n",
    " 'addr_state_LA',\n",
    " 'addr_state_MA',\n",
    " 'addr_state_MD',\n",
    " 'addr_state_ME',\n",
    " 'addr_state_MI',\n",
    " 'addr_state_MN',\n",
    " 'addr_state_MO',\n",
    " 'addr_state_MS',\n",
    " 'addr_state_MT',\n",
    " 'addr_state_NC',\n",
    " 'addr_state_ND',\n",
    " 'addr_state_NE',\n",
    " 'addr_state_NH',\n",
    " 'addr_state_NJ',\n",
    " 'addr_state_NM',\n",
    " 'addr_state_NV',\n",
    " 'addr_state_NY',\n",
    " 'addr_state_OH',\n",
    " 'addr_state_OK',\n",
    " 'addr_state_OR',\n",
    " 'addr_state_PA',\n",
    " 'addr_state_RI',\n",
    " 'addr_state_SC',\n",
    " 'addr_state_SD',\n",
    " 'addr_state_TN',\n",
    " 'addr_state_TX',\n",
    " 'addr_state_UT',\n",
    " 'addr_state_VA',\n",
    " 'addr_state_VT',\n",
    " 'addr_state_WA',\n",
    " 'addr_state_WI',\n",
    " 'addr_state_WV',\n",
    " 'addr_state_WY'] ```"
   ]
  },
  {
   "cell_type": "code",
   "execution_count": 75,
   "metadata": {},
   "outputs": [],
   "source": [
    "total_x_cols = ['loan_amnt',\n",
    " 'funded_amnt',\n",
    " 'int_rate',\n",
    " 'installment',\n",
    " 'emp_length',\n",
    " 'annual_inc',\n",
    " 'zip_code',\n",
    " 'dti',\n",
    " 'delinq_2yrs',\n",
    " 'inq_last_6mths',\n",
    " 'mths_since_last_delinq',\n",
    " 'mths_since_last_record',\n",
    " 'open_acc',\n",
    " 'pub_rec',\n",
    " 'revol_bal',\n",
    " 'revol_util',\n",
    " 'total_acc',\n",
    " 'collections_12_mths_ex_med',\n",
    " 'mths_since_last_major_derog',\n",
    " 'acc_now_delinq',\n",
    " 'tot_coll_amt',\n",
    " 'tot_cur_bal',\n",
    " 'open_acc_6m',\n",
    " 'open_il_6m',\n",
    " 'open_il_12m',\n",
    " 'open_il_24m',\n",
    " 'total_bal_il',\n",
    " 'il_util',\n",
    " 'max_bal_bc',\n",
    " 'all_util',\n",
    " 'total_rev_hi_lim',\n",
    " 'inq_last_12m',\n",
    " 'acc_open_past_24mths',\n",
    " 'avg_cur_bal',\n",
    " 'bc_util',\n",
    " 'chargeoff_within_12_mths',\n",
    " 'delinq_amnt',\n",
    " 'mo_sin_old_il_acct',\n",
    " 'mo_sin_old_rev_tl_op',\n",
    " 'mo_sin_rcnt_rev_tl_op',\n",
    " 'mo_sin_rcnt_tl',\n",
    " 'mort_acc',\n",
    " 'mths_since_recent_bc',\n",
    " 'mths_since_recent_bc_dlq',\n",
    " 'mths_since_recent_inq',\n",
    " 'mths_since_recent_revol_delinq',\n",
    " 'num_accts_ever_120_pd',\n",
    " 'num_actv_bc_tl',\n",
    " 'num_actv_rev_tl',\n",
    " 'num_bc_sats',\n",
    " 'num_bc_tl',\n",
    " 'num_il_tl',\n",
    " 'num_op_rev_tl',\n",
    " 'num_rev_accts',\n",
    " 'num_rev_tl_bal_gt_0',\n",
    " 'num_sats',\n",
    " 'num_tl_120dpd_2m',\n",
    " 'num_tl_30dpd',\n",
    " 'num_tl_90g_dpd_24m',\n",
    " 'num_tl_op_past_12m',\n",
    " 'pct_tl_nvr_dlq',\n",
    " 'percent_bc_gt_75',\n",
    " 'pub_rec_bankruptcies',\n",
    " 'tax_liens',\n",
    " 'tot_hi_cred_lim',\n",
    " 'total_bal_ex_mort',\n",
    " 'total_bc_limit',\n",
    " 'total_il_high_credit_limit',\n",
    " 'month',\n",
    " 'term_ 36 months',\n",
    " 'term_ 60 months',\n",
    " 'grade_A',\n",
    " 'grade_B',\n",
    " 'grade_C',\n",
    " 'grade_D',\n",
    " 'grade_E',\n",
    " 'grade_F',\n",
    " 'grade_G',\n",
    " 'home_ownership_ANY',\n",
    " 'home_ownership_MORTGAGE',\n",
    " 'home_ownership_NONE',\n",
    " 'home_ownership_OTHER',\n",
    " 'home_ownership_OWN',\n",
    " 'home_ownership_RENT',\n",
    " 'purpose_car',\n",
    " 'purpose_credit_card',\n",
    " 'purpose_debt_consolidation',\n",
    " 'purpose_educational',\n",
    " 'purpose_home_improvement',\n",
    " 'purpose_house',\n",
    " 'purpose_major_purchase',\n",
    " 'purpose_medical',\n",
    " 'purpose_moving',\n",
    " 'purpose_other',\n",
    " 'purpose_renewable_energy',\n",
    " 'purpose_small_business',\n",
    " 'purpose_vacation',\n",
    " 'purpose_wedding',\n",
    " 'addr_state_AK',\n",
    " 'addr_state_AL',\n",
    " 'addr_state_AR',\n",
    " 'addr_state_AZ',\n",
    " 'addr_state_CA',\n",
    " 'addr_state_CO',\n",
    " 'addr_state_CT',\n",
    " 'addr_state_DC',\n",
    " 'addr_state_DE',\n",
    " 'addr_state_FL',\n",
    " 'addr_state_GA',\n",
    " 'addr_state_HI',\n",
    " 'addr_state_IA',\n",
    " 'addr_state_ID',\n",
    " 'addr_state_IL',\n",
    " 'addr_state_IN',\n",
    " 'addr_state_KS',\n",
    " 'addr_state_KY',\n",
    " 'addr_state_LA',\n",
    " 'addr_state_MA',\n",
    " 'addr_state_MD',\n",
    " 'addr_state_ME',\n",
    " 'addr_state_MI',\n",
    " 'addr_state_MN',\n",
    " 'addr_state_MO',\n",
    " 'addr_state_MS',\n",
    " 'addr_state_MT',\n",
    " 'addr_state_NC',\n",
    " 'addr_state_ND',\n",
    " 'addr_state_NE',\n",
    " 'addr_state_NH',\n",
    " 'addr_state_NJ',\n",
    " 'addr_state_NM',\n",
    " 'addr_state_NV',\n",
    " 'addr_state_NY',\n",
    " 'addr_state_OH',\n",
    " 'addr_state_OK',\n",
    " 'addr_state_OR',\n",
    " 'addr_state_PA',\n",
    " 'addr_state_RI',\n",
    " 'addr_state_SC',\n",
    " 'addr_state_SD',\n",
    " 'addr_state_TN',\n",
    " 'addr_state_TX',\n",
    " 'addr_state_UT',\n",
    " 'addr_state_VA',\n",
    " 'addr_state_VT',\n",
    " 'addr_state_WA',\n",
    " 'addr_state_WI',\n",
    " 'addr_state_WV',\n",
    " 'addr_state_WY']"
   ]
  },
  {
   "cell_type": "code",
   "execution_count": 76,
   "metadata": {},
   "outputs": [],
   "source": [
    "y_col = ['repaid']"
   ]
  },
  {
   "cell_type": "code",
   "execution_count": 77,
   "metadata": {},
   "outputs": [
    {
     "data": {
      "text/plain": [
       "149"
      ]
     },
     "execution_count": 77,
     "metadata": {},
     "output_type": "execute_result"
    }
   ],
   "source": [
    "len(total_x_cols)"
   ]
  },
  {
   "cell_type": "code",
   "execution_count": 78,
   "metadata": {},
   "outputs": [
    {
     "data": {
      "text/plain": [
       "149"
      ]
     },
     "execution_count": 78,
     "metadata": {},
     "output_type": "execute_result"
    }
   ],
   "source": [
    "len(api_cols)"
   ]
  },
  {
   "cell_type": "markdown",
   "metadata": {},
   "source": [
    "- Same number of columns and in the correct order \n"
   ]
  },
  {
   "cell_type": "markdown",
   "metadata": {},
   "source": [
    "### Impute zeros for NaNs"
   ]
  },
  {
   "cell_type": "code",
   "execution_count": 79,
   "metadata": {},
   "outputs": [
    {
     "name": "stderr",
     "output_type": "stream",
     "text": [
      "/usr/local/lib/python2.7/site-packages/pandas/core/frame.py:2754: SettingWithCopyWarning: \n",
      "A value is trying to be set on a copy of a slice from a DataFrame\n",
      "\n",
      "See the caveats in the documentation: http://pandas.pydata.org/pandas-docs/stable/indexing.html#indexing-view-versus-copy\n",
      "  downcast=downcast, **kwargs)\n"
     ]
    }
   ],
   "source": [
    "final_api_df.fillna(0,inplace=True)"
   ]
  },
  {
   "cell_type": "code",
   "execution_count": null,
   "metadata": {
    "collapsed": true
   },
   "outputs": [],
   "source": []
  },
  {
   "cell_type": "code",
   "execution_count": 80,
   "metadata": {},
   "outputs": [
    {
     "data": {
      "text/html": [
       "<div>\n",
       "<style>\n",
       "    .dataframe thead tr:only-child th {\n",
       "        text-align: right;\n",
       "    }\n",
       "\n",
       "    .dataframe thead th {\n",
       "        text-align: left;\n",
       "    }\n",
       "\n",
       "    .dataframe tbody tr th {\n",
       "        vertical-align: top;\n",
       "    }\n",
       "</style>\n",
       "<table border=\"1\" class=\"dataframe\">\n",
       "  <thead>\n",
       "    <tr style=\"text-align: right;\">\n",
       "      <th></th>\n",
       "      <th>loanAmount</th>\n",
       "      <th>fundedAmount</th>\n",
       "      <th>intRate</th>\n",
       "      <th>installment</th>\n",
       "      <th>empLength</th>\n",
       "      <th>annualInc</th>\n",
       "      <th>addrZip</th>\n",
       "      <th>dti</th>\n",
       "      <th>delinq2Yrs</th>\n",
       "      <th>inqLast6Mths</th>\n",
       "      <th>mthsSinceLastDelinq</th>\n",
       "      <th>mthsSinceLastRecord</th>\n",
       "      <th>openAcc</th>\n",
       "      <th>pubRec</th>\n",
       "      <th>revolBal</th>\n",
       "      <th>revolUtil</th>\n",
       "      <th>totalAcc</th>\n",
       "      <th>collections12MthsExMed</th>\n",
       "      <th>mthsSinceLastMajorDerog</th>\n",
       "      <th>accNowDelinq</th>\n",
       "    </tr>\n",
       "  </thead>\n",
       "  <tbody>\n",
       "    <tr>\n",
       "      <th>0</th>\n",
       "      <td>5000.0</td>\n",
       "      <td>4775.0</td>\n",
       "      <td>20.00</td>\n",
       "      <td>185.82</td>\n",
       "      <td>0.0</td>\n",
       "      <td>45000.0</td>\n",
       "      <td>800.0</td>\n",
       "      <td>42.56</td>\n",
       "      <td>3</td>\n",
       "      <td>1</td>\n",
       "      <td>6.0</td>\n",
       "      <td>0.0</td>\n",
       "      <td>11</td>\n",
       "      <td>0</td>\n",
       "      <td>4249.0</td>\n",
       "      <td>12.5</td>\n",
       "      <td>34</td>\n",
       "      <td>0</td>\n",
       "      <td>11.0</td>\n",
       "      <td>0</td>\n",
       "    </tr>\n",
       "    <tr>\n",
       "      <th>1</th>\n",
       "      <td>8500.0</td>\n",
       "      <td>700.0</td>\n",
       "      <td>26.30</td>\n",
       "      <td>343.84</td>\n",
       "      <td>0.0</td>\n",
       "      <td>27887.0</td>\n",
       "      <td>530.0</td>\n",
       "      <td>32.29</td>\n",
       "      <td>0</td>\n",
       "      <td>1</td>\n",
       "      <td>0.0</td>\n",
       "      <td>0.0</td>\n",
       "      <td>15</td>\n",
       "      <td>0</td>\n",
       "      <td>5524.0</td>\n",
       "      <td>23.0</td>\n",
       "      <td>17</td>\n",
       "      <td>0</td>\n",
       "      <td>0.0</td>\n",
       "      <td>0</td>\n",
       "    </tr>\n",
       "    <tr>\n",
       "      <th>2</th>\n",
       "      <td>12000.0</td>\n",
       "      <td>11875.0</td>\n",
       "      <td>9.44</td>\n",
       "      <td>384.06</td>\n",
       "      <td>0.4</td>\n",
       "      <td>38000.0</td>\n",
       "      <td>761.0</td>\n",
       "      <td>18.92</td>\n",
       "      <td>0</td>\n",
       "      <td>0</td>\n",
       "      <td>0.0</td>\n",
       "      <td>0.0</td>\n",
       "      <td>10</td>\n",
       "      <td>0</td>\n",
       "      <td>11410.0</td>\n",
       "      <td>51.4</td>\n",
       "      <td>13</td>\n",
       "      <td>0</td>\n",
       "      <td>0.0</td>\n",
       "      <td>0</td>\n",
       "    </tr>\n",
       "    <tr>\n",
       "      <th>3</th>\n",
       "      <td>28000.0</td>\n",
       "      <td>26425.0</td>\n",
       "      <td>30.75</td>\n",
       "      <td>918.84</td>\n",
       "      <td>0.6</td>\n",
       "      <td>167000.0</td>\n",
       "      <td>980.0</td>\n",
       "      <td>12.07</td>\n",
       "      <td>0</td>\n",
       "      <td>2</td>\n",
       "      <td>0.0</td>\n",
       "      <td>110.0</td>\n",
       "      <td>13</td>\n",
       "      <td>1</td>\n",
       "      <td>67.0</td>\n",
       "      <td>0.2</td>\n",
       "      <td>27</td>\n",
       "      <td>0</td>\n",
       "      <td>0.0</td>\n",
       "      <td>0</td>\n",
       "    </tr>\n",
       "    <tr>\n",
       "      <th>4</th>\n",
       "      <td>30000.0</td>\n",
       "      <td>1975.0</td>\n",
       "      <td>12.62</td>\n",
       "      <td>1005.34</td>\n",
       "      <td>2.0</td>\n",
       "      <td>100000.0</td>\n",
       "      <td>852.0</td>\n",
       "      <td>24.29</td>\n",
       "      <td>2</td>\n",
       "      <td>0</td>\n",
       "      <td>1.0</td>\n",
       "      <td>0.0</td>\n",
       "      <td>8</td>\n",
       "      <td>0</td>\n",
       "      <td>4317.0</td>\n",
       "      <td>25.2</td>\n",
       "      <td>20</td>\n",
       "      <td>0</td>\n",
       "      <td>56.0</td>\n",
       "      <td>1</td>\n",
       "    </tr>\n",
       "  </tbody>\n",
       "</table>\n",
       "</div>"
      ],
      "text/plain": [
       "   loanAmount  fundedAmount  intRate  installment  empLength  annualInc  \\\n",
       "0      5000.0        4775.0    20.00       185.82        0.0    45000.0   \n",
       "1      8500.0         700.0    26.30       343.84        0.0    27887.0   \n",
       "2     12000.0       11875.0     9.44       384.06        0.4    38000.0   \n",
       "3     28000.0       26425.0    30.75       918.84        0.6   167000.0   \n",
       "4     30000.0        1975.0    12.62      1005.34        2.0   100000.0   \n",
       "\n",
       "   addrZip    dti  delinq2Yrs  inqLast6Mths  mthsSinceLastDelinq  \\\n",
       "0    800.0  42.56           3             1                  6.0   \n",
       "1    530.0  32.29           0             1                  0.0   \n",
       "2    761.0  18.92           0             0                  0.0   \n",
       "3    980.0  12.07           0             2                  0.0   \n",
       "4    852.0  24.29           2             0                  1.0   \n",
       "\n",
       "   mthsSinceLastRecord  openAcc  pubRec  revolBal  revolUtil  totalAcc  \\\n",
       "0                  0.0       11       0    4249.0       12.5        34   \n",
       "1                  0.0       15       0    5524.0       23.0        17   \n",
       "2                  0.0       10       0   11410.0       51.4        13   \n",
       "3                110.0       13       1      67.0        0.2        27   \n",
       "4                  0.0        8       0    4317.0       25.2        20   \n",
       "\n",
       "   collections12MthsExMed  mthsSinceLastMajorDerog  accNowDelinq  \n",
       "0                       0                     11.0             0  \n",
       "1                       0                      0.0             0  \n",
       "2                       0                      0.0             0  \n",
       "3                       0                      0.0             0  \n",
       "4                       0                     56.0             1  "
      ]
     },
     "execution_count": 80,
     "metadata": {},
     "output_type": "execute_result"
    }
   ],
   "source": [
    "final_api_df.iloc[:,:20] .head()"
   ]
  },
  {
   "cell_type": "code",
   "execution_count": 81,
   "metadata": {},
   "outputs": [
    {
     "data": {
      "text/html": [
       "<div>\n",
       "<style>\n",
       "    .dataframe thead tr:only-child th {\n",
       "        text-align: right;\n",
       "    }\n",
       "\n",
       "    .dataframe thead th {\n",
       "        text-align: left;\n",
       "    }\n",
       "\n",
       "    .dataframe tbody tr th {\n",
       "        vertical-align: top;\n",
       "    }\n",
       "</style>\n",
       "<table border=\"1\" class=\"dataframe\">\n",
       "  <thead>\n",
       "    <tr style=\"text-align: right;\">\n",
       "      <th></th>\n",
       "      <th>totCollAmt</th>\n",
       "      <th>totCurBal</th>\n",
       "      <th>openAcc6m</th>\n",
       "      <th>openIl6m</th>\n",
       "      <th>openIl12m</th>\n",
       "      <th>openIl24m</th>\n",
       "      <th>totalBalIl</th>\n",
       "      <th>iLUtil</th>\n",
       "      <th>maxBalBc</th>\n",
       "      <th>allUtil</th>\n",
       "      <th>totalRevHiLim</th>\n",
       "      <th>inqLast12m</th>\n",
       "      <th>accOpenPast24Mths</th>\n",
       "      <th>avgCurBal</th>\n",
       "      <th>bcUtil</th>\n",
       "      <th>chargeoffWithin12Mths</th>\n",
       "      <th>delinqAmnt</th>\n",
       "      <th>moSinOldIlAcct</th>\n",
       "      <th>moSinOldRevTlOp</th>\n",
       "      <th>moSinRcntRevTlOp</th>\n",
       "    </tr>\n",
       "  </thead>\n",
       "  <tbody>\n",
       "    <tr>\n",
       "      <th>0</th>\n",
       "      <td>4300</td>\n",
       "      <td>70390</td>\n",
       "      <td>2</td>\n",
       "      <td>2</td>\n",
       "      <td>1</td>\n",
       "      <td>4</td>\n",
       "      <td>66141.0</td>\n",
       "      <td>84.8</td>\n",
       "      <td>2588.0</td>\n",
       "      <td>64.1</td>\n",
       "      <td>16500</td>\n",
       "      <td>5</td>\n",
       "      <td>7</td>\n",
       "      <td>7039</td>\n",
       "      <td>12.1</td>\n",
       "      <td>1</td>\n",
       "      <td>0.0</td>\n",
       "      <td>114.0</td>\n",
       "      <td>132</td>\n",
       "      <td>6</td>\n",
       "    </tr>\n",
       "    <tr>\n",
       "      <th>1</th>\n",
       "      <td>0</td>\n",
       "      <td>14498</td>\n",
       "      <td>4</td>\n",
       "      <td>1</td>\n",
       "      <td>1</td>\n",
       "      <td>1</td>\n",
       "      <td>8974.0</td>\n",
       "      <td>85.0</td>\n",
       "      <td>2765.0</td>\n",
       "      <td>23.0</td>\n",
       "      <td>23750</td>\n",
       "      <td>3</td>\n",
       "      <td>9</td>\n",
       "      <td>1035</td>\n",
       "      <td>30.0</td>\n",
       "      <td>0</td>\n",
       "      <td>0.0</td>\n",
       "      <td>161.0</td>\n",
       "      <td>44</td>\n",
       "      <td>3</td>\n",
       "    </tr>\n",
       "    <tr>\n",
       "      <th>2</th>\n",
       "      <td>0</td>\n",
       "      <td>26198</td>\n",
       "      <td>0</td>\n",
       "      <td>1</td>\n",
       "      <td>0</td>\n",
       "      <td>1</td>\n",
       "      <td>14788.0</td>\n",
       "      <td>78.7</td>\n",
       "      <td>3457.0</td>\n",
       "      <td>63.9</td>\n",
       "      <td>22200</td>\n",
       "      <td>0</td>\n",
       "      <td>1</td>\n",
       "      <td>2911</td>\n",
       "      <td>52.6</td>\n",
       "      <td>0</td>\n",
       "      <td>0.0</td>\n",
       "      <td>18.0</td>\n",
       "      <td>135</td>\n",
       "      <td>52</td>\n",
       "    </tr>\n",
       "    <tr>\n",
       "      <th>3</th>\n",
       "      <td>0</td>\n",
       "      <td>64581</td>\n",
       "      <td>4</td>\n",
       "      <td>4</td>\n",
       "      <td>2</td>\n",
       "      <td>6</td>\n",
       "      <td>64514.0</td>\n",
       "      <td>91.2</td>\n",
       "      <td>0.0</td>\n",
       "      <td>58.7</td>\n",
       "      <td>39300</td>\n",
       "      <td>5</td>\n",
       "      <td>10</td>\n",
       "      <td>5382</td>\n",
       "      <td>0.0</td>\n",
       "      <td>0</td>\n",
       "      <td>0.0</td>\n",
       "      <td>160.0</td>\n",
       "      <td>99</td>\n",
       "      <td>6</td>\n",
       "    </tr>\n",
       "    <tr>\n",
       "      <th>4</th>\n",
       "      <td>0</td>\n",
       "      <td>240814</td>\n",
       "      <td>0</td>\n",
       "      <td>3</td>\n",
       "      <td>0</td>\n",
       "      <td>1</td>\n",
       "      <td>44191.0</td>\n",
       "      <td>60.4</td>\n",
       "      <td>3897.0</td>\n",
       "      <td>51.6</td>\n",
       "      <td>17100</td>\n",
       "      <td>1</td>\n",
       "      <td>3</td>\n",
       "      <td>30102</td>\n",
       "      <td>88.1</td>\n",
       "      <td>0</td>\n",
       "      <td>25.0</td>\n",
       "      <td>182.0</td>\n",
       "      <td>162</td>\n",
       "      <td>71</td>\n",
       "    </tr>\n",
       "  </tbody>\n",
       "</table>\n",
       "</div>"
      ],
      "text/plain": [
       "   totCollAmt  totCurBal  openAcc6m  openIl6m  openIl12m  openIl24m  \\\n",
       "0        4300      70390          2         2          1          4   \n",
       "1           0      14498          4         1          1          1   \n",
       "2           0      26198          0         1          0          1   \n",
       "3           0      64581          4         4          2          6   \n",
       "4           0     240814          0         3          0          1   \n",
       "\n",
       "   totalBalIl  iLUtil  maxBalBc  allUtil  totalRevHiLim  inqLast12m  \\\n",
       "0     66141.0    84.8    2588.0     64.1          16500           5   \n",
       "1      8974.0    85.0    2765.0     23.0          23750           3   \n",
       "2     14788.0    78.7    3457.0     63.9          22200           0   \n",
       "3     64514.0    91.2       0.0     58.7          39300           5   \n",
       "4     44191.0    60.4    3897.0     51.6          17100           1   \n",
       "\n",
       "   accOpenPast24Mths  avgCurBal  bcUtil  chargeoffWithin12Mths  delinqAmnt  \\\n",
       "0                  7       7039    12.1                      1         0.0   \n",
       "1                  9       1035    30.0                      0         0.0   \n",
       "2                  1       2911    52.6                      0         0.0   \n",
       "3                 10       5382     0.0                      0         0.0   \n",
       "4                  3      30102    88.1                      0        25.0   \n",
       "\n",
       "   moSinOldIlAcct  moSinOldRevTlOp  moSinRcntRevTlOp  \n",
       "0           114.0              132                 6  \n",
       "1           161.0               44                 3  \n",
       "2            18.0              135                52  \n",
       "3           160.0               99                 6  \n",
       "4           182.0              162                71  "
      ]
     },
     "execution_count": 81,
     "metadata": {},
     "output_type": "execute_result"
    }
   ],
   "source": [
    "final_api_df.iloc[:,20:40] .head()"
   ]
  },
  {
   "cell_type": "markdown",
   "metadata": {},
   "source": [
    "# Create orders\n",
    "```\n",
    "URL: https://api.lendingclub.com/api/investor/<version>/accounts/<investor id>/orders\n",
    "\n",
    "\n",
    "{\n",
    "\t\"aid\":11111,\n",
    "\t\"orders\":[\n",
    "\t{\n",
    "\t\t\"loanId\":22222,\n",
    "\t\t\"requestedAmount\":55.0,\n",
    "\t\t\"portfolioId\":44444\n",
    "\t},\n",
    "\t{\n",
    "\t\t\"loanId\": 33333,\n",
    "\t\t\"requestedAmount\":25,\n",
    "\t\t\"portfolioId\":55555\n",
    "\t},\n",
    "\t{\n",
    "\t\t\"loanId\": 44444,\n",
    "\t\t\"requestedAmount\":25,\n",
    "\t}]\n",
    "}```"
   ]
  },
  {
   "cell_type": "code",
   "execution_count": 167,
   "metadata": {},
   "outputs": [],
   "source": [
    "loan_ids = loans_df.id"
   ]
  },
  {
   "cell_type": "code",
   "execution_count": null,
   "metadata": {
    "collapsed": true
   },
   "outputs": [],
   "source": []
  }
 ],
 "metadata": {
  "kernelspec": {
   "display_name": "Python 2",
   "language": "python",
   "name": "python2"
  }
 },
 "nbformat": 4,
 "nbformat_minor": 2
}
