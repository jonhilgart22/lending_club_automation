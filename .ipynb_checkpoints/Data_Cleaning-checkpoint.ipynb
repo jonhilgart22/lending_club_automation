{
 "cells": [
  {
   "cell_type": "code",
   "execution_count": 93,
   "metadata": {
    "collapsed": true
   },
   "outputs": [],
   "source": [
    "import pandas as pd\n",
    "import numpy as np\n",
    "import calendar"
   ]
  },
  {
   "cell_type": "code",
   "execution_count": 7,
   "metadata": {},
   "outputs": [
    {
     "name": "stderr",
     "output_type": "stream",
     "text": [
      "/Users/jonathanhilgart/anaconda/envs/dl/lib/python3.6/site-packages/IPython/core/interactiveshell.py:2717: DtypeWarning: Columns (0,18,46,54,111,122,123,124,127,128,129,132) have mixed types. Specify dtype option on import or set low_memory=False.\n",
      "  interactivity=interactivity, compiler=compiler, result=result)\n"
     ]
    }
   ],
   "source": [
    "lending_club_df = pd.read_csv(\"./data/accepted_2007_to_2017.csv\")"
   ]
  },
  {
   "cell_type": "code",
   "execution_count": 8,
   "metadata": {},
   "outputs": [
    {
     "data": {
      "text/html": [
       "<div>\n",
       "<table border=\"1\" class=\"dataframe\">\n",
       "  <thead>\n",
       "    <tr style=\"text-align: right;\">\n",
       "      <th></th>\n",
       "      <th>id</th>\n",
       "      <th>member_id</th>\n",
       "      <th>loan_amnt</th>\n",
       "      <th>funded_amnt</th>\n",
       "      <th>funded_amnt_inv</th>\n",
       "      <th>term</th>\n",
       "      <th>int_rate</th>\n",
       "      <th>installment</th>\n",
       "      <th>grade</th>\n",
       "      <th>sub_grade</th>\n",
       "      <th>...</th>\n",
       "      <th>hardship_amount</th>\n",
       "      <th>hardship_start_date</th>\n",
       "      <th>hardship_end_date</th>\n",
       "      <th>payment_plan_start_date</th>\n",
       "      <th>hardship_length</th>\n",
       "      <th>hardship_dpd</th>\n",
       "      <th>hardship_loan_status</th>\n",
       "      <th>orig_projected_additional_accrued_interest</th>\n",
       "      <th>hardship_payoff_balance_amount</th>\n",
       "      <th>hardship_last_payment_amount</th>\n",
       "    </tr>\n",
       "  </thead>\n",
       "  <tbody>\n",
       "    <tr>\n",
       "      <th>0</th>\n",
       "      <td>NaN</td>\n",
       "      <td>NaN</td>\n",
       "      <td>28000.0</td>\n",
       "      <td>28000.0</td>\n",
       "      <td>28000.0</td>\n",
       "      <td>36 months</td>\n",
       "      <td>7.62</td>\n",
       "      <td>872.52</td>\n",
       "      <td>A</td>\n",
       "      <td>A3</td>\n",
       "      <td>...</td>\n",
       "      <td>NaN</td>\n",
       "      <td>NaN</td>\n",
       "      <td>NaN</td>\n",
       "      <td>NaN</td>\n",
       "      <td>NaN</td>\n",
       "      <td>NaN</td>\n",
       "      <td>NaN</td>\n",
       "      <td>NaN</td>\n",
       "      <td>NaN</td>\n",
       "      <td>NaN</td>\n",
       "    </tr>\n",
       "    <tr>\n",
       "      <th>1</th>\n",
       "      <td>NaN</td>\n",
       "      <td>NaN</td>\n",
       "      <td>27600.0</td>\n",
       "      <td>27600.0</td>\n",
       "      <td>27600.0</td>\n",
       "      <td>60 months</td>\n",
       "      <td>19.97</td>\n",
       "      <td>730.78</td>\n",
       "      <td>D</td>\n",
       "      <td>D5</td>\n",
       "      <td>...</td>\n",
       "      <td>NaN</td>\n",
       "      <td>NaN</td>\n",
       "      <td>NaN</td>\n",
       "      <td>NaN</td>\n",
       "      <td>NaN</td>\n",
       "      <td>NaN</td>\n",
       "      <td>NaN</td>\n",
       "      <td>NaN</td>\n",
       "      <td>NaN</td>\n",
       "      <td>NaN</td>\n",
       "    </tr>\n",
       "    <tr>\n",
       "      <th>2</th>\n",
       "      <td>NaN</td>\n",
       "      <td>NaN</td>\n",
       "      <td>11100.0</td>\n",
       "      <td>11100.0</td>\n",
       "      <td>11100.0</td>\n",
       "      <td>36 months</td>\n",
       "      <td>14.98</td>\n",
       "      <td>384.68</td>\n",
       "      <td>C</td>\n",
       "      <td>C3</td>\n",
       "      <td>...</td>\n",
       "      <td>NaN</td>\n",
       "      <td>NaN</td>\n",
       "      <td>NaN</td>\n",
       "      <td>NaN</td>\n",
       "      <td>NaN</td>\n",
       "      <td>NaN</td>\n",
       "      <td>NaN</td>\n",
       "      <td>NaN</td>\n",
       "      <td>NaN</td>\n",
       "      <td>NaN</td>\n",
       "    </tr>\n",
       "    <tr>\n",
       "      <th>3</th>\n",
       "      <td>NaN</td>\n",
       "      <td>NaN</td>\n",
       "      <td>24000.0</td>\n",
       "      <td>24000.0</td>\n",
       "      <td>24000.0</td>\n",
       "      <td>36 months</td>\n",
       "      <td>13.53</td>\n",
       "      <td>814.80</td>\n",
       "      <td>B</td>\n",
       "      <td>B5</td>\n",
       "      <td>...</td>\n",
       "      <td>NaN</td>\n",
       "      <td>NaN</td>\n",
       "      <td>NaN</td>\n",
       "      <td>NaN</td>\n",
       "      <td>NaN</td>\n",
       "      <td>NaN</td>\n",
       "      <td>NaN</td>\n",
       "      <td>NaN</td>\n",
       "      <td>NaN</td>\n",
       "      <td>NaN</td>\n",
       "    </tr>\n",
       "    <tr>\n",
       "      <th>4</th>\n",
       "      <td>NaN</td>\n",
       "      <td>NaN</td>\n",
       "      <td>8000.0</td>\n",
       "      <td>8000.0</td>\n",
       "      <td>8000.0</td>\n",
       "      <td>36 months</td>\n",
       "      <td>10.99</td>\n",
       "      <td>261.88</td>\n",
       "      <td>B</td>\n",
       "      <td>B2</td>\n",
       "      <td>...</td>\n",
       "      <td>NaN</td>\n",
       "      <td>NaN</td>\n",
       "      <td>NaN</td>\n",
       "      <td>NaN</td>\n",
       "      <td>NaN</td>\n",
       "      <td>NaN</td>\n",
       "      <td>NaN</td>\n",
       "      <td>NaN</td>\n",
       "      <td>NaN</td>\n",
       "      <td>NaN</td>\n",
       "    </tr>\n",
       "  </tbody>\n",
       "</table>\n",
       "<p>5 rows × 136 columns</p>\n",
       "</div>"
      ],
      "text/plain": [
       "    id  member_id  loan_amnt  funded_amnt  funded_amnt_inv        term  \\\n",
       "0  NaN        NaN    28000.0      28000.0          28000.0   36 months   \n",
       "1  NaN        NaN    27600.0      27600.0          27600.0   60 months   \n",
       "2  NaN        NaN    11100.0      11100.0          11100.0   36 months   \n",
       "3  NaN        NaN    24000.0      24000.0          24000.0   36 months   \n",
       "4  NaN        NaN     8000.0       8000.0           8000.0   36 months   \n",
       "\n",
       "   int_rate  installment grade sub_grade             ...               \\\n",
       "0      7.62       872.52     A        A3             ...                \n",
       "1     19.97       730.78     D        D5             ...                \n",
       "2     14.98       384.68     C        C3             ...                \n",
       "3     13.53       814.80     B        B5             ...                \n",
       "4     10.99       261.88     B        B2             ...                \n",
       "\n",
       "  hardship_amount hardship_start_date hardship_end_date  \\\n",
       "0             NaN                 NaN               NaN   \n",
       "1             NaN                 NaN               NaN   \n",
       "2             NaN                 NaN               NaN   \n",
       "3             NaN                 NaN               NaN   \n",
       "4             NaN                 NaN               NaN   \n",
       "\n",
       "   payment_plan_start_date hardship_length hardship_dpd hardship_loan_status  \\\n",
       "0                      NaN             NaN          NaN                  NaN   \n",
       "1                      NaN             NaN          NaN                  NaN   \n",
       "2                      NaN             NaN          NaN                  NaN   \n",
       "3                      NaN             NaN          NaN                  NaN   \n",
       "4                      NaN             NaN          NaN                  NaN   \n",
       "\n",
       "  orig_projected_additional_accrued_interest hardship_payoff_balance_amount  \\\n",
       "0                                        NaN                            NaN   \n",
       "1                                        NaN                            NaN   \n",
       "2                                        NaN                            NaN   \n",
       "3                                        NaN                            NaN   \n",
       "4                                        NaN                            NaN   \n",
       "\n",
       "  hardship_last_payment_amount  \n",
       "0                          NaN  \n",
       "1                          NaN  \n",
       "2                          NaN  \n",
       "3                          NaN  \n",
       "4                          NaN  \n",
       "\n",
       "[5 rows x 136 columns]"
      ]
     },
     "execution_count": 8,
     "metadata": {},
     "output_type": "execute_result"
    }
   ],
   "source": [
    "lending_club_df.head()"
   ]
  },
  {
   "cell_type": "markdown",
   "metadata": {},
   "source": [
    "# Data Dictionary"
   ]
  },
  {
   "cell_type": "markdown",
   "metadata": {},
   "source": [
    "```acc_now_delinq\tThe number of accounts on which the borrower is now delinquent.\n",
    "acc_open_past_24mths\tNumber of trades opened in past 24 months.\n",
    "addr_state\tThe state provided by the borrower in the loan application\n",
    "all_util\tBalance to credit limit on all trades\n",
    "annual_inc\tThe self-reported annual income provided by the borrower during registration.\n",
    "annual_inc_joint\tThe combined self-reported annual income provided by the co-borrowers during registration\n",
    "application_type\tIndicates whether the loan is an individual application or a joint application with two co-borrowers\n",
    "avg_cur_bal\tAverage current balance of all accounts\n",
    "bc_open_to_buy\tTotal open to buy on revolving bankcards.\n",
    "bc_util\tRatio of total current balance to high credit/credit limit for all bankcard accounts.\n",
    "chargeoff_within_12_mths\tNumber of charge-offs within 12 months\n",
    "collection_recovery_fee\tpost charge off collection fee\n",
    "collections_12_mths_ex_med\tNumber of collections in 12 months excluding medical collections\n",
    "delinq_2yrs\tThe number of 30+ days past-due incidences of delinquency in the borrower's credit file for the past 2 years\n",
    "delinq_amnt\tThe past-due amount owed for the accounts on which the borrower is now delinquent.\n",
    "desc\tLoan description provided by the borrower\n",
    "dti\tA ratio calculated using the borrower’s total monthly debt payments on the total debt obligations, excluding mortgage and the requested LC loan, divided by the borrower’s self-reported monthly income.\n",
    "dti_joint\tA ratio calculated using the co-borrowers' total monthly payments on the total debt obligations, excluding mortgages and the requested LC loan, divided by the co-borrowers' combined self-reported monthly income\n",
    "earliest_cr_line\tThe month the borrower's earliest reported credit line was opened\n",
    "emp_length\tEmployment length in years. Possible values are between 0 and 10 where 0 means less than one year and 10 means ten or more years. \n",
    "emp_title\tThe job title supplied by the Borrower when applying for the loan.*\n",
    "fico_range_high\tThe upper boundary range the borrower’s FICO at loan origination belongs to.\n",
    "fico_range_low\tThe lower boundary range the borrower’s FICO at loan origination belongs to.\n",
    "funded_amnt\tThe total amount committed to that loan at that point in time.\n",
    "funded_amnt_inv\tThe total amount committed by investors for that loan at that point in time.\n",
    "grade\tLC assigned loan grade\n",
    "home_ownership\tThe home ownership status provided by the borrower during registration or obtained from the credit report. Our values are: RENT, OWN, MORTGAGE, OTHER\n",
    "id\tA unique LC assigned ID for the loan listing.\n",
    "il_util\tRatio of total current balance to high credit/credit limit on all install acct\n",
    "initial_list_status\tThe initial listing status of the loan. Possible values are – W, F\n",
    "inq_fi\tNumber of personal finance inquiries\n",
    "inq_last_12m\tNumber of credit inquiries in past 12 months\n",
    "inq_last_6mths\tThe number of inquiries in past 6 months (excluding auto and mortgage inquiries)\n",
    "installment\tThe monthly payment owed by the borrower if the loan originates.\n",
    "int_rate\tInterest Rate on the loan\n",
    "issue_d\tThe month which the loan was funded\n",
    "last_credit_pull_d\tThe most recent month LC pulled credit for this loan\n",
    "last_fico_range_high\tThe upper boundary range the borrower’s last FICO pulled belongs to.\n",
    "last_fico_range_low\tThe lower boundary range the borrower’s last FICO pulled belongs to.\n",
    "last_pymnt_amnt\tLast total payment amount received\n",
    "last_pymnt_d\tLast month payment was received\n",
    "loan_amnt\tThe listed amount of the loan applied for by the borrower. If at some point in time, the credit department reduces the loan amount, then it will be reflected in this value.\n",
    "loan_status\tCurrent status of the loan\n",
    "max_bal_bc\tMaximum current balance owed on all revolving accounts\n",
    "member_id\tA unique LC assigned Id for the borrower member.\n",
    "mo_sin_old_il_acct\tMonths since oldest bank installment account opened\n",
    "mo_sin_old_rev_tl_op\tMonths since oldest revolving account opened\n",
    "mo_sin_rcnt_rev_tl_op\tMonths since most recent revolving account opened\n",
    "mo_sin_rcnt_tl\tMonths since most recent account opened\n",
    "mort_acc\tNumber of mortgage accounts.\n",
    "mths_since_last_delinq\tThe number of months since the borrower's last delinquency.\n",
    "mths_since_last_major_derog\tMonths since most recent 90-day or worse rating\n",
    "mths_since_last_record\tThe number of months since the last public record.\n",
    "mths_since_rcnt_il\tMonths since most recent installment accounts opened\n",
    "mths_since_recent_bc\tMonths since most recent bankcard account opened.\n",
    "mths_since_recent_bc_dlq\tMonths since most recent bankcard delinquency\n",
    "mths_since_recent_inq\tMonths since most recent inquiry.\n",
    "mths_since_recent_revol_delinq\tMonths since most recent revolving delinquency.\n",
    "next_pymnt_d\tNext scheduled payment date\n",
    "num_accts_ever_120_pd\tNumber of accounts ever 120 or more days past due\n",
    "num_actv_bc_tl\tNumber of currently active bankcard accounts\n",
    "num_actv_rev_tl\tNumber of currently active revolving trades\n",
    "num_bc_sats\tNumber of satisfactory bankcard accounts\n",
    "num_bc_tl\tNumber of bankcard accounts\n",
    "num_il_tl\tNumber of installment accounts\n",
    "num_op_rev_tl\tNumber of open revolving accounts\n",
    "num_rev_accts\tNumber of revolving accounts\n",
    "num_rev_tl_bal_gt_0\tNumber of revolving trades with balance >0\n",
    "num_sats\tNumber of satisfactory accounts\n",
    "num_tl_120dpd_2m\tNumber of accounts currently 120 days past due (updated in past 2 months)\n",
    "num_tl_30dpd\tNumber of accounts currently 30 days past due (updated in past 2 months)\n",
    "num_tl_90g_dpd_24m\tNumber of accounts 90 or more days past due in last 24 months\n",
    "num_tl_op_past_12m\tNumber of accounts opened in past 12 months\n",
    "open_acc\tThe number of open credit lines in the borrower's credit file.\n",
    "open_acc_6m\tNumber of open trades in last 6 months\n",
    "open_il_12m\tNumber of installment accounts opened in past 12 months\n",
    "open_il_24m\tNumber of installment accounts opened in past 24 months\n",
    "open_il_6m\tNumber of currently active installment trades\n",
    "open_rv_12m\tNumber of revolving trades opened in past 12 months\n",
    "open_rv_24m\tNumber of revolving trades opened in past 24 months\n",
    "out_prncp\tRemaining outstanding principal for total amount funded\n",
    "out_prncp_inv\tRemaining outstanding principal for portion of total amount funded by investors\n",
    "pct_tl_nvr_dlq\tPercent of trades never delinquent\n",
    "percent_bc_gt_75\tPercentage of all bankcard accounts > 75% of limit.\n",
    "policy_code\t\"publicly available policy_code=1\n",
    "new products not publicly available policy_code=2\"\n",
    "pub_rec\tNumber of derogatory public records\n",
    "pub_rec_bankruptcies\tNumber of public record bankruptcies\n",
    "purpose\tA category provided by the borrower for the loan request. \n",
    "pymnt_plan\tIndicates if a payment plan has been put in place for the loan\n",
    "recoveries\tpost charge off gross recovery\n",
    "revol_bal\tTotal credit revolving balance\n",
    "revol_util\tRevolving line utilization rate, or the amount of credit the borrower is using relative to all available revolving credit.\n",
    "sub_grade\tLC assigned loan subgrade\n",
    "tax_liens\tNumber of tax liens\n",
    "term\tThe number of payments on the loan. Values are in months and can be either 36 or 60.\n",
    "title\tThe loan title provided by the borrower\n",
    "tot_coll_amt\tTotal collection amounts ever owed\n",
    "tot_cur_bal\tTotal current balance of all accounts\n",
    "tot_hi_cred_lim\tTotal high credit/credit limit\n",
    "total_acc\tThe total number of credit lines currently in the borrower's credit file\n",
    "total_bal_ex_mort\tTotal credit balance excluding mortgage\n",
    "total_bal_il\tTotal current balance of all installment accounts\n",
    "total_bc_limit\tTotal bankcard high credit/credit limit\n",
    "total_cu_tl\tNumber of finance trades\n",
    "total_il_high_credit_limit\tTotal installment high credit/credit limit\n",
    "total_pymnt\tPayments received to date for total amount funded\n",
    "total_pymnt_inv\tPayments received to date for portion of total amount funded by investors\n",
    "total_rec_int\tInterest received to date\n",
    "total_rec_late_fee\tLate fees received to date\n",
    "total_rec_prncp\tPrincipal received to date\n",
    "total_rev_hi_lim  \tTotal revolving high credit/credit limit\n",
    "url\tURL for the LC page with listing data.\n",
    "verification_status\tIndicates if income was verified by LC, not verified, or if the income source was verified\n",
    "verified_status_joint\tIndicates if the co-borrowers' joint income was verified by LC, not verified, or if the income source was verified\n",
    "zip_code\tThe first 3 numbers of the zip code provided by the borrower in the loan application.\n",
    "revol_bal_joint \t Sum of revolving credit balance of the co-borrowers, net of duplicate balances\n",
    "sec_app_fico_range_low \t FICO range (high) for the secondary applicant\n",
    "sec_app_fico_range_high \t FICO range (low) for the secondary applicant\n",
    "sec_app_earliest_cr_line \t Earliest credit line at time of application for the secondary applicant\n",
    "sec_app_inq_last_6mths \t Credit inquiries in the last 6 months at time of application for the secondary applicant\n",
    "sec_app_mort_acc \t Number of mortgage accounts at time of application for the secondary applicant\n",
    "sec_app_open_acc \t Number of open trades at time of application for the secondary applicant\n",
    "sec_app_revol_util \t Ratio of total current balance to high credit/credit limit for all revolving accounts\n",
    "sec_app_open_il_6m \t Number of currently active installment trades at time of application for the secondary applicant\n",
    "sec_app_num_rev_accts \t Number of revolving accounts at time of application for the secondary applicant\n",
    "sec_app_chargeoff_within_12_mths \t Number of charge-offs within last 12 months at time of application for the secondary applicant\n",
    "sec_app_collections_12_mths_ex_med \t Number of collections within last 12 months excluding medical collections at time of application for the secondary applicant\n",
    "sec_app_mths_since_last_major_derog \t Months since most recent 90-day or worse rating at time of application for the secondary applicant```"
   ]
  },
  {
   "cell_type": "code",
   "execution_count": null,
   "metadata": {
    "collapsed": true
   },
   "outputs": [],
   "source": []
  },
  {
   "cell_type": "markdown",
   "metadata": {},
   "source": [
    "# EDA\n",
    "- FIgure out which columns to drop"
   ]
  },
  {
   "cell_type": "code",
   "execution_count": 9,
   "metadata": {},
   "outputs": [
    {
     "name": "stdout",
     "output_type": "stream",
     "text": [
      "<class 'pandas.core.frame.DataFrame'>\n",
      "RangeIndex: 1524098 entries, 0 to 1524097\n",
      "Data columns (total 50 columns):\n",
      "id                             21 non-null object\n",
      "member_id                      0 non-null float64\n",
      "loan_amnt                      1524077 non-null float64\n",
      "funded_amnt                    1524077 non-null float64\n",
      "funded_amnt_inv                1524077 non-null float64\n",
      "term                           1524077 non-null object\n",
      "int_rate                       1524077 non-null float64\n",
      "installment                    1524077 non-null float64\n",
      "grade                          1524077 non-null object\n",
      "sub_grade                      1524077 non-null object\n",
      "emp_title                      1430443 non-null object\n",
      "emp_length                     1524077 non-null object\n",
      "home_ownership                 1524077 non-null object\n",
      "annual_inc                     1524073 non-null float64\n",
      "verification_status            1524077 non-null object\n",
      "issue_d                        1524077 non-null object\n",
      "loan_status                    1524077 non-null object\n",
      "pymnt_plan                     1524077 non-null object\n",
      "desc                           126068 non-null object\n",
      "purpose                        1524077 non-null object\n",
      "title                          1500753 non-null object\n",
      "zip_code                       1524076 non-null object\n",
      "addr_state                     1524077 non-null object\n",
      "dti                            1524077 non-null float64\n",
      "delinq_2yrs                    1524048 non-null float64\n",
      "earliest_cr_line               1524048 non-null object\n",
      "inq_last_6mths                 1524047 non-null float64\n",
      "mths_since_last_delinq         767495 non-null float64\n",
      "mths_since_last_record         259405 non-null float64\n",
      "open_acc                       1524048 non-null float64\n",
      "pub_rec                        1524048 non-null float64\n",
      "revol_bal                      1524077 non-null float64\n",
      "revol_util                     1523185 non-null float64\n",
      "total_acc                      1524048 non-null float64\n",
      "initial_list_status            1524077 non-null object\n",
      "out_prncp                      1524077 non-null float64\n",
      "out_prncp_inv                  1524077 non-null float64\n",
      "total_pymnt                    1524077 non-null float64\n",
      "total_pymnt_inv                1524077 non-null float64\n",
      "total_rec_prncp                1524077 non-null float64\n",
      "total_rec_int                  1524077 non-null float64\n",
      "total_rec_late_fee             1524077 non-null float64\n",
      "recoveries                     1524077 non-null float64\n",
      "collection_recovery_fee        1524077 non-null float64\n",
      "last_pymnt_d                   1514062 non-null object\n",
      "last_pymnt_amnt                1524077 non-null float64\n",
      "next_pymnt_d                   860907 non-null object\n",
      "last_credit_pull_d             1524009 non-null object\n",
      "collections_12_mths_ex_med     1523932 non-null float64\n",
      "mths_since_last_major_derog    403576 non-null float64\n",
      "dtypes: float64(29), object(21)\n",
      "memory usage: 581.4+ MB\n"
     ]
    }
   ],
   "source": [
    "lending_club_df.iloc[:,:50].info()"
   ]
  },
  {
   "cell_type": "code",
   "execution_count": 22,
   "metadata": {},
   "outputs": [
    {
     "name": "stdout",
     "output_type": "stream",
     "text": [
      "<class 'pandas.core.frame.DataFrame'>\n",
      "RangeIndex: 1524098 entries, 0 to 1524097\n",
      "Data columns (total 80 columns):\n",
      "tot_coll_amt                                  1453801 non-null float64\n",
      "tot_cur_bal                                   1453801 non-null float64\n",
      "open_acc_6m                                   657947 non-null float64\n",
      "open_il_6m                                    657948 non-null float64\n",
      "open_il_12m                                   657948 non-null float64\n",
      "open_il_24m                                   657948 non-null float64\n",
      "mths_since_rcnt_il                            640441 non-null float64\n",
      "total_bal_il                                  657948 non-null float64\n",
      "il_util                                       571467 non-null float64\n",
      "open_rv_12m                                   657948 non-null float64\n",
      "open_rv_24m                                   657948 non-null float64\n",
      "max_bal_bc                                    657948 non-null float64\n",
      "all_util                                      657909 non-null float64\n",
      "total_rev_hi_lim                              1453801 non-null float64\n",
      "inq_fi                                        657948 non-null float64\n",
      "total_cu_tl                                   657947 non-null float64\n",
      "inq_last_12m                                  657947 non-null float64\n",
      "acc_open_past_24mths                          1474047 non-null float64\n",
      "avg_cur_bal                                   1453787 non-null float64\n",
      "bc_open_to_buy                                1459346 non-null float64\n",
      "bc_util                                       1458538 non-null float64\n",
      "chargeoff_within_12_mths                      1523932 non-null float64\n",
      "delinq_amnt                                   1524048 non-null float64\n",
      "mo_sin_old_il_acct                            1411294 non-null float64\n",
      "mo_sin_old_rev_tl_op                          1453800 non-null float64\n",
      "mo_sin_rcnt_rev_tl_op                         1453800 non-null float64\n",
      "mo_sin_rcnt_tl                                1453801 non-null float64\n",
      "mort_acc                                      1474047 non-null float64\n",
      "mths_since_recent_bc                          1460268 non-null float64\n",
      "mths_since_recent_bc_dlq                      368014 non-null float64\n",
      "mths_since_recent_inq                         1318637 non-null float64\n",
      "mths_since_recent_revol_delinq                520064 non-null float64\n",
      "num_accts_ever_120_pd                         1453801 non-null float64\n",
      "num_actv_bc_tl                                1453801 non-null float64\n",
      "num_actv_rev_tl                               1453801 non-null float64\n",
      "num_bc_sats                                   1465487 non-null float64\n",
      "num_bc_tl                                     1453801 non-null float64\n",
      "num_il_tl                                     1453801 non-null float64\n",
      "num_op_rev_tl                                 1453801 non-null float64\n",
      "num_rev_accts                                 1453800 non-null float64\n",
      "num_rev_tl_bal_gt_0                           1453801 non-null float64\n",
      "num_sats                                      1465487 non-null float64\n",
      "num_tl_120dpd_2m                              1395094 non-null float64\n",
      "num_tl_30dpd                                  1453801 non-null float64\n",
      "num_tl_90g_dpd_24m                            1453801 non-null float64\n",
      "num_tl_op_past_12m                            1453801 non-null float64\n",
      "pct_tl_nvr_dlq                                1453648 non-null float64\n",
      "percent_bc_gt_75                              1458920 non-null float64\n",
      "pub_rec_bankruptcies                          1522712 non-null float64\n",
      "tax_liens                                     1523972 non-null float64\n",
      "tot_hi_cred_lim                               1453801 non-null float64\n",
      "total_bal_ex_mort                             1474047 non-null float64\n",
      "total_bc_limit                                1474047 non-null float64\n",
      "total_il_high_credit_limit                    1453801 non-null float64\n",
      "revol_bal_joint                               7831 non-null float64\n",
      "sec_app_earliest_cr_line                      7831 non-null object\n",
      "sec_app_inq_last_6mths                        7831 non-null float64\n",
      "sec_app_mort_acc                              7831 non-null float64\n",
      "sec_app_open_acc                              7831 non-null float64\n",
      "sec_app_revol_util                            7748 non-null float64\n",
      "sec_app_open_il_6m                            7831 non-null float64\n",
      "sec_app_num_rev_accts                         7831 non-null float64\n",
      "sec_app_chargeoff_within_12_mths              7831 non-null float64\n",
      "sec_app_collections_12_mths_ex_med            7831 non-null float64\n",
      "sec_app_mths_since_last_major_derog           2690 non-null float64\n",
      "hardship_flag                                 1524077 non-null object\n",
      "hardship_type                                 1061 non-null object\n",
      "hardship_reason                               1061 non-null object\n",
      "hardship_status                               1061 non-null object\n",
      "deferral_term                                 1061 non-null float64\n",
      "hardship_amount                               1061 non-null float64\n",
      "hardship_start_date                           1061 non-null object\n",
      "hardship_end_date                             1061 non-null object\n",
      "payment_plan_start_date                       1061 non-null object\n",
      "hardship_length                               1061 non-null float64\n",
      "hardship_dpd                                  1061 non-null float64\n",
      "hardship_loan_status                          1061 non-null object\n",
      "orig_projected_additional_accrued_interest    900 non-null float64\n",
      "hardship_payoff_balance_amount                1061 non-null float64\n",
      "hardship_last_payment_amount                  1061 non-null float64\n",
      "dtypes: float64(71), object(9)\n",
      "memory usage: 930.2+ MB\n"
     ]
    }
   ],
   "source": [
    "lending_club_df.iloc[:,50:150].info()"
   ]
  },
  {
   "cell_type": "markdown",
   "metadata": {},
   "source": [
    "## Figure out which columns to drop or impute 0"
   ]
  },
  {
   "cell_type": "code",
   "execution_count": 10,
   "metadata": {},
   "outputs": [
    {
     "data": {
      "text/plain": [
       "True"
      ]
     },
     "execution_count": 10,
     "metadata": {},
     "output_type": "execute_result"
    }
   ],
   "source": [
    "np.isnan(lending_club_df.mths_since_last_delinq[0])"
   ]
  },
  {
   "cell_type": "markdown",
   "metadata": {},
   "source": [
    "- 0 for mths since last deliquency if NaN"
   ]
  },
  {
   "cell_type": "code",
   "execution_count": 11,
   "metadata": {
    "collapsed": true
   },
   "outputs": [],
   "source": [
    "lending_club_df.mths_since_last_delinq = [0 if np.isnan(i)==True else i for i in lending_club_df.mths_since_last_delinq]"
   ]
  },
  {
   "cell_type": "markdown",
   "metadata": {},
   "source": [
    "- 0 for mths since last record if nan"
   ]
  },
  {
   "cell_type": "code",
   "execution_count": 12,
   "metadata": {
    "collapsed": true
   },
   "outputs": [],
   "source": [
    "lending_club_df.mths_since_last_record = [0 if np.isnan(i)==True else i for i in lending_club_df.mths_since_last_record]"
   ]
  },
  {
   "cell_type": "code",
   "execution_count": 13,
   "metadata": {},
   "outputs": [
    {
     "data": {
      "text/plain": [
       "0      0.0\n",
       "1      0.0\n",
       "2      0.0\n",
       "3      0.0\n",
       "4    104.0\n",
       "Name: mths_since_last_record, dtype: float64"
      ]
     },
     "execution_count": 13,
     "metadata": {},
     "output_type": "execute_result"
    }
   ],
   "source": [
    "lending_club_df.mths_since_last_record .head()"
   ]
  },
  {
   "cell_type": "markdown",
   "metadata": {},
   "source": [
    "- Look at employement title"
   ]
  },
  {
   "cell_type": "code",
   "execution_count": 14,
   "metadata": {},
   "outputs": [
    {
     "data": {
      "text/plain": [
       "416454"
      ]
     },
     "execution_count": 14,
     "metadata": {},
     "output_type": "execute_result"
    }
   ],
   "source": [
    "len(lending_club_df.emp_title.unique())"
   ]
  },
  {
   "cell_type": "markdown",
   "metadata": {},
   "source": [
    "- Too many, drop"
   ]
  },
  {
   "cell_type": "code",
   "execution_count": 15,
   "metadata": {
    "collapsed": true
   },
   "outputs": [],
   "source": [
    "lending_club_df.drop('emp_title',1,inplace=True)"
   ]
  },
  {
   "cell_type": "markdown",
   "metadata": {},
   "source": [
    "- Look at desc"
   ]
  },
  {
   "cell_type": "code",
   "execution_count": 16,
   "metadata": {},
   "outputs": [
    {
     "data": {
      "text/plain": [
       "'  Borrower added on 12/31/13 > I had some water main break and sewer replacement that ran up my Credit cards. I want to consolidate the Credit cards pay off one loan and refurbish my bathrooms.<br><br> Borrower added on 12/31/13 > I had two water main breaks one sewer and one clean water and the cost ran up credit cards expenditures.  I want to consolidate the credit cards with a set payment and upgrade my two bathrooms and water heater.<br><br> Borrower added on 12/31/13 > Consolidate credet cards and upgrade bathrooms.<br><br> Borrower added on 12/31/13 > Consolidate credit cards and upgrade two bathrooms.I have been at this job for six years and the job before this one for 24 years. This will make my finances easier to manage. It will provide more efficient bathroom equipment and water heater.<br>'"
      ]
     },
     "execution_count": 16,
     "metadata": {},
     "output_type": "execute_result"
    }
   ],
   "source": [
    "lending_club_df.desc.iloc[1]"
   ]
  },
  {
   "cell_type": "markdown",
   "metadata": {},
   "source": [
    "- Drop desc, not enough text to pull NLP features"
   ]
  },
  {
   "cell_type": "code",
   "execution_count": 17,
   "metadata": {
    "collapsed": true
   },
   "outputs": [],
   "source": [
    "lending_club_df.drop('desc',1,inplace=True)"
   ]
  },
  {
   "cell_type": "markdown",
   "metadata": {},
   "source": [
    "- Title\n",
    "    - Drop"
   ]
  },
  {
   "cell_type": "code",
   "execution_count": 18,
   "metadata": {
    "collapsed": true
   },
   "outputs": [],
   "source": [
    "lending_club_df.drop('title',1,inplace=True)"
   ]
  },
  {
   "cell_type": "markdown",
   "metadata": {},
   "source": [
    "- next_pymnt_d\n",
    "    - Drop"
   ]
  },
  {
   "cell_type": "code",
   "execution_count": 19,
   "metadata": {
    "collapsed": true
   },
   "outputs": [],
   "source": [
    "lending_club_df.drop('next_pymnt_d',1,inplace=True)"
   ]
  },
  {
   "cell_type": "markdown",
   "metadata": {},
   "source": [
    "- mths_since_last_major_derog\n",
    "    - impute 0 if nana"
   ]
  },
  {
   "cell_type": "code",
   "execution_count": 20,
   "metadata": {
    "collapsed": true
   },
   "outputs": [],
   "source": [
    "lending_club_df.mths_since_last_major_derog = [ 0 if np.isnan(i)==True else i for i in lending_club_df.mths_since_last_major_derog]"
   ]
  },
  {
   "cell_type": "markdown",
   "metadata": {
    "collapsed": true
   },
   "source": [
    "- Drop ID and member ID"
   ]
  },
  {
   "cell_type": "code",
   "execution_count": 21,
   "metadata": {
    "collapsed": true
   },
   "outputs": [],
   "source": [
    "lending_club_df.drop(['id','member_id'],1,inplace=True)"
   ]
  },
  {
   "cell_type": "markdown",
   "metadata": {},
   "source": [
    "- open_acc_6m\n",
    "    - impute 0"
   ]
  },
  {
   "cell_type": "code",
   "execution_count": 24,
   "metadata": {},
   "outputs": [],
   "source": [
    "lending_club_df.open_acc_6m = [0 if np.isnan(i)==True else i for i in lending_club_df.open_acc_6m]"
   ]
  },
  {
   "cell_type": "markdown",
   "metadata": {},
   "source": [
    "- open_il_6m\n",
    "    - impute 0 "
   ]
  },
  {
   "cell_type": "code",
   "execution_count": 26,
   "metadata": {
    "collapsed": true
   },
   "outputs": [],
   "source": [
    "lending_club_df.open_il_6m = [0 if np.isnan(i)==True else i for i in lending_club_df.open_il_6m]"
   ]
  },
  {
   "cell_type": "markdown",
   "metadata": {},
   "source": [
    "- open_il_12m\n",
    "    = impute 0"
   ]
  },
  {
   "cell_type": "code",
   "execution_count": 28,
   "metadata": {
    "collapsed": true
   },
   "outputs": [],
   "source": [
    "lending_club_df.open_il_12m = [0 if np.isnan(i)==True else i for i in lending_club_df.open_il_12m]"
   ]
  },
  {
   "cell_type": "markdown",
   "metadata": {},
   "source": [
    "-open_il_24m\n",
    "    - impute 0"
   ]
  },
  {
   "cell_type": "code",
   "execution_count": 29,
   "metadata": {
    "collapsed": true
   },
   "outputs": [],
   "source": [
    "lending_club_df.open_il_24m = [0 if np.isnan(i)==True else i for i in lending_club_df.open_il_24m]"
   ]
  },
  {
   "cell_type": "markdown",
   "metadata": {},
   "source": [
    "- mths_since_rcnt_il\n",
    "    - Drop"
   ]
  },
  {
   "cell_type": "code",
   "execution_count": 31,
   "metadata": {},
   "outputs": [],
   "source": [
    "lending_club_df.drop('mths_since_rcnt_il',1,inplace=True)"
   ]
  },
  {
   "cell_type": "markdown",
   "metadata": {},
   "source": [
    "- total_bal_il\n",
    "    - imput 0"
   ]
  },
  {
   "cell_type": "code",
   "execution_count": 33,
   "metadata": {},
   "outputs": [],
   "source": [
    "lending_club_df.total_bal_il = [0 if np.isnan(i)==True else i for i in lending_club_df.total_bal_il]"
   ]
  },
  {
   "cell_type": "code",
   "execution_count": 34,
   "metadata": {},
   "outputs": [
    {
     "data": {
      "text/plain": [
       "1524093     3242.0\n",
       "1524094     3182.0\n",
       "1524095    70278.0\n",
       "1524096        0.0\n",
       "1524097        0.0\n",
       "Name: total_bal_il, dtype: float64"
      ]
     },
     "execution_count": 34,
     "metadata": {},
     "output_type": "execute_result"
    }
   ],
   "source": [
    "lending_club_df.total_bal_il.tail()"
   ]
  },
  {
   "cell_type": "markdown",
   "metadata": {},
   "source": [
    "- il_util\n",
    " - imput 0"
   ]
  },
  {
   "cell_type": "code",
   "execution_count": 37,
   "metadata": {},
   "outputs": [],
   "source": [
    "lending_club_df.il_util = [0 if np.isnan(i) ==True else 1 for i in lending_club_df.il_util]"
   ]
  },
  {
   "cell_type": "markdown",
   "metadata": {},
   "source": [
    "- open_rv_12m\n",
    "    -  drop"
   ]
  },
  {
   "cell_type": "code",
   "execution_count": 39,
   "metadata": {},
   "outputs": [],
   "source": [
    "lending_club_df.drop('open_rv_12m',1,inplace=True)"
   ]
  },
  {
   "cell_type": "markdown",
   "metadata": {},
   "source": [
    "- open_rv_24m DROP"
   ]
  },
  {
   "cell_type": "code",
   "execution_count": 40,
   "metadata": {
    "collapsed": true
   },
   "outputs": [],
   "source": [
    "lending_club_df.drop('open_rv_24m',1,inplace=True)"
   ]
  },
  {
   "cell_type": "markdown",
   "metadata": {},
   "source": [
    "- mths_since_recent_inq\n",
    "    = impute 0"
   ]
  },
  {
   "cell_type": "code",
   "execution_count": 44,
   "metadata": {},
   "outputs": [],
   "source": [
    "lending_club_df.mths_since_recent_inq = [0 if np.isnan(i)==True else i  for i in lending_club_df.mths_since_recent_inq]"
   ]
  },
  {
   "cell_type": "markdown",
   "metadata": {},
   "source": [
    "- inq_fi \n",
    "    - DROP"
   ]
  },
  {
   "cell_type": "code",
   "execution_count": 47,
   "metadata": {},
   "outputs": [],
   "source": [
    "lending_club_df.drop('inq_fi',1,inplace=True)"
   ]
  },
  {
   "cell_type": "markdown",
   "metadata": {},
   "source": [
    "- total_cu_tl DROP"
   ]
  },
  {
   "cell_type": "code",
   "execution_count": 49,
   "metadata": {},
   "outputs": [],
   "source": [
    "lending_club_df.drop('total_cu_tl',1,inplace=True)"
   ]
  },
  {
   "cell_type": "markdown",
   "metadata": {},
   "source": [
    "- inq_last_12m\n",
    "    - impute 0 "
   ]
  },
  {
   "cell_type": "code",
   "execution_count": 51,
   "metadata": {},
   "outputs": [],
   "source": [
    "lending_club_df.inq_last_12m = [0 if np.isnan(i)==True else i for i in lending_club_df.inq_last_12m]"
   ]
  },
  {
   "cell_type": "markdown",
   "metadata": {},
   "source": [
    "- mths_since_recent_bc_dlq \n",
    "    - Impute 0"
   ]
  },
  {
   "cell_type": "code",
   "execution_count": 54,
   "metadata": {},
   "outputs": [],
   "source": [
    "lending_club_df.mths_since_recent_bc_dlq = [0 if np.isnan(i)==True else i for i in lending_club_df.mths_since_recent_bc_dlq]"
   ]
  },
  {
   "cell_type": "markdown",
   "metadata": {},
   "source": [
    "- mths_since_recent_revol_delinq \n",
    "     impute 0"
   ]
  },
  {
   "cell_type": "code",
   "execution_count": 56,
   "metadata": {},
   "outputs": [],
   "source": [
    "lending_club_df.mths_since_recent_revol_delinq = [0 if np.isnan(i)==True else i for i in lending_club_df.mths_since_recent_revol_delinq]"
   ]
  },
  {
   "cell_type": "markdown",
   "metadata": {},
   "source": [
    "### Drop the rest of the columns from total_il_high_credit_limit onwards"
   ]
  },
  {
   "cell_type": "code",
   "execution_count": 72,
   "metadata": {},
   "outputs": [],
   "source": [
    "lending_club_df = lending_club_df.iloc[:,:99]"
   ]
  },
  {
   "cell_type": "code",
   "execution_count": 73,
   "metadata": {},
   "outputs": [
    {
     "name": "stdout",
     "output_type": "stream",
     "text": [
      "<class 'pandas.core.frame.DataFrame'>\n",
      "RangeIndex: 1524098 entries, 0 to 1524097\n",
      "Data columns (total 99 columns):\n",
      "loan_amnt                         1524077 non-null float64\n",
      "funded_amnt                       1524077 non-null float64\n",
      "funded_amnt_inv                   1524077 non-null float64\n",
      "term                              1524077 non-null object\n",
      "int_rate                          1524077 non-null float64\n",
      "installment                       1524077 non-null float64\n",
      "grade                             1524077 non-null object\n",
      "sub_grade                         1524077 non-null object\n",
      "emp_length                        1524077 non-null object\n",
      "home_ownership                    1524077 non-null object\n",
      "annual_inc                        1524073 non-null float64\n",
      "verification_status               1524077 non-null object\n",
      "issue_d                           1524077 non-null object\n",
      "loan_status                       1524077 non-null object\n",
      "pymnt_plan                        1524077 non-null object\n",
      "purpose                           1524077 non-null object\n",
      "zip_code                          1524076 non-null object\n",
      "addr_state                        1524077 non-null object\n",
      "dti                               1524077 non-null float64\n",
      "delinq_2yrs                       1524048 non-null float64\n",
      "earliest_cr_line                  1524048 non-null object\n",
      "inq_last_6mths                    1524047 non-null float64\n",
      "mths_since_last_delinq            1524098 non-null float64\n",
      "mths_since_last_record            1524098 non-null float64\n",
      "open_acc                          1524048 non-null float64\n",
      "pub_rec                           1524048 non-null float64\n",
      "revol_bal                         1524077 non-null float64\n",
      "revol_util                        1523185 non-null float64\n",
      "total_acc                         1524048 non-null float64\n",
      "initial_list_status               1524077 non-null object\n",
      "out_prncp                         1524077 non-null float64\n",
      "out_prncp_inv                     1524077 non-null float64\n",
      "total_pymnt                       1524077 non-null float64\n",
      "total_pymnt_inv                   1524077 non-null float64\n",
      "total_rec_prncp                   1524077 non-null float64\n",
      "total_rec_int                     1524077 non-null float64\n",
      "total_rec_late_fee                1524077 non-null float64\n",
      "recoveries                        1524077 non-null float64\n",
      "collection_recovery_fee           1524077 non-null float64\n",
      "last_pymnt_d                      1514062 non-null object\n",
      "last_pymnt_amnt                   1524077 non-null float64\n",
      "last_credit_pull_d                1524009 non-null object\n",
      "collections_12_mths_ex_med        1523932 non-null float64\n",
      "mths_since_last_major_derog       1524098 non-null float64\n",
      "policy_code                       1524077 non-null float64\n",
      "application_type                  1524077 non-null object\n",
      "annual_inc_joint                  20520 non-null float64\n",
      "dti_joint                         20516 non-null float64\n",
      "verification_status_joint         20520 non-null object\n",
      "acc_now_delinq                    1524048 non-null float64\n",
      "tot_coll_amt                      1453801 non-null float64\n",
      "tot_cur_bal                       1453801 non-null float64\n",
      "open_acc_6m                       1524098 non-null float64\n",
      "open_il_6m                        1524098 non-null float64\n",
      "open_il_12m                       1524098 non-null float64\n",
      "open_il_24m                       1524098 non-null float64\n",
      "total_bal_il                      1524098 non-null float64\n",
      "il_util                           1524098 non-null int64\n",
      "max_bal_bc                        657948 non-null float64\n",
      "all_util                          657909 non-null float64\n",
      "total_rev_hi_lim                  1453801 non-null float64\n",
      "inq_last_12m                      1524098 non-null float64\n",
      "acc_open_past_24mths              1474047 non-null float64\n",
      "avg_cur_bal                       1453787 non-null float64\n",
      "bc_open_to_buy                    1459346 non-null float64\n",
      "bc_util                           1458538 non-null float64\n",
      "chargeoff_within_12_mths          1523932 non-null float64\n",
      "delinq_amnt                       1524048 non-null float64\n",
      "mo_sin_old_il_acct                1411294 non-null float64\n",
      "mo_sin_old_rev_tl_op              1453800 non-null float64\n",
      "mo_sin_rcnt_rev_tl_op             1453800 non-null float64\n",
      "mo_sin_rcnt_tl                    1453801 non-null float64\n",
      "mort_acc                          1474047 non-null float64\n",
      "mths_since_recent_bc              1460268 non-null float64\n",
      "mths_since_recent_bc_dlq          1524098 non-null float64\n",
      "mths_since_recent_inq             1524098 non-null float64\n",
      "mths_since_recent_revol_delinq    1524098 non-null float64\n",
      "num_accts_ever_120_pd             1453801 non-null float64\n",
      "num_actv_bc_tl                    1453801 non-null float64\n",
      "num_actv_rev_tl                   1453801 non-null float64\n",
      "num_bc_sats                       1465487 non-null float64\n",
      "num_bc_tl                         1453801 non-null float64\n",
      "num_il_tl                         1453801 non-null float64\n",
      "num_op_rev_tl                     1453801 non-null float64\n",
      "num_rev_accts                     1453800 non-null float64\n",
      "num_rev_tl_bal_gt_0               1453801 non-null float64\n",
      "num_sats                          1465487 non-null float64\n",
      "num_tl_120dpd_2m                  1395094 non-null float64\n",
      "num_tl_30dpd                      1453801 non-null float64\n",
      "num_tl_90g_dpd_24m                1453801 non-null float64\n",
      "num_tl_op_past_12m                1453801 non-null float64\n",
      "pct_tl_nvr_dlq                    1453648 non-null float64\n",
      "percent_bc_gt_75                  1458920 non-null float64\n",
      "pub_rec_bankruptcies              1522712 non-null float64\n",
      "tax_liens                         1523972 non-null float64\n",
      "tot_hi_cred_lim                   1453801 non-null float64\n",
      "total_bal_ex_mort                 1474047 non-null float64\n",
      "total_bc_limit                    1474047 non-null float64\n",
      "total_il_high_credit_limit        1453801 non-null float64\n",
      "dtypes: float64(80), int64(1), object(18)\n",
      "memory usage: 1.1+ GB\n"
     ]
    }
   ],
   "source": [
    "lending_club_df.info()"
   ]
  },
  {
   "cell_type": "markdown",
   "metadata": {},
   "source": [
    "- annual_inc_joint DROP"
   ]
  },
  {
   "cell_type": "code",
   "execution_count": 75,
   "metadata": {},
   "outputs": [],
   "source": [
    "lending_club_df.drop('annual_inc_joint',1,inplace=True)"
   ]
  },
  {
   "cell_type": "markdown",
   "metadata": {},
   "source": [
    "dti_joint DROP"
   ]
  },
  {
   "cell_type": "code",
   "execution_count": 76,
   "metadata": {
    "collapsed": true
   },
   "outputs": [],
   "source": [
    "lending_club_df.drop('dti_joint',1,inplace=True)"
   ]
  },
  {
   "cell_type": "markdown",
   "metadata": {},
   "source": [
    "verification_status_joint DROP"
   ]
  },
  {
   "cell_type": "code",
   "execution_count": 77,
   "metadata": {
    "collapsed": true
   },
   "outputs": [],
   "source": [
    "lending_club_df.drop('verification_status_joint',1,inplace=True)"
   ]
  },
  {
   "cell_type": "markdown",
   "metadata": {},
   "source": [
    "- max_bal_bc\n",
    "    - impute 0 "
   ]
  },
  {
   "cell_type": "code",
   "execution_count": 79,
   "metadata": {},
   "outputs": [],
   "source": [
    "lending_club_df.max_bal_bc = [0 if np.isnan(i)==True else i for i in lending_club_df.max_bal_bc]"
   ]
  },
  {
   "cell_type": "markdown",
   "metadata": {},
   "source": [
    "- all_util\n",
    "    -impute 0"
   ]
  },
  {
   "cell_type": "code",
   "execution_count": 81,
   "metadata": {},
   "outputs": [],
   "source": [
    "lending_club_df.all_util = [0 if np.isnan(i)==True else i for i in lending_club_df.all_util]"
   ]
  },
  {
   "cell_type": "code",
   "execution_count": 82,
   "metadata": {},
   "outputs": [
    {
     "name": "stdout",
     "output_type": "stream",
     "text": [
      "<class 'pandas.core.frame.DataFrame'>\n",
      "RangeIndex: 1524098 entries, 0 to 1524097\n",
      "Data columns (total 96 columns):\n",
      "loan_amnt                         1524077 non-null float64\n",
      "funded_amnt                       1524077 non-null float64\n",
      "funded_amnt_inv                   1524077 non-null float64\n",
      "term                              1524077 non-null object\n",
      "int_rate                          1524077 non-null float64\n",
      "installment                       1524077 non-null float64\n",
      "grade                             1524077 non-null object\n",
      "sub_grade                         1524077 non-null object\n",
      "emp_length                        1524077 non-null object\n",
      "home_ownership                    1524077 non-null object\n",
      "annual_inc                        1524073 non-null float64\n",
      "verification_status               1524077 non-null object\n",
      "issue_d                           1524077 non-null object\n",
      "loan_status                       1524077 non-null object\n",
      "pymnt_plan                        1524077 non-null object\n",
      "purpose                           1524077 non-null object\n",
      "zip_code                          1524076 non-null object\n",
      "addr_state                        1524077 non-null object\n",
      "dti                               1524077 non-null float64\n",
      "delinq_2yrs                       1524048 non-null float64\n",
      "earliest_cr_line                  1524048 non-null object\n",
      "inq_last_6mths                    1524047 non-null float64\n",
      "mths_since_last_delinq            1524098 non-null float64\n",
      "mths_since_last_record            1524098 non-null float64\n",
      "open_acc                          1524048 non-null float64\n",
      "pub_rec                           1524048 non-null float64\n",
      "revol_bal                         1524077 non-null float64\n",
      "revol_util                        1523185 non-null float64\n",
      "total_acc                         1524048 non-null float64\n",
      "initial_list_status               1524077 non-null object\n",
      "out_prncp                         1524077 non-null float64\n",
      "out_prncp_inv                     1524077 non-null float64\n",
      "total_pymnt                       1524077 non-null float64\n",
      "total_pymnt_inv                   1524077 non-null float64\n",
      "total_rec_prncp                   1524077 non-null float64\n",
      "total_rec_int                     1524077 non-null float64\n",
      "total_rec_late_fee                1524077 non-null float64\n",
      "recoveries                        1524077 non-null float64\n",
      "collection_recovery_fee           1524077 non-null float64\n",
      "last_pymnt_d                      1514062 non-null object\n",
      "last_pymnt_amnt                   1524077 non-null float64\n",
      "last_credit_pull_d                1524009 non-null object\n",
      "collections_12_mths_ex_med        1523932 non-null float64\n",
      "mths_since_last_major_derog       1524098 non-null float64\n",
      "policy_code                       1524077 non-null float64\n",
      "application_type                  1524077 non-null object\n",
      "acc_now_delinq                    1524048 non-null float64\n",
      "tot_coll_amt                      1453801 non-null float64\n",
      "tot_cur_bal                       1453801 non-null float64\n",
      "open_acc_6m                       1524098 non-null float64\n",
      "open_il_6m                        1524098 non-null float64\n",
      "open_il_12m                       1524098 non-null float64\n",
      "open_il_24m                       1524098 non-null float64\n",
      "total_bal_il                      1524098 non-null float64\n",
      "il_util                           1524098 non-null int64\n",
      "max_bal_bc                        1524098 non-null float64\n",
      "all_util                          1524098 non-null float64\n",
      "total_rev_hi_lim                  1453801 non-null float64\n",
      "inq_last_12m                      1524098 non-null float64\n",
      "acc_open_past_24mths              1474047 non-null float64\n",
      "avg_cur_bal                       1453787 non-null float64\n",
      "bc_open_to_buy                    1459346 non-null float64\n",
      "bc_util                           1458538 non-null float64\n",
      "chargeoff_within_12_mths          1523932 non-null float64\n",
      "delinq_amnt                       1524048 non-null float64\n",
      "mo_sin_old_il_acct                1411294 non-null float64\n",
      "mo_sin_old_rev_tl_op              1453800 non-null float64\n",
      "mo_sin_rcnt_rev_tl_op             1453800 non-null float64\n",
      "mo_sin_rcnt_tl                    1453801 non-null float64\n",
      "mort_acc                          1474047 non-null float64\n",
      "mths_since_recent_bc              1460268 non-null float64\n",
      "mths_since_recent_bc_dlq          1524098 non-null float64\n",
      "mths_since_recent_inq             1524098 non-null float64\n",
      "mths_since_recent_revol_delinq    1524098 non-null float64\n",
      "num_accts_ever_120_pd             1453801 non-null float64\n",
      "num_actv_bc_tl                    1453801 non-null float64\n",
      "num_actv_rev_tl                   1453801 non-null float64\n",
      "num_bc_sats                       1465487 non-null float64\n",
      "num_bc_tl                         1453801 non-null float64\n",
      "num_il_tl                         1453801 non-null float64\n",
      "num_op_rev_tl                     1453801 non-null float64\n",
      "num_rev_accts                     1453800 non-null float64\n",
      "num_rev_tl_bal_gt_0               1453801 non-null float64\n",
      "num_sats                          1465487 non-null float64\n",
      "num_tl_120dpd_2m                  1395094 non-null float64\n",
      "num_tl_30dpd                      1453801 non-null float64\n",
      "num_tl_90g_dpd_24m                1453801 non-null float64\n",
      "num_tl_op_past_12m                1453801 non-null float64\n",
      "pct_tl_nvr_dlq                    1453648 non-null float64\n",
      "percent_bc_gt_75                  1458920 non-null float64\n",
      "pub_rec_bankruptcies              1522712 non-null float64\n",
      "tax_liens                         1523972 non-null float64\n",
      "tot_hi_cred_lim                   1453801 non-null float64\n",
      "total_bal_ex_mort                 1474047 non-null float64\n",
      "total_bc_limit                    1474047 non-null float64\n",
      "total_il_high_credit_limit        1453801 non-null float64\n",
      "dtypes: float64(78), int64(1), object(17)\n",
      "memory usage: 1.1+ GB\n"
     ]
    }
   ],
   "source": [
    "lending_club_df.info()"
   ]
  },
  {
   "cell_type": "code",
   "execution_count": null,
   "metadata": {
    "collapsed": true
   },
   "outputs": [],
   "source": []
  },
  {
   "cell_type": "markdown",
   "metadata": {},
   "source": [
    "### Loan status 'fully paid' = 1\n",
    "- Everything lese - 0"
   ]
  },
  {
   "cell_type": "code",
   "execution_count": 83,
   "metadata": {
    "collapsed": true
   },
   "outputs": [],
   "source": [
    "lending_club_df['repaid'] = [1 if i =='Fully Paid' else 0 for i in lending_club_df.loan_status  ]"
   ]
  },
  {
   "cell_type": "code",
   "execution_count": 84,
   "metadata": {},
   "outputs": [
    {
     "data": {
      "text/plain": [
       "array(['Fully Paid', 'Late (31-120 days)', 'Charged Off', 'Current',\n",
       "       'Late (16-30 days)', 'In Grace Period', 'Default', nan,\n",
       "       'Does not meet the credit policy. Status:Fully Paid',\n",
       "       'Does not meet the credit policy. Status:Charged Off', 'Issued'], dtype=object)"
      ]
     },
     "execution_count": 84,
     "metadata": {},
     "output_type": "execute_result"
    }
   ],
   "source": [
    "lending_club_df.loan_status.unique()"
   ]
  },
  {
   "cell_type": "markdown",
   "metadata": {
    "collapsed": true
   },
   "source": [
    "# Drop the remaining null values"
   ]
  },
  {
   "cell_type": "code",
   "execution_count": 85,
   "metadata": {
    "collapsed": true
   },
   "outputs": [],
   "source": [
    "lending_club_df.dropna(inplace=True)"
   ]
  },
  {
   "cell_type": "code",
   "execution_count": 86,
   "metadata": {},
   "outputs": [
    {
     "name": "stdout",
     "output_type": "stream",
     "text": [
      "<class 'pandas.core.frame.DataFrame'>\n",
      "Int64Index: 1330203 entries, 0 to 1524095\n",
      "Data columns (total 97 columns):\n",
      "loan_amnt                         1330203 non-null float64\n",
      "funded_amnt                       1330203 non-null float64\n",
      "funded_amnt_inv                   1330203 non-null float64\n",
      "term                              1330203 non-null object\n",
      "int_rate                          1330203 non-null float64\n",
      "installment                       1330203 non-null float64\n",
      "grade                             1330203 non-null object\n",
      "sub_grade                         1330203 non-null object\n",
      "emp_length                        1330203 non-null object\n",
      "home_ownership                    1330203 non-null object\n",
      "annual_inc                        1330203 non-null float64\n",
      "verification_status               1330203 non-null object\n",
      "issue_d                           1330203 non-null object\n",
      "loan_status                       1330203 non-null object\n",
      "pymnt_plan                        1330203 non-null object\n",
      "purpose                           1330203 non-null object\n",
      "zip_code                          1330203 non-null object\n",
      "addr_state                        1330203 non-null object\n",
      "dti                               1330203 non-null float64\n",
      "delinq_2yrs                       1330203 non-null float64\n",
      "earliest_cr_line                  1330203 non-null object\n",
      "inq_last_6mths                    1330203 non-null float64\n",
      "mths_since_last_delinq            1330203 non-null float64\n",
      "mths_since_last_record            1330203 non-null float64\n",
      "open_acc                          1330203 non-null float64\n",
      "pub_rec                           1330203 non-null float64\n",
      "revol_bal                         1330203 non-null float64\n",
      "revol_util                        1330203 non-null float64\n",
      "total_acc                         1330203 non-null float64\n",
      "initial_list_status               1330203 non-null object\n",
      "out_prncp                         1330203 non-null float64\n",
      "out_prncp_inv                     1330203 non-null float64\n",
      "total_pymnt                       1330203 non-null float64\n",
      "total_pymnt_inv                   1330203 non-null float64\n",
      "total_rec_prncp                   1330203 non-null float64\n",
      "total_rec_int                     1330203 non-null float64\n",
      "total_rec_late_fee                1330203 non-null float64\n",
      "recoveries                        1330203 non-null float64\n",
      "collection_recovery_fee           1330203 non-null float64\n",
      "last_pymnt_d                      1330203 non-null object\n",
      "last_pymnt_amnt                   1330203 non-null float64\n",
      "last_credit_pull_d                1330203 non-null object\n",
      "collections_12_mths_ex_med        1330203 non-null float64\n",
      "mths_since_last_major_derog       1330203 non-null float64\n",
      "policy_code                       1330203 non-null float64\n",
      "application_type                  1330203 non-null object\n",
      "acc_now_delinq                    1330203 non-null float64\n",
      "tot_coll_amt                      1330203 non-null float64\n",
      "tot_cur_bal                       1330203 non-null float64\n",
      "open_acc_6m                       1330203 non-null float64\n",
      "open_il_6m                        1330203 non-null float64\n",
      "open_il_12m                       1330203 non-null float64\n",
      "open_il_24m                       1330203 non-null float64\n",
      "total_bal_il                      1330203 non-null float64\n",
      "il_util                           1330203 non-null int64\n",
      "max_bal_bc                        1330203 non-null float64\n",
      "all_util                          1330203 non-null float64\n",
      "total_rev_hi_lim                  1330203 non-null float64\n",
      "inq_last_12m                      1330203 non-null float64\n",
      "acc_open_past_24mths              1330203 non-null float64\n",
      "avg_cur_bal                       1330203 non-null float64\n",
      "bc_open_to_buy                    1330203 non-null float64\n",
      "bc_util                           1330203 non-null float64\n",
      "chargeoff_within_12_mths          1330203 non-null float64\n",
      "delinq_amnt                       1330203 non-null float64\n",
      "mo_sin_old_il_acct                1330203 non-null float64\n",
      "mo_sin_old_rev_tl_op              1330203 non-null float64\n",
      "mo_sin_rcnt_rev_tl_op             1330203 non-null float64\n",
      "mo_sin_rcnt_tl                    1330203 non-null float64\n",
      "mort_acc                          1330203 non-null float64\n",
      "mths_since_recent_bc              1330203 non-null float64\n",
      "mths_since_recent_bc_dlq          1330203 non-null float64\n",
      "mths_since_recent_inq             1330203 non-null float64\n",
      "mths_since_recent_revol_delinq    1330203 non-null float64\n",
      "num_accts_ever_120_pd             1330203 non-null float64\n",
      "num_actv_bc_tl                    1330203 non-null float64\n",
      "num_actv_rev_tl                   1330203 non-null float64\n",
      "num_bc_sats                       1330203 non-null float64\n",
      "num_bc_tl                         1330203 non-null float64\n",
      "num_il_tl                         1330203 non-null float64\n",
      "num_op_rev_tl                     1330203 non-null float64\n",
      "num_rev_accts                     1330203 non-null float64\n",
      "num_rev_tl_bal_gt_0               1330203 non-null float64\n",
      "num_sats                          1330203 non-null float64\n",
      "num_tl_120dpd_2m                  1330203 non-null float64\n",
      "num_tl_30dpd                      1330203 non-null float64\n",
      "num_tl_90g_dpd_24m                1330203 non-null float64\n",
      "num_tl_op_past_12m                1330203 non-null float64\n",
      "pct_tl_nvr_dlq                    1330203 non-null float64\n",
      "percent_bc_gt_75                  1330203 non-null float64\n",
      "pub_rec_bankruptcies              1330203 non-null float64\n",
      "tax_liens                         1330203 non-null float64\n",
      "tot_hi_cred_lim                   1330203 non-null float64\n",
      "total_bal_ex_mort                 1330203 non-null float64\n",
      "total_bc_limit                    1330203 non-null float64\n",
      "total_il_high_credit_limit        1330203 non-null float64\n",
      "repaid                            1330203 non-null int64\n",
      "dtypes: float64(78), int64(2), object(17)\n",
      "memory usage: 994.6+ MB\n"
     ]
    }
   ],
   "source": [
    "lending_club_df.info()"
   ]
  },
  {
   "cell_type": "code",
   "execution_count": 89,
   "metadata": {},
   "outputs": [
    {
     "data": {
      "text/plain": [
       "0    Source Verified\n",
       "1    Source Verified\n",
       "3           Verified\n",
       "4       Not Verified\n",
       "5           Verified\n",
       "Name: verification_status, dtype: object"
      ]
     },
     "execution_count": 89,
     "metadata": {},
     "output_type": "execute_result"
    }
   ],
   "source": [
    "lending_club_df.verification_status.head()"
   ]
  },
  {
   "cell_type": "markdown",
   "metadata": {},
   "source": [
    "- Transform date to the month number"
   ]
  },
  {
   "cell_type": "code",
   "execution_count": 96,
   "metadata": {},
   "outputs": [
    {
     "data": {
      "text/plain": [
       "'Dec'"
      ]
     },
     "execution_count": 96,
     "metadata": {},
     "output_type": "execute_result"
    }
   ],
   "source": [
    "lending_club_df.issue_d[0][:3]"
   ]
  },
  {
   "cell_type": "code",
   "execution_count": 95,
   "metadata": {},
   "outputs": [],
   "source": [
    "calendar = {v: k for k,v in enumerate(calendar.month_abbr)}"
   ]
  },
  {
   "cell_type": "code",
   "execution_count": 98,
   "metadata": {
    "collapsed": true
   },
   "outputs": [],
   "source": [
    "lending_club_df['month'] = [calendar[i[:3]] for i in lending_club_df.issue_d]"
   ]
  },
  {
   "cell_type": "code",
   "execution_count": 100,
   "metadata": {
    "collapsed": true
   },
   "outputs": [],
   "source": [
    "# drop the issue_d\n",
    "lending_club_df.drop('issue_d',1,inplace=True)"
   ]
  },
  {
   "cell_type": "code",
   "execution_count": 101,
   "metadata": {},
   "outputs": [
    {
     "data": {
      "text/plain": [
       "12"
      ]
     },
     "execution_count": 101,
     "metadata": {},
     "output_type": "execute_result"
    }
   ],
   "source": [
    "calendar['Dec']"
   ]
  },
  {
   "cell_type": "markdown",
   "metadata": {},
   "source": [
    "- emp_length\n",
    "    - convert to int"
   ]
  },
  {
   "cell_type": "code",
   "execution_count": 105,
   "metadata": {
    "collapsed": true
   },
   "outputs": [],
   "source": [
    "emp_length_int = []\n",
    "for i in lending_club_df.emp_length:\n",
    "    try:\n",
    "        emp_length_int.append(int(i[:2])) # turn into integer\n",
    "    except:\n",
    "        emp_length_int.append(0)\n",
    "        "
   ]
  },
  {
   "cell_type": "code",
   "execution_count": 106,
   "metadata": {},
   "outputs": [],
   "source": [
    "lending_club_df.emp_length = emp_length_int"
   ]
  },
  {
   "cell_type": "markdown",
   "metadata": {},
   "source": [
    "home_ownership"
   ]
  },
  {
   "cell_type": "code",
   "execution_count": 109,
   "metadata": {},
   "outputs": [
    {
     "data": {
      "text/plain": [
       "array(['MORTGAGE', 'RENT', 'OWN', 'NONE', 'OTHER', 'ANY'], dtype=object)"
      ]
     },
     "execution_count": 109,
     "metadata": {},
     "output_type": "execute_result"
    }
   ],
   "source": [
    "lending_club_df.home_ownership.unique()"
   ]
  },
  {
   "cell_type": "markdown",
   "metadata": {},
   "source": [
    "verification_status "
   ]
  },
  {
   "cell_type": "code",
   "execution_count": 111,
   "metadata": {},
   "outputs": [
    {
     "data": {
      "text/plain": [
       "0    Source Verified\n",
       "1    Source Verified\n",
       "3           Verified\n",
       "4       Not Verified\n",
       "5           Verified\n",
       "Name: verification_status, dtype: object"
      ]
     },
     "execution_count": 111,
     "metadata": {},
     "output_type": "execute_result"
    }
   ],
   "source": [
    "lending_club_df.verification_status .head()"
   ]
  },
  {
   "cell_type": "code",
   "execution_count": 114,
   "metadata": {
    "collapsed": true
   },
   "outputs": [],
   "source": [
    "# drop loan status"
   ]
  },
  {
   "cell_type": "code",
   "execution_count": 115,
   "metadata": {},
   "outputs": [],
   "source": [
    "lending_club_df.drop('loan_status',1,inplace=True)"
   ]
  },
  {
   "cell_type": "markdown",
   "metadata": {},
   "source": [
    "- last_credit_pull_d \n",
    "     DROP"
   ]
  },
  {
   "cell_type": "code",
   "execution_count": 116,
   "metadata": {
    "collapsed": true
   },
   "outputs": [],
   "source": [
    "lending_club_df.drop('last_credit_pull_d',1,inplace=True)"
   ]
  },
  {
   "cell_type": "markdown",
   "metadata": {},
   "source": [
    "initial_list_status"
   ]
  },
  {
   "cell_type": "code",
   "execution_count": 118,
   "metadata": {},
   "outputs": [
    {
     "data": {
      "text/plain": [
       "array(['w', 'f'], dtype=object)"
      ]
     },
     "execution_count": 118,
     "metadata": {},
     "output_type": "execute_result"
    }
   ],
   "source": [
    "lending_club_df.initial_list_status.unique()"
   ]
  },
  {
   "cell_type": "markdown",
   "metadata": {},
   "source": [
    "application_type"
   ]
  },
  {
   "cell_type": "markdown",
   "metadata": {},
   "source": [
    "- Term"
   ]
  },
  {
   "cell_type": "code",
   "execution_count": null,
   "metadata": {
    "collapsed": true
   },
   "outputs": [],
   "source": []
  },
  {
   "cell_type": "markdown",
   "metadata": {},
   "source": [
    "## Get dummies for all categorical values"
   ]
  },
  {
   "cell_type": "code",
   "execution_count": null,
   "metadata": {
    "collapsed": true
   },
   "outputs": [],
   "source": [
    "lending_club_df_final  = pd.get_dummies(lending_club_df)"
   ]
  },
  {
   "cell_type": "code",
   "execution_count": null,
   "metadata": {
    "collapsed": true
   },
   "outputs": [],
   "source": []
  }
 ],
 "metadata": {
  "kernelspec": {
   "display_name": "dl",
   "language": "python",
   "name": "dl"
  },
  "language_info": {
   "codemirror_mode": {
    "name": "ipython",
    "version": 3
   },
   "file_extension": ".py",
   "mimetype": "text/x-python",
   "name": "python",
   "nbconvert_exporter": "python",
   "pygments_lexer": "ipython3",
   "version": "3.6.1"
  }
 },
 "nbformat": 4,
 "nbformat_minor": 2
}
