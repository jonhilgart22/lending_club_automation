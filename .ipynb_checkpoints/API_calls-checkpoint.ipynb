{
 "cells": [
  {
   "cell_type": "code",
   "execution_count": 24,
   "metadata": {
    "collapsed": true
   },
   "outputs": [],
   "source": [
    "import requests\n",
    "import os\n",
    "import yaml\n",
    "import pandas as pd\n",
    "import numpy as np"
   ]
  },
  {
   "cell_type": "markdown",
   "metadata": {},
   "source": [
    "- Import credentials"
   ]
  },
  {
   "cell_type": "code",
   "execution_count": 25,
   "metadata": {
    "collapsed": true
   },
   "outputs": [],
   "source": [
    "credentials = yaml.load(open(os.path.expanduser('~/.ssh/lending_club_api.yml')))"
   ]
  },
  {
   "cell_type": "code",
   "execution_count": 26,
   "metadata": {
    "collapsed": true
   },
   "outputs": [],
   "source": [
    "account_id = credentials['account_id']"
   ]
  },
  {
   "cell_type": "markdown",
   "metadata": {},
   "source": [
    "- Make the API call"
   ]
  },
  {
   "cell_type": "code",
   "execution_count": null,
   "metadata": {
    "collapsed": true
   },
   "outputs": [],
   "source": [
    "\n",
    "r = requests.get('https://api.lendingclub.com/api/investor/v1/loans/listing',\n",
    "                 headers={'Authorization': credentials['authentication'],'Content-Type': 'application/json',\n",
    "                          'Accept': 'application/json'}, params = {'showAll':'true'})"
   ]
  },
  {
   "cell_type": "code",
   "execution_count": null,
   "metadata": {},
   "outputs": [],
   "source": [
    "r"
   ]
  },
  {
   "cell_type": "code",
   "execution_count": 117,
   "metadata": {
    "collapsed": true
   },
   "outputs": [],
   "source": [
    "json_response =  r.json()"
   ]
  },
  {
   "cell_type": "code",
   "execution_count": 118,
   "metadata": {},
   "outputs": [
    {
     "data": {
      "text/plain": [
       "[u'loans', u'asOfDate']"
      ]
     },
     "execution_count": 118,
     "metadata": {},
     "output_type": "execute_result"
    }
   ],
   "source": [
    "json_response.keys()"
   ]
  },
  {
   "cell_type": "code",
   "execution_count": 119,
   "metadata": {
    "collapsed": true
   },
   "outputs": [],
   "source": [
    "test_loan = json_response['loans'][50]"
   ]
  },
  {
   "cell_type": "code",
   "execution_count": 120,
   "metadata": {},
   "outputs": [
    {
     "data": {
      "text/plain": [
       "u'debt_consolidation'"
      ]
     },
     "execution_count": 120,
     "metadata": {},
     "output_type": "execute_result"
    }
   ],
   "source": [
    "test_loan['purpose']"
   ]
  },
  {
   "cell_type": "markdown",
   "metadata": {},
   "source": [
    "- Convert to DF"
   ]
  },
  {
   "cell_type": "code",
   "execution_count": 121,
   "metadata": {
    "collapsed": true
   },
   "outputs": [],
   "source": [
    "loans_df = pd.DataFrame(json_response['loans'])"
   ]
  },
  {
   "cell_type": "code",
   "execution_count": 122,
   "metadata": {},
   "outputs": [
    {
     "name": "stdout",
     "output_type": "stream",
     "text": [
      "<class 'pandas.core.frame.DataFrame'>\n",
      "RangeIndex: 258 entries, 0 to 257\n",
      "Data columns (total 103 columns):\n",
      "accNowDelinq                  int64\n",
      "accOpenPast24Mths             int64\n",
      "acceptD                       object\n",
      "addrState                     object\n",
      "addrZip                       object\n",
      "allUtil                       float64\n",
      "annualInc                     float64\n",
      "annualIncJoint                float64\n",
      "applicationType               object\n",
      "avgCurBal                     int64\n",
      "bcOpenToBuy                   float64\n",
      "bcUtil                        float64\n",
      "chargeoffWithin12Mths         int64\n",
      "collections12MthsExMed        int64\n",
      "creditPullD                   object\n",
      "delinq2Yrs                    int64\n",
      "delinqAmnt                    float64\n",
      "desc                          object\n",
      "dti                           float64\n",
      "dtiJoint                      float64\n",
      "earliestCrLine                object\n",
      "empLength                     float64\n",
      "empTitle                      object\n",
      "expD                          object\n",
      "expDefaultRate                float64\n",
      "ficoRangeHigh                 int64\n",
      "ficoRangeLow                  int64\n",
      "fundedAmount                  float64\n",
      "grade                         object\n",
      "homeOwnership                 object\n",
      "iLUtil                        float64\n",
      "id                            int64\n",
      "ilsExpD                       object\n",
      "initialListStatus             object\n",
      "inqFi                         int64\n",
      "inqLast12m                    int64\n",
      "inqLast6Mths                  int64\n",
      "installment                   float64\n",
      "intRate                       float64\n",
      "investorCount                 object\n",
      "isIncV                        object\n",
      "isIncVJoint                   object\n",
      "listD                         object\n",
      "loanAmount                    float64\n",
      "maxBalBc                      float64\n",
      "memberId                      int64\n",
      "moSinOldIlAcct                float64\n",
      "moSinOldRevTlOp               int64\n",
      "moSinRcntRevTlOp              int64\n",
      "moSinRcntTl                   int64\n",
      "mortAcc                       int64\n",
      "mthsSinceLastDelinq           float64\n",
      "mthsSinceLastMajorDerog       float64\n",
      "mthsSinceLastRecord           float64\n",
      "mthsSinceRcntIl               float64\n",
      "mthsSinceRecentBc             float64\n",
      "mthsSinceRecentBcDlq          float64\n",
      "mthsSinceRecentInq            float64\n",
      "mthsSinceRecentRevolDelinq    float64\n",
      "numAcctsEver120Ppd            int64\n",
      "numActvBcTl                   int64\n",
      "numActvRevTl                  int64\n",
      "numBcSats                     int64\n",
      "numBcTl                       int64\n",
      "numIlTl                       int64\n",
      "numOpRevTl                    int64\n",
      "numRevAccts                   int64\n",
      "numRevTlBalGt0                int64\n",
      "numSats                       int64\n",
      "numTl120dpd2m                 float64\n",
      "numTl30dpd                    int64\n",
      "numTl90gDpd24m                int64\n",
      "numTlOpPast12m                int64\n",
      "openAcc                       int64\n",
      "openAcc6m                     int64\n",
      "openIl12m                     int64\n",
      "openIl24m                     int64\n",
      "openIl6m                      int64\n",
      "openRv12m                     int64\n",
      "openRv24m                     int64\n",
      "pctTlNvrDlq                   int64\n",
      "percentBcGt75                 float64\n",
      "pubRec                        int64\n",
      "pubRecBankruptcies            int64\n",
      "purpose                       object\n",
      "reviewStatus                  object\n",
      "reviewStatusD                 object\n",
      "revolBal                      float64\n",
      "revolUtil                     float64\n",
      "serviceFeeRate                float64\n",
      "subGrade                      object\n",
      "taxLiens                      int64\n",
      "term                          int64\n",
      "totCollAmt                    int64\n",
      "totCurBal                     int64\n",
      "totHiCredLim                  int64\n",
      "totalAcc                      int64\n",
      "totalBalExMort                int64\n",
      "totalBalIl                    float64\n",
      "totalBcLimit                  int64\n",
      "totalCuTl                     int64\n",
      "totalIlHighCreditLimit        int64\n",
      "totalRevHiLim                 int64\n",
      "dtypes: float64(31), int64(51), object(21)\n",
      "memory usage: 207.7+ KB\n"
     ]
    }
   ],
   "source": [
    "loans_df.info(verbose=True)"
   ]
  },
  {
   "cell_type": "markdown",
   "metadata": {},
   "source": [
    "#### Convert EmpLength to years"
   ]
  },
  {
   "cell_type": "code",
   "execution_count": 123,
   "metadata": {
    "collapsed": true
   },
   "outputs": [],
   "source": [
    "loans_df.empLength = loans_df.empLength.apply(lambda x: x/60 if x >0 else 0)"
   ]
  },
  {
   "cell_type": "markdown",
   "metadata": {},
   "source": [
    "#### Create month to int 1-12"
   ]
  },
  {
   "cell_type": "code",
   "execution_count": 124,
   "metadata": {
    "collapsed": true
   },
   "outputs": [],
   "source": [
    "loans_df['month'] = loans_df.acceptD.apply(lambda x: pd.to_datetime(x).month)"
   ]
  },
  {
   "cell_type": "markdown",
   "metadata": {},
   "source": [
    "#### Crea cols term_36 and term_60"
   ]
  },
  {
   "cell_type": "code",
   "execution_count": 125,
   "metadata": {
    "collapsed": true
   },
   "outputs": [],
   "source": [
    "loans_df['term_36'] = [1 if i ==36 else 0 for i in loans_df.term]"
   ]
  },
  {
   "cell_type": "code",
   "execution_count": 126,
   "metadata": {
    "collapsed": true
   },
   "outputs": [],
   "source": [
    "loans_df['term_60'] = [1 if i ==60 else 0 for i in loans_df.term]"
   ]
  },
  {
   "cell_type": "markdown",
   "metadata": {},
   "source": [
    "#### Create grade columns\n",
    "- a:g"
   ]
  },
  {
   "cell_type": "code",
   "execution_count": 127,
   "metadata": {
    "collapsed": true
   },
   "outputs": [],
   "source": [
    "loans_df['grade_a'] = [1 if i =='A' else 0 for i in loans_df.grade]\n",
    "loans_df['grade_b']= [1 if i =='B' else 0 for i in loans_df.grade]\n",
    "loans_df['grade_c']= [1 if i =='C' else 0 for i in loans_df.grade]\n",
    "loans_df['grade_d']= [1 if i =='D' else 0 for i in loans_df.grade]\n",
    "loans_df['grade_e']= [1 if i =='E' else 0 for i in loans_df.grade]\n",
    "loans_df['grade_f']= [1 if i =='F' else 0 for i in loans_df.grade]\n",
    "loans_df['grade_g']= [1 if i =='G' else 0 for i in loans_df.grade]"
   ]
  },
  {
   "cell_type": "markdown",
   "metadata": {},
   "source": [
    "### Create home ownership columns\n",
    "-'home_ownership_ANY',\n",
    " 'home_ownership_MORTGAGE',\n",
    " 'home_ownership_NONE',\n",
    " 'home_ownership_OTHER',\n",
    " 'home_ownership_OWN',\n",
    " 'home_ownership_RENT',"
   ]
  },
  {
   "cell_type": "code",
   "execution_count": 128,
   "metadata": {
    "collapsed": true
   },
   "outputs": [],
   "source": [
    "loans_df['home_ownership_any'] = [1 if i =='ANY' else 0 for i in loans_df.homeOwnership]\n",
    "loans_df['home_ownership_mortgage'] = [1 if i =='MORTGAGE' else 0 for i in loans_df.homeOwnership]\n",
    "loans_df['home_ownership_none'] = [1 if i =='NONE' else 0 for i in loans_df.homeOwnership]\n",
    "loans_df['home_ownership_other'] = [1 if i =='OTHER' else 0 for i in loans_df.homeOwnership]\n",
    "loans_df['home_ownership_own'] = [1 if i =='OWN' else 0 for i in loans_df.homeOwnership]\n",
    "loans_df['home_ownership_rent'] = [1 if i =='RENT' else 0 for i in loans_df.homeOwnership]"
   ]
  },
  {
   "cell_type": "code",
   "execution_count": 129,
   "metadata": {},
   "outputs": [
    {
     "data": {
      "text/plain": [
       "0"
      ]
     },
     "execution_count": 129,
     "metadata": {},
     "output_type": "execute_result"
    }
   ],
   "source": [
    "loans_df['home_ownership_any'].sum()"
   ]
  },
  {
   "cell_type": "markdown",
   "metadata": {},
   "source": [
    "## Create purpose columns\n",
    "-'purpose_credit_card',\n",
    " 'purpose_debt_consolidation',\n",
    " 'purpose_educational',\n",
    " 'purpose_home_improvement',\n",
    " 'purpose_house',\n",
    " 'purpose_major_purchase',\n",
    " 'purpose_medical',\n",
    " 'purpose_moving',\n",
    " 'purpose_other',\n",
    " 'purpose_renewable_energy',\n",
    " 'purpose_small_business',\n",
    " 'purpose_vacation',\n",
    " 'purpose_wedding',"
   ]
  },
  {
   "cell_type": "code",
   "execution_count": 130,
   "metadata": {
    "collapsed": true
   },
   "outputs": [],
   "source": [
    "loans_df['purpose_credit_card'] = [1 if i =='credit_card' else 0 for i in loans_df.purpose]\n",
    "loans_df['purpose_debt_consolidation'] = [1 if i =='debt_consolidation' else 0 for i in loans_df.purpose]\n",
    "loans_df['purpose_educational'] = [1 if i =='educational' else 0 for i in loans_df.purpose]\n",
    "loans_df['purpose_home_improvement'] = [1 if i =='home_improvement' else 0 for i in loans_df.purpose]\n",
    "loans_df['purpose_house'] = [1 if i =='house' else 0 for i in loans_df.purpose]\n",
    "loans_df['purpose_major_purchase'] = [1 if i =='major_purchase' else 0 for i in loans_df.purpose]\n",
    "loans_df['purpose_medical'] = [1 if i =='medical' else 0 for i in loans_df.purpose]\n",
    "loans_df['purpose_moving'] = [1 if i =='moving' else 0 for i in loans_df.purpose]\n",
    "loans_df['purpose_other'] = [1 if i =='other' else 0 for i in loans_df.purpose]\n",
    "loans_df['purpose_renewable_energy'] = [1 if i =='renewable_energy' else 0 for i in loans_df.purpose]\n",
    "loans_df['purpose_small_business'] = [1 if i =='small_business' else 0 for i in loans_df.purpose]\n",
    "loans_df['purpose_vacation'] = [1 if i =='vacation' else 0 for i in loans_df.purpose]\n",
    "loans_df['purpose_wedding'] = [1 if i =='wedding' else 0 for i in loans_df.purpose]\n",
    "\n"
   ]
  },
  {
   "cell_type": "markdown",
   "metadata": {},
   "source": [
    "### Create the states columns\n",
    "'addr_state_AK',\n",
    " 'addr_state_AL',\n",
    " 'addr_state_AR',\n",
    " 'addr_state_AZ',\n",
    " 'addr_state_CA',\n",
    " 'addr_state_CO',\n",
    " 'addr_state_CT',\n",
    " 'addr_state_DC',\n",
    " 'addr_state_DE',\n",
    " 'addr_state_FL',\n",
    " 'addr_state_GA',\n",
    " 'addr_state_HI',\n",
    " 'addr_state_IA',\n",
    " 'addr_state_ID',\n",
    " 'addr_state_IL',\n",
    " 'addr_state_IN',\n",
    " 'addr_state_KS',\n",
    " 'addr_state_KY',\n",
    " 'addr_state_LA',\n",
    " 'addr_state_MA',\n",
    " 'addr_state_MD',\n",
    " 'addr_state_ME',\n",
    " 'addr_state_MI',\n",
    " 'addr_state_MN',\n",
    " 'addr_state_MO',\n",
    " 'addr_state_MS',\n",
    " 'addr_state_MT',\n",
    " 'addr_state_NC',\n",
    " 'addr_state_ND',\n",
    " 'addr_state_NE',\n",
    " 'addr_state_NH',\n",
    " 'addr_state_NJ',\n",
    " 'addr_state_NM',\n",
    " 'addr_state_NV',\n",
    " 'addr_state_NY',\n",
    " 'addr_state_OH',\n",
    " 'addr_state_OK',\n",
    " 'addr_state_OR',\n",
    " 'addr_state_PA',\n",
    " 'addr_state_RI',\n",
    " 'addr_state_SC',\n",
    " 'addr_state_SD',\n",
    " 'addr_state_TN',\n",
    " 'addr_state_TX',\n",
    " 'addr_state_UT',\n",
    " 'addr_state_VA',\n",
    " 'addr_state_VT',\n",
    " 'addr_state_WA',\n",
    " 'addr_state_WI',\n",
    " 'addr_state_WV',\n",
    " 'addr_state_WY'"
   ]
  },
  {
   "cell_type": "code",
   "execution_count": 132,
   "metadata": {
    "collapsed": true
   },
   "outputs": [],
   "source": [
    "loans_df['addr_state_AK'] = [1 if i =='AK' else 0 for i in loans_df.addrState]\n",
    "loans_df['addr_state_AL'] = [1 if i =='AL' else 0 for i in loans_df.addrState]\n",
    "loans_df['addr_state_AR'] = [1 if i =='AR' else 0 for i in loans_df.addrState]\n",
    "loans_df['addr_state_AZ'] = [1 if i =='AZ' else 0 for i in loans_df.addrState]\n",
    "loans_df['addr_state_CA'] = [1 if i =='CA' else 0 for i in loans_df.addrState]\n",
    "loans_df['addr_state_CO'] = [1 if i =='CO' else 0 for i in loans_df.addrState]\n",
    "loans_df['addr_state_CT'] = [1 if i =='CT' else 0 for i in loans_df.addrState]\n",
    "loans_df['addr_state_DC'] = [1 if i =='DC' else 0 for i in loans_df.addrState]\n",
    "loans_df['addr_state_DE'] = [1 if i =='DE' else 0 for i in loans_df.addrState]\n",
    "loans_df['addr_state_FL'] = [1 if i =='FL' else 0 for i in loans_df.addrState]\n",
    "loans_df['addr_state_GA'] = [1 if i =='GA' else 0 for i in loans_df.addrState]\n",
    "loans_df['addr_state_HI'] = [1 if i =='HI' else 0 for i in loans_df.addrState]\n",
    "loans_df['addr_state_IA'] = [1 if i =='IA' else 0 for i in loans_df.addrState]\n",
    "loans_df['addr_state_ID'] = [1 if i =='ID' else 0 for i in loans_df.addrState]\n",
    "loans_df['addr_state_IL'] = [1 if i =='IL' else 0 for i in loans_df.addrState]\n",
    "loans_df['addr_state_IN'] = [1 if i =='IN' else 0 for i in loans_df.addrState]\n",
    "loans_df['addr_state_KS'] = [1 if i =='KS' else 0 for i in loans_df.addrState]\n",
    "loans_df['addr_state_KY'] = [1 if i =='KY' else 0 for i in loans_df.addrState]\n",
    "loans_df['addr_state_LA'] = [1 if i =='LA' else 0 for i in loans_df.addrState]\n",
    "loans_df['addr_state_MA'] = [1 if i =='MA' else 0 for i in loans_df.addrState]\n",
    "loans_df['addr_state_MD'] = [1 if i =='MD' else 0 for i in loans_df.addrState]\n",
    "loans_df['addr_state_ME'] = [1 if i =='ME' else 0 for i in loans_df.addrState]\n",
    "loans_df['addr_state_MI'] = [1 if i =='MI' else 0 for i in loans_df.addrState]\n",
    "loans_df['addr_state_MN'] = [1 if i =='MN' else 0 for i in loans_df.addrState]\n",
    "loans_df['addr_state_MO'] = [1 if i =='MO' else 0 for i in loans_df.addrState]\n",
    "loans_df['addr_state_MS'] = [1 if i =='MS' else 0 for i in loans_df.addrState]\n",
    "loans_df['addr_state_MT'] = [1 if i =='MT' else 0 for i in loans_df.addrState]\n",
    "loans_df['addr_state_NC'] = [1 if i =='NC' else 0 for i in loans_df.addrState]\n",
    "loans_df['addr_state_ND'] = [1 if i =='ND' else 0 for i in loans_df.addrState]\n",
    "loans_df['addr_state_NE'] = [1 if i =='NE' else 0 for i in loans_df.addrState]\n",
    "loans_df['addr_state_NH'] = [1 if i =='NH' else 0 for i in loans_df.addrState]\n",
    "loans_df['addr_state_NJ'] = [1 if i =='NJ' else 0 for i in loans_df.addrState]\n",
    "loans_df['addr_state_NM'] = [1 if i =='NM' else 0 for i in loans_df.addrState]\n",
    "loans_df['addr_state_NV'] = [1 if i =='NV' else 0 for i in loans_df.addrState]\n",
    "loans_df['addr_state_NY'] = [1 if i =='NY' else 0 for i in loans_df.addrState]\n",
    "loans_df['addr_state_OH'] = [1 if i =='OH' else 0 for i in loans_df.addrState]\n",
    "loans_df['addr_state_OK'] = [1 if i =='OK' else 0 for i in loans_df.addrState]\n",
    "loans_df['addr_state_OR'] = [1 if i =='OR' else 0 for i in loans_df.addrState]\n",
    "loans_df['addr_state_PA'] = [1 if i =='PA' else 0 for i in loans_df.addrState]\n",
    "loans_df['addr_state_RI'] = [1 if i =='RI' else 0 for i in loans_df.addrState]\n",
    "loans_df['addr_state_SC'] = [1 if i =='SC' else 0 for i in loans_df.addrState]\n",
    "loans_df['addr_state_SD'] = [1 if i =='SD' else 0 for i in loans_df.addrState]\n",
    "loans_df['addr_state_TN'] = [1 if i =='TN' else 0 for i in loans_df.addrState]\n",
    "loans_df['addr_state_TX'] = [1 if i =='TX' else 0 for i in loans_df.addrState]\n",
    "loans_df['addr_state_UT'] = [1 if i =='UT' else 0 for i in loans_df.addrState]\n",
    "loans_df['addr_state_VA'] = [1 if i =='VA' else 0 for i in loans_df.addrState]\n",
    "loans_df['addr_state_VT'] = [1 if i =='VT' else 0 for i in loans_df.addrState]\n",
    "loans_df['addr_state_WA'] = [1 if i =='WA' else 0 for i in loans_df.addrState]\n",
    "loans_df['addr_state_WI'] = [1 if i =='WI' else 0 for i in loans_df.addrState]\n",
    "loans_df['addr_state_WV'] = [1 if i =='WV' else 0 for i in loans_df.addrState]\n",
    "loans_df['addr_state_WY'] = [1 if i =='WY' else 0 for i in loans_df.addrState]\n",
    "\n"
   ]
  },
  {
   "cell_type": "code",
   "execution_count": 56,
   "metadata": {},
   "outputs": [
    {
     "name": "stdout",
     "output_type": "stream",
     "text": [
      "<class 'pandas.core.frame.DataFrame'>\n",
      "RangeIndex: 390 entries, 0 to 389\n",
      "Data columns (total 104 columns):\n",
      "accNowDelinq                  int64\n",
      "accOpenPast24Mths             int64\n",
      "acceptD                       object\n",
      "addrState                     object\n",
      "addrZip                       object\n",
      "allUtil                       float64\n",
      "annualInc                     float64\n",
      "annualIncJoint                float64\n",
      "applicationType               object\n",
      "avgCurBal                     int64\n",
      "bcOpenToBuy                   float64\n",
      "bcUtil                        float64\n",
      "chargeoffWithin12Mths         int64\n",
      "collections12MthsExMed        int64\n",
      "creditPullD                   object\n",
      "delinq2Yrs                    int64\n",
      "delinqAmnt                    float64\n",
      "desc                          object\n",
      "dti                           float64\n",
      "dtiJoint                      float64\n",
      "earliestCrLine                object\n",
      "empLength                     float64\n",
      "empTitle                      object\n",
      "expD                          object\n",
      "expDefaultRate                float64\n",
      "ficoRangeHigh                 int64\n",
      "ficoRangeLow                  int64\n",
      "fundedAmount                  float64\n",
      "grade                         object\n",
      "homeOwnership                 object\n",
      "iLUtil                        float64\n",
      "id                            int64\n",
      "ilsExpD                       object\n",
      "initialListStatus             object\n",
      "inqFi                         int64\n",
      "inqLast12m                    int64\n",
      "inqLast6Mths                  int64\n",
      "installment                   float64\n",
      "intRate                       float64\n",
      "investorCount                 object\n",
      "isIncV                        object\n",
      "isIncVJoint                   object\n",
      "listD                         object\n",
      "loanAmount                    float64\n",
      "maxBalBc                      float64\n",
      "memberId                      int64\n",
      "moSinOldIlAcct                float64\n",
      "moSinOldRevTlOp               int64\n",
      "moSinRcntRevTlOp              int64\n",
      "moSinRcntTl                   int64\n",
      "mortAcc                       int64\n",
      "mthsSinceLastDelinq           float64\n",
      "mthsSinceLastMajorDerog       float64\n",
      "mthsSinceLastRecord           float64\n",
      "mthsSinceRcntIl               float64\n",
      "mthsSinceRecentBc             float64\n",
      "mthsSinceRecentBcDlq          float64\n",
      "mthsSinceRecentInq            float64\n",
      "mthsSinceRecentRevolDelinq    float64\n",
      "numAcctsEver120Ppd            int64\n",
      "numActvBcTl                   int64\n",
      "numActvRevTl                  int64\n",
      "numBcSats                     int64\n",
      "numBcTl                       int64\n",
      "numIlTl                       int64\n",
      "numOpRevTl                    int64\n",
      "numRevAccts                   int64\n",
      "numRevTlBalGt0                int64\n",
      "numSats                       int64\n",
      "numTl120dpd2m                 float64\n",
      "numTl30dpd                    int64\n",
      "numTl90gDpd24m                int64\n",
      "numTlOpPast12m                int64\n",
      "openAcc                       int64\n",
      "openAcc6m                     int64\n",
      "openIl12m                     int64\n",
      "openIl24m                     int64\n",
      "openIl6m                      int64\n",
      "openRv12m                     int64\n",
      "openRv24m                     int64\n",
      "pctTlNvrDlq                   int64\n",
      "percentBcGt75                 float64\n",
      "pubRec                        int64\n",
      "pubRecBankruptcies            int64\n",
      "purpose                       object\n",
      "reviewStatus                  object\n",
      "reviewStatusD                 object\n",
      "revolBal                      float64\n",
      "revolUtil                     float64\n",
      "serviceFeeRate                float64\n",
      "subGrade                      object\n",
      "taxLiens                      int64\n",
      "term                          int64\n",
      "totCollAmt                    int64\n",
      "totCurBal                     int64\n",
      "totHiCredLim                  int64\n",
      "totalAcc                      int64\n",
      "totalBalExMort                int64\n",
      "totalBalIl                    float64\n",
      "totalBcLimit                  int64\n",
      "totalCuTl                     int64\n",
      "totalIlHighCreditLimit        int64\n",
      "totalRevHiLim                 int64\n",
      "month                         int64\n",
      "dtypes: float64(31), int64(52), object(21)\n",
      "memory usage: 316.9+ KB\n"
     ]
    }
   ],
   "source": [
    "loans_df.info(verbose=True)"
   ]
  },
  {
   "cell_type": "code",
   "execution_count": null,
   "metadata": {
    "collapsed": true
   },
   "outputs": [],
   "source": []
  },
  {
   "cell_type": "code",
   "execution_count": 9,
   "metadata": {},
   "outputs": [],
   "source": [
    "# Columns to match the data model\n",
    "# empLength is in months - convert to years\n",
    "dm_cols =['loanAmount','fundedAmount','intRate','installment','empLength','annualInc','dti','delinq2Yrs','inqLast6Mths',\n",
    "       'mthsSinceLastDelinq','mthsSinceLastRecord','openAcc','pubRec','revolBal','revolUtil','totalAcc',\n",
    "      'collections12MthsExMed','mthsSinceLastMajorDerog','accNowDelinq','totCollAmt','totCurBal','openAcc6m',\n",
    "      'openIl6m','openIl12m','openIl24m','totalBalIl','iLUtil','maxBalBc','allUtil','totalRevHiLim','inqLast12m','accOpenPast24Mths',\n",
    "      'avgCurBal','bcUtil','chargeoffWithin12Mths','delinqAmnt','moSinOldIlAcct','moSinOldRevTlOp','moSinRcntRevTlOp',\n",
    "      'moSinRcntTl','mortAcc','mthsSinceRecentBc','mthsSinceRecentBcDlq','mthsSinceRecentInq','mthsSinceRecentRevolDelinq',\n",
    "      'numAcctsEver120Ppd','numActvBcTl','numActvRevTl','numBcSats','numBcTl','numIlTl','numOpRevTl','numRevAccts',\n",
    "      'numRevTlBalGt0','numSats','numTl120dpd2m','numTl30dpd','numTl90gDpd24m','numTlOpPast12m','pctTlNvrDlq',\n",
    "      'percentBcGt75','pubRecBankruptcies','taxLiens','totHiCredLim','totalBalExMort','totalBcLimit','totalIlHighCreditLimit',\n",
    "      'month','term','term_36','term_60','grade_a','grade_b','grade_c','grade_d','grade_e','grade_f','grade_g',\n",
    "      'home_ownership_any','home_ownership_mortgage','home_ownership_none','home_ownership_other','home_ownership_own',\n",
    "      'home_ownership_rent','purpose_credit_card','purpose_debt_consolidation','purpose_educational','purpose_home_improvement',\n",
    "      'purpose_house','purpose_major_purchase','purpose_medical','purpose_moving','purpose_other','purpose_renewable_energy',\n",
    "      'purpose_small_business','purpose_vacation','purpose_wedding','addr_state_AK','addr_state_AL','addr_state_AR'\n",
    "      'addr_state_AZ','addr_state_CA','addr_state_CO','addr_state_CT','addr_state_DC','addr_state_DE','addr_state_FL',\n",
    "      'addr_state_GA','addr_state_HI','addr_state_IA','addr_state_ID','addr_state_IL','addr_state_IN','addr_state_KS',\n",
    "      'addr_state_KY','addr_state_LA','addr_state_MA','addr_state_MD','addr_state_ME','addr_state_MI','addr_state_MN',\n",
    "      'addr_state_MO','addr_state_MS','addr_state_MT','addr_state_NC','addr_state_ND','addr_state_NE','addr_state_NH',\n",
    "      'addr_state_NJ','addr_state_NM','addr_state_NV','addr_state_NY','addr_state_OH','addr_state_OK','addr_state_OR',\n",
    "      'addr_state_PA','addr_state_RI','addr_state_SC','addr_state_SD','addr_state_TN','addr_state_TX','addr_state_UT',\n",
    "      'addr_state_VA','addr_state_VT','addr_state_WA','addr_state_WI','addr_state_WV','addr_state_WY']\n",
    "\n"
   ]
  },
  {
   "cell_type": "code",
   "execution_count": 10,
   "metadata": {},
   "outputs": [
    {
     "data": {
      "text/plain": [
       "146"
      ]
     },
     "execution_count": 10,
     "metadata": {},
     "output_type": "execute_result"
    }
   ],
   "source": [
    "len(dm_cols)"
   ]
  },
  {
   "cell_type": "code",
   "execution_count": 152,
   "metadata": {},
   "outputs": [
    {
     "data": {
      "text/plain": [
       "Index([          u'acceptD',         u'addrState',           u'addrZip',\n",
       "          u'annualIncJoint',   u'applicationType',       u'bcOpenToBuy',\n",
       "             u'creditPullD',              u'desc',          u'dtiJoint',\n",
       "          u'earliestCrLine',          u'empTitle',              u'expD',\n",
       "          u'expDefaultRate',     u'ficoRangeHigh',      u'ficoRangeLow',\n",
       "                   u'grade',     u'homeOwnership',                u'id',\n",
       "                 u'ilsExpD', u'initialListStatus',             u'inqFi',\n",
       "           u'investorCount',            u'isIncV',       u'isIncVJoint',\n",
       "                   u'listD',        u'loanAmount',          u'memberId',\n",
       "         u'mthsSinceRcntIl',         u'openRv12m',         u'openRv24m',\n",
       "                 u'purpose',      u'reviewStatus',     u'reviewStatusD',\n",
       "          u'serviceFeeRate',          u'subGrade',        u'totalBalIl',\n",
       "               u'totalCuTl',     u'addr_state_AR',     u'addr_state_AZ',\n",
       "             u'addr_state_'],\n",
       "      dtype='object')"
      ]
     },
     "execution_count": 152,
     "metadata": {},
     "output_type": "execute_result"
    }
   ],
   "source": [
    "loans_df.columns[np.array([i  not in dm_cols for i in loans_df.columns])]"
   ]
  },
  {
   "cell_type": "code",
   "execution_count": 135,
   "metadata": {},
   "outputs": [
    {
     "name": "stdout",
     "output_type": "stream",
     "text": [
      "<class 'pandas.core.frame.DataFrame'>\n",
      "RangeIndex: 258 entries, 0 to 257\n",
      "Columns: 145 entries, fundedAmount to addr_state_WY\n",
      "dtypes: float64(23), int64(122)\n",
      "memory usage: 292.3 KB\n"
     ]
    }
   ],
   "source": [
    "loans_df[dm_cols].info()"
   ]
  },
  {
   "cell_type": "code",
   "execution_count": null,
   "metadata": {
    "collapsed": true
   },
   "outputs": [],
   "source": [
    "- no funded_amnt_inv\n",
    "- changed emp_length to month\n",
    "- no 'total_rec_late_fee'\n",
    "- no recoveries\n",
    "- no collection_recovery_fee\n",
    "- no policy code\n",
    "- no bc_open_to_buy\n",
    "- no payment plan"
   ]
  },
  {
   "cell_type": "markdown",
   "metadata": {
    "collapsed": true
   },
   "source": [
    "# Data Model\n",
    "```'loan_amnt',\n",
    " 'funded_amnt',\n",
    " 'int_rate',\n",
    " 'installment',\n",
    " 'emp_length',\n",
    " 'annual_inc',\n",
    " 'zip_code',\n",
    " 'dti',\n",
    " 'delinq_2yrs',\n",
    " 'inq_last_6mths',\n",
    " 'mths_since_last_delinq',\n",
    " 'mths_since_last_record',\n",
    " 'open_acc',\n",
    " 'pub_rec',\n",
    " 'revol_bal',\n",
    " 'revol_util',\n",
    " 'total_acc',\n",
    " 'collections_12_mths_ex_med',\n",
    " 'mths_since_last_major_derog',\n",
    " 'acc_now_delinq',\n",
    " 'tot_coll_amt',\n",
    " 'tot_cur_bal',\n",
    " 'open_acc_6m',\n",
    " 'open_il_6m',\n",
    " 'open_il_12m',\n",
    " 'open_il_24m',\n",
    " 'total_bal_il',\n",
    " 'il_util',\n",
    " 'max_bal_bc',\n",
    " 'all_util',\n",
    " 'total_rev_hi_lim',\n",
    " 'inq_last_12m',\n",
    " 'acc_open_past_24mths',\n",
    " 'avg_cur_bal',\n",
    " 'bc_util',\n",
    " 'chargeoff_within_12_mths',\n",
    " 'delinq_amnt',\n",
    " 'mo_sin_old_il_acct',\n",
    " 'mo_sin_old_rev_tl_op',\n",
    " 'mo_sin_rcnt_rev_tl_op',\n",
    " 'mo_sin_rcnt_tl',\n",
    " 'mort_acc',\n",
    " 'mths_since_recent_bc',\n",
    " 'mths_since_recent_bc_dlq',\n",
    " 'mths_since_recent_inq',\n",
    " 'mths_since_recent_revol_delinq',\n",
    " 'num_accts_ever_120_pd',\n",
    " 'num_actv_bc_tl',\n",
    " 'num_actv_rev_tl',\n",
    " 'num_bc_sats',\n",
    " 'num_bc_tl',\n",
    " 'num_il_tl',\n",
    " 'num_op_rev_tl',\n",
    " 'num_rev_accts',\n",
    " 'num_rev_tl_bal_gt_0',\n",
    " 'num_sats',\n",
    " 'num_tl_120dpd_2m',\n",
    " 'num_tl_30dpd',\n",
    " 'num_tl_90g_dpd_24m',\n",
    " 'num_tl_op_past_12m',\n",
    " 'pct_tl_nvr_dlq',\n",
    " 'percent_bc_gt_75',\n",
    " 'pub_rec_bankruptcies',\n",
    " 'tax_liens',\n",
    " 'tot_hi_cred_lim',\n",
    " 'total_bal_ex_mort',\n",
    " 'total_bc_limit',\n",
    " 'total_il_high_credit_limit',\n",
    " 'repaid',\n",
    " 'month',\n",
    " 'term_ 36 months',\n",
    " 'term_ 60 months',\n",
    " 'grade_A',\n",
    " 'grade_B',\n",
    " 'grade_C',\n",
    " 'grade_D',\n",
    " 'grade_E',\n",
    " 'grade_F',\n",
    " 'grade_G',\n",
    " 'home_ownership_ANY',\n",
    " 'home_ownership_MORTGAGE',\n",
    " 'home_ownership_NONE',\n",
    " 'home_ownership_OTHER',\n",
    " 'home_ownership_OWN',\n",
    " 'home_ownership_RENT',\n",
    " 'purpose_car',\n",
    " 'purpose_credit_card',\n",
    " 'purpose_debt_consolidation',\n",
    " 'purpose_educational',\n",
    " 'purpose_home_improvement',\n",
    " 'purpose_house',\n",
    " 'purpose_major_purchase',\n",
    " 'purpose_medical',\n",
    " 'purpose_moving',\n",
    " 'purpose_other',\n",
    " 'purpose_renewable_energy',\n",
    " 'purpose_small_business',\n",
    " 'purpose_vacation',\n",
    " 'purpose_wedding',\n",
    " 'addr_state_AK',\n",
    " 'addr_state_AL',\n",
    " 'addr_state_AR',\n",
    " 'addr_state_AZ',\n",
    " 'addr_state_CA',\n",
    " 'addr_state_CO',\n",
    " 'addr_state_CT',\n",
    " 'addr_state_DC',\n",
    " 'addr_state_DE',\n",
    " 'addr_state_FL',\n",
    " 'addr_state_GA',\n",
    " 'addr_state_HI',\n",
    " 'addr_state_IA',\n",
    " 'addr_state_ID',\n",
    " 'addr_state_IL',\n",
    " 'addr_state_IN',\n",
    " 'addr_state_KS',\n",
    " 'addr_state_KY',\n",
    " 'addr_state_LA',\n",
    " 'addr_state_MA',\n",
    " 'addr_state_MD',\n",
    " 'addr_state_ME',\n",
    " 'addr_state_MI',\n",
    " 'addr_state_MN',\n",
    " 'addr_state_MO',\n",
    " 'addr_state_MS',\n",
    " 'addr_state_MT',\n",
    " 'addr_state_NC',\n",
    " 'addr_state_ND',\n",
    " 'addr_state_NE',\n",
    " 'addr_state_NH',\n",
    " 'addr_state_NJ',\n",
    " 'addr_state_NM',\n",
    " 'addr_state_NV',\n",
    " 'addr_state_NY',\n",
    " 'addr_state_OH',\n",
    " 'addr_state_OK',\n",
    " 'addr_state_OR',\n",
    " 'addr_state_PA',\n",
    " 'addr_state_RI',\n",
    " 'addr_state_SC',\n",
    " 'addr_state_SD',\n",
    " 'addr_state_TN',\n",
    " 'addr_state_TX',\n",
    " 'addr_state_UT',\n",
    " 'addr_state_VA',\n",
    " 'addr_state_VT',\n",
    " 'addr_state_WA',\n",
    " 'addr_state_WI',\n",
    " 'addr_state_WV',\n",
    " 'addr_state_WY'] ```"
   ]
  },
  {
   "cell_type": "code",
   "execution_count": 3,
   "metadata": {},
   "outputs": [],
   "source": [
    "total_x_cols = ['loan_amnt',\n",
    " 'funded_amnt',\n",
    " 'int_rate',\n",
    " 'installment',\n",
    " 'emp_length',\n",
    " 'annual_inc',\n",
    " 'zip_code',\n",
    " 'dti',\n",
    " 'delinq_2yrs',\n",
    " 'inq_last_6mths',\n",
    " 'mths_since_last_delinq',\n",
    " 'mths_since_last_record',\n",
    " 'open_acc',\n",
    " 'pub_rec',\n",
    " 'revol_bal',\n",
    " 'revol_util',\n",
    " 'total_acc',\n",
    " 'collections_12_mths_ex_med',\n",
    " 'mths_since_last_major_derog',\n",
    " 'acc_now_delinq',\n",
    " 'tot_coll_amt',\n",
    " 'tot_cur_bal',\n",
    " 'open_acc_6m',\n",
    " 'open_il_6m',\n",
    " 'open_il_12m',\n",
    " 'open_il_24m',\n",
    " 'total_bal_il',\n",
    " 'il_util',\n",
    " 'max_bal_bc',\n",
    " 'all_util',\n",
    " 'total_rev_hi_lim',\n",
    " 'inq_last_12m',\n",
    " 'acc_open_past_24mths',\n",
    " 'avg_cur_bal',\n",
    " 'bc_util',\n",
    " 'chargeoff_within_12_mths',\n",
    " 'delinq_amnt',\n",
    " 'mo_sin_old_il_acct',\n",
    " 'mo_sin_old_rev_tl_op',\n",
    " 'mo_sin_rcnt_rev_tl_op',\n",
    " 'mo_sin_rcnt_tl',\n",
    " 'mort_acc',\n",
    " 'mths_since_recent_bc',\n",
    " 'mths_since_recent_bc_dlq',\n",
    " 'mths_since_recent_inq',\n",
    " 'mths_since_recent_revol_delinq',\n",
    " 'num_accts_ever_120_pd',\n",
    " 'num_actv_bc_tl',\n",
    " 'num_actv_rev_tl',\n",
    " 'num_bc_sats',\n",
    " 'num_bc_tl',\n",
    " 'num_il_tl',\n",
    " 'num_op_rev_tl',\n",
    " 'num_rev_accts',\n",
    " 'num_rev_tl_bal_gt_0',\n",
    " 'num_sats',\n",
    " 'num_tl_120dpd_2m',\n",
    " 'num_tl_30dpd',\n",
    " 'num_tl_90g_dpd_24m',\n",
    " 'num_tl_op_past_12m',\n",
    " 'pct_tl_nvr_dlq',\n",
    " 'percent_bc_gt_75',\n",
    " 'pub_rec_bankruptcies',\n",
    " 'tax_liens',\n",
    " 'tot_hi_cred_lim',\n",
    " 'total_bal_ex_mort',\n",
    " 'total_bc_limit',\n",
    " 'total_il_high_credit_limit',\n",
    " 'month',\n",
    " 'term_ 36 months',\n",
    " 'term_ 60 months',\n",
    " 'grade_A',\n",
    " 'grade_B',\n",
    " 'grade_C',\n",
    " 'grade_D',\n",
    " 'grade_E',\n",
    " 'grade_F',\n",
    " 'grade_G',\n",
    " 'home_ownership_ANY',\n",
    " 'home_ownership_MORTGAGE',\n",
    " 'home_ownership_NONE',\n",
    " 'home_ownership_OTHER',\n",
    " 'home_ownership_OWN',\n",
    " 'home_ownership_RENT',\n",
    " 'purpose_car',\n",
    " 'purpose_credit_card',\n",
    " 'purpose_debt_consolidation',\n",
    " 'purpose_educational',\n",
    " 'purpose_home_improvement',\n",
    " 'purpose_house',\n",
    " 'purpose_major_purchase',\n",
    " 'purpose_medical',\n",
    " 'purpose_moving',\n",
    " 'purpose_other',\n",
    " 'purpose_renewable_energy',\n",
    " 'purpose_small_business',\n",
    " 'purpose_vacation',\n",
    " 'purpose_wedding',\n",
    " 'addr_state_AK',\n",
    " 'addr_state_AL',\n",
    " 'addr_state_AR',\n",
    " 'addr_state_AZ',\n",
    " 'addr_state_CA',\n",
    " 'addr_state_CO',\n",
    " 'addr_state_CT',\n",
    " 'addr_state_DC',\n",
    " 'addr_state_DE',\n",
    " 'addr_state_FL',\n",
    " 'addr_state_GA',\n",
    " 'addr_state_HI',\n",
    " 'addr_state_IA',\n",
    " 'addr_state_ID',\n",
    " 'addr_state_IL',\n",
    " 'addr_state_IN',\n",
    " 'addr_state_KS',\n",
    " 'addr_state_KY',\n",
    " 'addr_state_LA',\n",
    " 'addr_state_MA',\n",
    " 'addr_state_MD',\n",
    " 'addr_state_ME',\n",
    " 'addr_state_MI',\n",
    " 'addr_state_MN',\n",
    " 'addr_state_MO',\n",
    " 'addr_state_MS',\n",
    " 'addr_state_MT',\n",
    " 'addr_state_NC',\n",
    " 'addr_state_ND',\n",
    " 'addr_state_NE',\n",
    " 'addr_state_NH',\n",
    " 'addr_state_NJ',\n",
    " 'addr_state_NM',\n",
    " 'addr_state_NV',\n",
    " 'addr_state_NY',\n",
    " 'addr_state_OH',\n",
    " 'addr_state_OK',\n",
    " 'addr_state_OR',\n",
    " 'addr_state_PA',\n",
    " 'addr_state_RI',\n",
    " 'addr_state_SC',\n",
    " 'addr_state_SD',\n",
    " 'addr_state_TN',\n",
    " 'addr_state_TX',\n",
    " 'addr_state_UT',\n",
    " 'addr_state_VA',\n",
    " 'addr_state_VT',\n",
    " 'addr_state_WA',\n",
    " 'addr_state_WI',\n",
    " 'addr_state_WV',\n",
    " 'addr_state_WY']"
   ]
  },
  {
   "cell_type": "code",
   "execution_count": 6,
   "metadata": {},
   "outputs": [],
   "source": [
    "y_col = ['repaid']"
   ]
  },
  {
   "cell_type": "code",
   "execution_count": 7,
   "metadata": {},
   "outputs": [
    {
     "data": {
      "text/plain": [
       "149"
      ]
     },
     "execution_count": 7,
     "metadata": {},
     "output_type": "execute_result"
    }
   ],
   "source": [
    "len(total_x_cols)"
   ]
  },
  {
   "cell_type": "code",
   "execution_count": 23,
   "metadata": {},
   "outputs": [
    {
     "data": {
      "text/plain": [
       "array(['loan_amnt', 'funded_amnt', 'int_rate', 'emp_length', 'annual_inc',\n",
       "       'zip_code', 'delinq_2yrs', 'inq_last_6mths',\n",
       "       'mths_since_last_delinq', 'mths_since_last_record', 'open_acc',\n",
       "       'pub_rec', 'revol_bal', 'revol_util', 'total_acc',\n",
       "       'collections_12_mths_ex_med', 'mths_since_last_major_derog',\n",
       "       'acc_now_delinq', 'tot_coll_amt', 'tot_cur_bal', 'open_acc_6m',\n",
       "       'open_il_6m', 'open_il_12m', 'open_il_24m', 'total_bal_il',\n",
       "       'il_util', 'max_bal_bc', 'all_util', 'total_rev_hi_lim',\n",
       "       'inq_last_12m', 'acc_open_past_24mths', 'avg_cur_bal', 'bc_util',\n",
       "       'chargeoff_within_12_mths', 'delinq_amnt', 'mo_sin_old_il_acct',\n",
       "       'mo_sin_old_rev_tl_op', 'mo_sin_rcnt_rev_tl_op', 'mo_sin_rcnt_tl',\n",
       "       'mort_acc', 'mths_since_recent_bc', 'mths_since_recent_bc_dlq',\n",
       "       'mths_since_recent_inq', 'mths_since_recent_revol_delinq',\n",
       "       'num_accts_ever_120_pd', 'num_actv_bc_tl', 'num_actv_rev_tl',\n",
       "       'num_bc_sats', 'num_bc_tl', 'num_il_tl', 'num_op_rev_tl',\n",
       "       'num_rev_accts', 'num_rev_tl_bal_gt_0', 'num_sats',\n",
       "       'num_tl_120dpd_2m', 'num_tl_30dpd', 'num_tl_90g_dpd_24m',\n",
       "       'num_tl_op_past_12m', 'pct_tl_nvr_dlq', 'percent_bc_gt_75',\n",
       "       'pub_rec_bankruptcies', 'tax_liens', 'tot_hi_cred_lim',\n",
       "       'total_bal_ex_mort', 'total_bc_limit', 'total_il_high_credit_limit',\n",
       "       'term_ 36 months', 'term_ 60 months', 'grade_A', 'grade_B',\n",
       "       'grade_C', 'grade_D', 'grade_E', 'grade_F', 'grade_G',\n",
       "       'home_ownership_ANY', 'home_ownership_MORTGAGE',\n",
       "       'home_ownership_NONE', 'home_ownership_OTHER', 'home_ownership_OWN',\n",
       "       'home_ownership_RENT', 'purpose_car', 'addr_state_AR',\n",
       "       'addr_state_AZ'],\n",
       "      dtype='|S30')"
      ]
     },
     "execution_count": 23,
     "metadata": {},
     "output_type": "execute_result"
    }
   ],
   "source": [
    "np.array(total_x_cols)[np.array([i  not in dm_cols for i in total_x_cols])]"
   ]
  },
  {
   "cell_type": "code",
   "execution_count": null,
   "metadata": {
    "collapsed": true
   },
   "outputs": [],
   "source": []
  }
 ],
 "metadata": {
  "kernelspec": {
   "display_name": "Python 2",
   "language": "python",
   "name": "python2"
  },
  "language_info": {
   "codemirror_mode": {
    "name": "ipython",
    "version": 2
   },
   "file_extension": ".py",
   "mimetype": "text/x-python",
   "name": "python",
   "nbconvert_exporter": "python",
   "pygments_lexer": "ipython2",
   "version": "2.7.13"
  }
 },
 "nbformat": 4,
 "nbformat_minor": 2
}
