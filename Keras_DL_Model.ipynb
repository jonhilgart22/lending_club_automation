{
 "cells": [
  {
   "cell_type": "code",
   "execution_count": 2,
   "metadata": {},
   "outputs": [
    {
     "name": "stderr",
     "output_type": "stream",
     "text": [
      "Using TensorFlow backend.\n"
     ]
    }
   ],
   "source": [
    "import pandas as pd\n",
    "from keras.models import Sequential\n",
    "from sklearn.model_selection import train_test_split\n",
    "from sklearn.metrics import accuracy_score, roc_curve, precision_score, recall_score, f1_score\n",
    "import numpy as np\n",
    "from keras.layers import Dense, Dropout\n",
    "from keras.constraints import maxnorm\n",
    "from keras.optimizers import Adam\n",
    "from sklearn.pipeline import Pipeline\n",
    "from sklearn.model_selection import StratifiedKFold\n",
    "from sklearn.preprocessing import StandardScaler\n",
    "from keras.wrappers.scikit_learn import KerasClassifier\n",
    "from sklearn.model_selection import cross_val_score\n",
    "from keras.models import load_model\n",
    "import sys"
   ]
  },
  {
   "cell_type": "code",
   "execution_count": 4,
   "metadata": {
    "collapsed": true
   },
   "outputs": [],
   "source": [
    "lending_club_df = pd.read_csv(\"./data/final_lending_club.csv\")"
   ]
  },
  {
   "cell_type": "markdown",
   "metadata": {},
   "source": [
    "### Data Model\n",
    "``` 'loan_amnt',\n",
    " 'funded_amnt',\n",
    " 'int_rate',\n",
    " 'installment',\n",
    " 'emp_length',\n",
    " 'annual_inc',\n",
    " 'zip_code',\n",
    " 'dti',\n",
    " 'delinq_2yrs',\n",
    " 'inq_last_6mths',\n",
    " 'mths_since_last_delinq',\n",
    " 'mths_since_last_record',\n",
    " 'open_acc',\n",
    " 'pub_rec',\n",
    " 'revol_bal',\n",
    " 'revol_util',\n",
    " 'total_acc',\n",
    " 'collections_12_mths_ex_med',\n",
    " 'mths_since_last_major_derog',\n",
    " 'acc_now_delinq',\n",
    " 'tot_coll_amt',\n",
    " 'tot_cur_bal',\n",
    " 'open_acc_6m',\n",
    " 'open_il_6m',\n",
    " 'open_il_12m',\n",
    " 'open_il_24m',\n",
    " 'total_bal_il',\n",
    " 'il_util',\n",
    " 'max_bal_bc',\n",
    " 'all_util',\n",
    " 'total_rev_hi_lim',\n",
    " 'inq_last_12m',\n",
    " 'acc_open_past_24mths',\n",
    " 'avg_cur_bal',\n",
    " 'bc_util',\n",
    " 'chargeoff_within_12_mths',\n",
    " 'delinq_amnt',\n",
    " 'mo_sin_old_il_acct',\n",
    " 'mo_sin_old_rev_tl_op',\n",
    " 'mo_sin_rcnt_rev_tl_op',\n",
    " 'mo_sin_rcnt_tl',\n",
    " 'mort_acc',\n",
    " 'mths_since_recent_bc',\n",
    " 'mths_since_recent_bc_dlq',\n",
    " 'mths_since_recent_inq',\n",
    " 'mths_since_recent_revol_delinq',\n",
    " 'num_accts_ever_120_pd',\n",
    " 'num_actv_bc_tl',\n",
    " 'num_actv_rev_tl',\n",
    " 'num_bc_sats',\n",
    " 'num_bc_tl',\n",
    " 'num_il_tl',\n",
    " 'num_op_rev_tl',\n",
    " 'num_rev_accts',\n",
    " 'num_rev_tl_bal_gt_0',\n",
    " 'num_sats',\n",
    " 'num_tl_120dpd_2m',\n",
    " 'num_tl_30dpd',\n",
    " 'num_tl_90g_dpd_24m',\n",
    " 'num_tl_op_past_12m',\n",
    " 'pct_tl_nvr_dlq',\n",
    " 'percent_bc_gt_75',\n",
    " 'pub_rec_bankruptcies',\n",
    " 'tax_liens',\n",
    " 'tot_hi_cred_lim',\n",
    " 'total_bal_ex_mort',\n",
    " 'total_bc_limit',\n",
    " 'total_il_high_credit_limit',\n",
    " 'month',\n",
    " 'term_ 36 months',\n",
    " 'term_ 60 months',\n",
    " 'grade_A',\n",
    " 'grade_B',\n",
    " 'grade_C',\n",
    " 'grade_D',\n",
    " 'grade_E',\n",
    " 'grade_F',\n",
    " 'grade_G',\n",
    " 'home_ownership_ANY',\n",
    " 'home_ownership_MORTGAGE',\n",
    " 'home_ownership_NONE',\n",
    " 'home_ownership_OTHER',\n",
    " 'home_ownership_OWN',\n",
    " 'home_ownership_RENT',\n",
    " 'purpose_car',\n",
    " 'purpose_credit_card',\n",
    " 'purpose_debt_consolidation',\n",
    " 'purpose_educational',\n",
    " 'purpose_home_improvement',\n",
    " 'purpose_house',\n",
    " 'purpose_major_purchase',\n",
    " 'purpose_medical',\n",
    " 'purpose_moving',\n",
    " 'purpose_other',\n",
    " 'purpose_renewable_energy',\n",
    " 'purpose_small_business',\n",
    " 'purpose_vacation',\n",
    " 'purpose_wedding',\n",
    " 'addr_state_AK',\n",
    " 'addr_state_AL',\n",
    " 'addr_state_AR',\n",
    " 'addr_state_AZ',\n",
    " 'addr_state_CA',\n",
    " 'addr_state_CO',\n",
    " 'addr_state_CT',\n",
    " 'addr_state_DC',\n",
    " 'addr_state_DE',\n",
    " 'addr_state_FL',\n",
    " 'addr_state_GA',\n",
    " 'addr_state_HI',\n",
    " 'addr_state_IA',\n",
    " 'addr_state_ID',\n",
    " 'addr_state_IL',\n",
    " 'addr_state_IN',\n",
    " 'addr_state_KS',\n",
    " 'addr_state_KY',\n",
    " 'addr_state_LA',\n",
    " 'addr_state_MA',\n",
    " 'addr_state_MD',\n",
    " 'addr_state_ME',\n",
    " 'addr_state_MI',\n",
    " 'addr_state_MN',\n",
    " 'addr_state_MO',\n",
    " 'addr_state_MS',\n",
    " 'addr_state_MT',\n",
    " 'addr_state_NC',\n",
    " 'addr_state_ND',\n",
    " 'addr_state_NE',\n",
    " 'addr_state_NH',\n",
    " 'addr_state_NJ',\n",
    " 'addr_state_NM',\n",
    " 'addr_state_NV',\n",
    " 'addr_state_NY',\n",
    " 'addr_state_OH',\n",
    " 'addr_state_OK',\n",
    " 'addr_state_OR',\n",
    " 'addr_state_PA',\n",
    " 'addr_state_RI',\n",
    " 'addr_state_SC',\n",
    " 'addr_state_SD',\n",
    " 'addr_state_TN',\n",
    " 'addr_state_TX',\n",
    " 'addr_state_UT',\n",
    " 'addr_state_VA',\n",
    " 'addr_state_VT',\n",
    " 'addr_state_WA',\n",
    " 'addr_state_WI',\n",
    " 'addr_state_WV',\n",
    " 'addr_state_WY']'```"
   ]
  },
  {
   "cell_type": "markdown",
   "metadata": {},
   "source": [
    "### Make sure training DF is in the same order as the data model"
   ]
  },
  {
   "cell_type": "code",
   "execution_count": 5,
   "metadata": {
    "collapsed": true
   },
   "outputs": [],
   "source": [
    "lending_club_df_training = lending_club_df[['loan_amnt',\n",
    " 'funded_amnt',\n",
    " 'int_rate',\n",
    " 'installment',\n",
    " 'emp_length',\n",
    " 'annual_inc',\n",
    " 'zip_code',\n",
    " 'dti',\n",
    "                                            'repaid',\n",
    " 'delinq_2yrs',\n",
    " 'inq_last_6mths',\n",
    " 'mths_since_last_delinq',\n",
    " 'mths_since_last_record',\n",
    " 'open_acc',\n",
    " 'pub_rec',\n",
    " 'revol_bal',\n",
    " 'revol_util',\n",
    " 'total_acc',\n",
    " 'collections_12_mths_ex_med',\n",
    " 'mths_since_last_major_derog',\n",
    " 'acc_now_delinq',\n",
    " 'tot_coll_amt',\n",
    " 'tot_cur_bal',\n",
    " 'open_acc_6m',\n",
    " 'open_il_6m',\n",
    " 'open_il_12m',\n",
    " 'open_il_24m',\n",
    " 'total_bal_il',\n",
    " 'il_util',\n",
    " 'max_bal_bc',\n",
    " 'all_util',\n",
    " 'total_rev_hi_lim',\n",
    " 'inq_last_12m',\n",
    " 'acc_open_past_24mths',\n",
    " 'avg_cur_bal',\n",
    " 'bc_util',\n",
    " 'chargeoff_within_12_mths',\n",
    " 'delinq_amnt',\n",
    " 'mo_sin_old_il_acct',\n",
    " 'mo_sin_old_rev_tl_op',\n",
    " 'mo_sin_rcnt_rev_tl_op',\n",
    " 'mo_sin_rcnt_tl',\n",
    " 'mort_acc',\n",
    " 'mths_since_recent_bc',\n",
    " 'mths_since_recent_bc_dlq',\n",
    " 'mths_since_recent_inq',\n",
    " 'mths_since_recent_revol_delinq',\n",
    " 'num_accts_ever_120_pd',\n",
    " 'num_actv_bc_tl',\n",
    " 'num_actv_rev_tl',\n",
    " 'num_bc_sats',\n",
    " 'num_bc_tl',\n",
    " 'num_il_tl',\n",
    " 'num_op_rev_tl',\n",
    " 'num_rev_accts',\n",
    " 'num_rev_tl_bal_gt_0',\n",
    " 'num_sats',\n",
    " 'num_tl_120dpd_2m',\n",
    " 'num_tl_30dpd',\n",
    " 'num_tl_90g_dpd_24m',\n",
    " 'num_tl_op_past_12m',\n",
    " 'pct_tl_nvr_dlq',\n",
    " 'percent_bc_gt_75',\n",
    " 'pub_rec_bankruptcies',\n",
    " 'tax_liens',\n",
    " 'tot_hi_cred_lim',\n",
    " 'total_bal_ex_mort',\n",
    " 'total_bc_limit',\n",
    " 'total_il_high_credit_limit',\n",
    " 'month',\n",
    " 'term_ 36 months',\n",
    " 'term_ 60 months',\n",
    " 'grade_A',\n",
    " 'grade_B',\n",
    " 'grade_C',\n",
    " 'grade_D',\n",
    " 'grade_E',\n",
    " 'grade_F',\n",
    " 'grade_G',\n",
    " 'home_ownership_ANY',\n",
    " 'home_ownership_MORTGAGE',\n",
    " 'home_ownership_NONE',\n",
    " 'home_ownership_OTHER',\n",
    " 'home_ownership_OWN',\n",
    " 'home_ownership_RENT',\n",
    " 'purpose_car',\n",
    " 'purpose_credit_card',\n",
    " 'purpose_debt_consolidation',\n",
    " 'purpose_educational',\n",
    " 'purpose_home_improvement',\n",
    " 'purpose_house',\n",
    " 'purpose_major_purchase',\n",
    " 'purpose_medical',\n",
    " 'purpose_moving',\n",
    " 'purpose_other',\n",
    " 'purpose_renewable_energy',\n",
    " 'purpose_small_business',\n",
    " 'purpose_vacation',\n",
    " 'purpose_wedding',\n",
    " 'addr_state_AK',\n",
    " 'addr_state_AL',\n",
    " 'addr_state_AR',\n",
    " 'addr_state_AZ',\n",
    " 'addr_state_CA',\n",
    " 'addr_state_CO',\n",
    " 'addr_state_CT',\n",
    " 'addr_state_DC',\n",
    " 'addr_state_DE',\n",
    " 'addr_state_FL',\n",
    " 'addr_state_GA',\n",
    " 'addr_state_HI',\n",
    " 'addr_state_IA',\n",
    " 'addr_state_ID',\n",
    " 'addr_state_IL',\n",
    " 'addr_state_IN',\n",
    " 'addr_state_KS',\n",
    " 'addr_state_KY',\n",
    " 'addr_state_LA',\n",
    " 'addr_state_MA',\n",
    " 'addr_state_MD',\n",
    " 'addr_state_ME',\n",
    " 'addr_state_MI',\n",
    " 'addr_state_MN',\n",
    " 'addr_state_MO',\n",
    " 'addr_state_MS',\n",
    " 'addr_state_MT',\n",
    " 'addr_state_NC',\n",
    " 'addr_state_ND',\n",
    " 'addr_state_NE',\n",
    " 'addr_state_NH',\n",
    " 'addr_state_NJ',\n",
    " 'addr_state_NM',\n",
    " 'addr_state_NV',\n",
    " 'addr_state_NY',\n",
    " 'addr_state_OH',\n",
    " 'addr_state_OK',\n",
    " 'addr_state_OR',\n",
    " 'addr_state_PA',\n",
    " 'addr_state_RI',\n",
    " 'addr_state_SC',\n",
    " 'addr_state_SD',\n",
    " 'addr_state_TN',\n",
    " 'addr_state_TX',\n",
    " 'addr_state_UT',\n",
    " 'addr_state_VA',\n",
    " 'addr_state_VT',\n",
    " 'addr_state_WA',\n",
    " 'addr_state_WI',\n",
    " 'addr_state_WV',\n",
    " 'addr_state_WY']]"
   ]
  },
  {
   "cell_type": "markdown",
   "metadata": {},
   "source": [
    "## Train Test Split"
   ]
  },
  {
   "cell_type": "code",
   "execution_count": 6,
   "metadata": {
    "collapsed": true
   },
   "outputs": [],
   "source": [
    "y_col = lending_club_df_training.repaid"
   ]
  },
  {
   "cell_type": "code",
   "execution_count": 7,
   "metadata": {
    "collapsed": true
   },
   "outputs": [],
   "source": [
    "x_cols = lending_club_df_training.iloc[:,lending_club_df.columns!='repaid'] "
   ]
  },
  {
   "cell_type": "markdown",
   "metadata": {},
   "source": [
    "- Standardize columns"
   ]
  },
  {
   "cell_type": "code",
   "execution_count": 8,
   "metadata": {
    "collapsed": true
   },
   "outputs": [],
   "source": [
    "scaler = StandardScaler()"
   ]
  },
  {
   "cell_type": "code",
   "execution_count": 9,
   "metadata": {},
   "outputs": [],
   "source": [
    "x_scaled =  scaler.fit_transform(x_cols)"
   ]
  },
  {
   "cell_type": "markdown",
   "metadata": {},
   "source": [
    "- train test split"
   ]
  },
  {
   "cell_type": "code",
   "execution_count": 10,
   "metadata": {
    "collapsed": true
   },
   "outputs": [],
   "source": [
    "X_train, X_test, y_train, y_test = train_test_split(x_scaled, y_col,test_size=.15)"
   ]
  },
  {
   "cell_type": "code",
   "execution_count": null,
   "metadata": {
    "collapsed": true
   },
   "outputs": [],
   "source": []
  },
  {
   "cell_type": "markdown",
   "metadata": {},
   "source": [
    "# Build a Keras model"
   ]
  },
  {
   "cell_type": "code",
   "execution_count": 11,
   "metadata": {
    "collapsed": true
   },
   "outputs": [],
   "source": [
    "def build_model():\n",
    "    \"\"\"Build a Keras binary classifier model\"\"\"\n",
    "    model = Sequential()\n",
    "    model.add(Dense(units =100, input_shape=(149,), activation='relu',kernel_constraint=maxnorm(4)))\n",
    "    model.add(Dropout(.2))\n",
    "    model.add(Dense(units =300,  activation='relu',kernel_constraint=maxnorm(4)))\n",
    "    model.add(Dropout(.25))\n",
    "    model.add(Dense(units =500,  activation='relu',kernel_constraint=maxnorm(4)))\n",
    "    model.add(Dropout(.3))\n",
    "    model.add(Dense(units =300,  activation='relu',kernel_constraint=maxnorm(4)))\n",
    "    model.add(Dropout(.2))\n",
    "    model.add(Dense(units =100,  activation='relu',kernel_constraint=maxnorm(4)))\n",
    "    model.add(Dense(units =1,  activation='sigmoid'))\n",
    "    adam = Adam(lr = .001)\n",
    "    model.compile(optimizer=adam, loss='binary_crossentropy', metrics=['accuracy'])\n",
    "    return model\n",
    "    \n",
    "        "
   ]
  },
  {
   "cell_type": "code",
   "execution_count": 12,
   "metadata": {},
   "outputs": [],
   "source": [
    "m = build_model()"
   ]
  },
  {
   "cell_type": "code",
   "execution_count": 13,
   "metadata": {},
   "outputs": [
    {
     "name": "stdout",
     "output_type": "stream",
     "text": [
      "_________________________________________________________________\n",
      "Layer (type)                 Output Shape              Param #   \n",
      "=================================================================\n",
      "dense_1 (Dense)              (None, 100)               15000     \n",
      "_________________________________________________________________\n",
      "dropout_1 (Dropout)          (None, 100)               0         \n",
      "_________________________________________________________________\n",
      "dense_2 (Dense)              (None, 300)               30300     \n",
      "_________________________________________________________________\n",
      "dropout_2 (Dropout)          (None, 300)               0         \n",
      "_________________________________________________________________\n",
      "dense_3 (Dense)              (None, 500)               150500    \n",
      "_________________________________________________________________\n",
      "dropout_3 (Dropout)          (None, 500)               0         \n",
      "_________________________________________________________________\n",
      "dense_4 (Dense)              (None, 300)               150300    \n",
      "_________________________________________________________________\n",
      "dropout_4 (Dropout)          (None, 300)               0         \n",
      "_________________________________________________________________\n",
      "dense_5 (Dense)              (None, 100)               30100     \n",
      "_________________________________________________________________\n",
      "dense_6 (Dense)              (None, 1)                 101       \n",
      "=================================================================\n",
      "Total params: 376,301\n",
      "Trainable params: 376,301\n",
      "Non-trainable params: 0\n",
      "_________________________________________________________________\n"
     ]
    }
   ],
   "source": [
    "m.summary()"
   ]
  },
  {
   "cell_type": "markdown",
   "metadata": {},
   "source": []
  },
  {
   "cell_type": "code",
   "execution_count": null,
   "metadata": {},
   "outputs": [
    {
     "name": "stdout",
     "output_type": "stream",
     "text": [
      "Train on 961071 samples, validate on 169601 samples\n",
      "Epoch 1/1\n",
      "224576/961071 [======>.......................] - ETA: 594s - loss: 0.0153 - acc: 0.9950"
     ]
    }
   ],
   "source": [
    "history = m.fit( X_train,y_train , epochs = 1,batch_size=32, validation_split=.15)"
   ]
  },
  {
   "cell_type": "code",
   "execution_count": null,
   "metadata": {},
   "outputs": [],
   "source": [
    "history.history"
   ]
  },
  {
   "cell_type": "markdown",
   "metadata": {},
   "source": [
    "## test predictions"
   ]
  },
  {
   "cell_type": "code",
   "execution_count": null,
   "metadata": {},
   "outputs": [],
   "source": [
    "m.predict(X_test).sum()"
   ]
  },
  {
   "cell_type": "code",
   "execution_count": null,
   "metadata": {},
   "outputs": [],
   "source": [
    "y_train.as_matrix().sum()"
   ]
  },
  {
   "cell_type": "code",
   "execution_count": null,
   "metadata": {
    "collapsed": true
   },
   "outputs": [],
   "source": []
  },
  {
   "cell_type": "code",
   "execution_count": null,
   "metadata": {
    "collapsed": true
   },
   "outputs": [],
   "source": []
  },
  {
   "cell_type": "markdown",
   "metadata": {},
   "source": [
    "## Save / load model"
   ]
  },
  {
   "cell_type": "code",
   "execution_count": 3,
   "metadata": {},
   "outputs": [
    {
     "ename": "NameError",
     "evalue": "name 'model' is not defined",
     "output_type": "error",
     "traceback": [
      "\u001b[0;31m---------------------------------------------------------------------------\u001b[0m",
      "\u001b[0;31mNameError\u001b[0m                                 Traceback (most recent call last)",
      "\u001b[0;32m<ipython-input-3-db040943f36f>\u001b[0m in \u001b[0;36m<module>\u001b[0;34m()\u001b[0m\n\u001b[0;32m----> 1\u001b[0;31m \u001b[0mmodel\u001b[0m\u001b[0;34m.\u001b[0m\u001b[0msave\u001b[0m\u001b[0;34m(\u001b[0m\u001b[0;34m'models/mlp_model.h5'\u001b[0m\u001b[0;34m)\u001b[0m \u001b[0;31m# save weigts to h5py\u001b[0m\u001b[0;34m\u001b[0m\u001b[0m\n\u001b[0m",
      "\u001b[0;31mNameError\u001b[0m: name 'model' is not defined"
     ]
    }
   ],
   "source": [
    "model.save('models/mlp_model.h5') # save weigts to h5py"
   ]
  },
  {
   "cell_type": "code",
   "execution_count": 145,
   "metadata": {
    "collapsed": true
   },
   "outputs": [],
   "source": [
    "# serialize model to JSON\n",
    "model_json = m.to_json()\n",
    "with open(\"models/mlp_model.json\", \"w\") as json_file:\n",
    "    json_file.write(model_json)"
   ]
  },
  {
   "cell_type": "code",
   "execution_count": null,
   "metadata": {
    "collapsed": true
   },
   "outputs": [],
   "source": []
  },
  {
   "cell_type": "code",
   "execution_count": null,
   "metadata": {
    "collapsed": true
   },
   "outputs": [],
   "source": [
    "estimators = []\n",
    "estimators.append(('standardize', StandardScaler()))\n",
    "estimators.append(('mlp', KerasClassifier(build_fn=build_model, epochs=2, batch_size=32, verbose=1)))\n",
    "pipeline = Pipeline(estimators)\n",
    "kfold = StratifiedKFold(n_splits=3, shuffle=True)\n",
    "results = cross_val_score(pipeline, x_cols, y_col, cv=kfold)\n",
    "print(\"Baseline: %.2f%% (%.2f%%)\" % (results.mean()*100, results.std()*100))"
   ]
  }
 ],
 "metadata": {
  "kernelspec": {
   "display_name": "Python 2",
   "language": "python",
   "name": "python2"
  }
 },
 "nbformat": 4,
 "nbformat_minor": 2
}
