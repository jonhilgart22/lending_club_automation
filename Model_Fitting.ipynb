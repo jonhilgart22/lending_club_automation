{
 "cells": [
  {
   "cell_type": "code",
   "execution_count": 98,
   "metadata": {},
   "outputs": [
    {
     "name": "stdout",
     "output_type": "stream",
     "text": [
      "Populating the interactive namespace from numpy and matplotlib\n"
     ]
    }
   ],
   "source": [
    "\n",
    "from sklearn.ensemble import RandomForestClassifier, GradientBoostingClassifier\n",
    "import pandas as pd\n",
    "from sklearn.model_selection import train_test_split\n",
    "from sklearn.metrics import accuracy_score, roc_curve, precision_score, recall_score, f1_score\n",
    "import numpy as np\n",
    "import time\n",
    "import matplotlib.pyplot as plt\n",
    "import seaborn as sns\n",
    "from sklearn.externals import joblib\n",
    "import sys\n",
    "%pylab inline"
   ]
  },
  {
   "cell_type": "code",
   "execution_count": 33,
   "metadata": {
    "collapsed": true
   },
   "outputs": [],
   "source": [
    "lending_club_df = pd.read_csv(\"./data/final_lending_club.csv\")"
   ]
  },
  {
   "cell_type": "code",
   "execution_count": 4,
   "metadata": {},
   "outputs": [
    {
     "data": {
      "text/html": [
       "<div>\n",
       "<style>\n",
       "    .dataframe thead tr:only-child th {\n",
       "        text-align: right;\n",
       "    }\n",
       "\n",
       "    .dataframe thead th {\n",
       "        text-align: left;\n",
       "    }\n",
       "\n",
       "    .dataframe tbody tr th {\n",
       "        vertical-align: top;\n",
       "    }\n",
       "</style>\n",
       "<table border=\"1\" class=\"dataframe\">\n",
       "  <thead>\n",
       "    <tr style=\"text-align: right;\">\n",
       "      <th></th>\n",
       "      <th>loan_amnt</th>\n",
       "      <th>funded_amnt</th>\n",
       "      <th>int_rate</th>\n",
       "      <th>installment</th>\n",
       "      <th>emp_length</th>\n",
       "      <th>annual_inc</th>\n",
       "      <th>zip_code</th>\n",
       "      <th>dti</th>\n",
       "      <th>delinq_2yrs</th>\n",
       "      <th>inq_last_6mths</th>\n",
       "      <th>...</th>\n",
       "      <th>addr_state_SD</th>\n",
       "      <th>addr_state_TN</th>\n",
       "      <th>addr_state_TX</th>\n",
       "      <th>addr_state_UT</th>\n",
       "      <th>addr_state_VA</th>\n",
       "      <th>addr_state_VT</th>\n",
       "      <th>addr_state_WA</th>\n",
       "      <th>addr_state_WI</th>\n",
       "      <th>addr_state_WV</th>\n",
       "      <th>addr_state_WY</th>\n",
       "    </tr>\n",
       "  </thead>\n",
       "  <tbody>\n",
       "    <tr>\n",
       "      <th>0</th>\n",
       "      <td>28000.0</td>\n",
       "      <td>28000.0</td>\n",
       "      <td>7.62</td>\n",
       "      <td>872.52</td>\n",
       "      <td>5</td>\n",
       "      <td>325000.0</td>\n",
       "      <td>945</td>\n",
       "      <td>18.55</td>\n",
       "      <td>0.0</td>\n",
       "      <td>1.0</td>\n",
       "      <td>...</td>\n",
       "      <td>0</td>\n",
       "      <td>0</td>\n",
       "      <td>0</td>\n",
       "      <td>0</td>\n",
       "      <td>0</td>\n",
       "      <td>0</td>\n",
       "      <td>0</td>\n",
       "      <td>0</td>\n",
       "      <td>0</td>\n",
       "      <td>0</td>\n",
       "    </tr>\n",
       "    <tr>\n",
       "      <th>1</th>\n",
       "      <td>27600.0</td>\n",
       "      <td>27600.0</td>\n",
       "      <td>19.97</td>\n",
       "      <td>730.78</td>\n",
       "      <td>6</td>\n",
       "      <td>73000.0</td>\n",
       "      <td>802</td>\n",
       "      <td>23.13</td>\n",
       "      <td>1.0</td>\n",
       "      <td>1.0</td>\n",
       "      <td>...</td>\n",
       "      <td>0</td>\n",
       "      <td>0</td>\n",
       "      <td>0</td>\n",
       "      <td>0</td>\n",
       "      <td>0</td>\n",
       "      <td>0</td>\n",
       "      <td>0</td>\n",
       "      <td>0</td>\n",
       "      <td>0</td>\n",
       "      <td>0</td>\n",
       "    </tr>\n",
       "    <tr>\n",
       "      <th>2</th>\n",
       "      <td>24000.0</td>\n",
       "      <td>24000.0</td>\n",
       "      <td>13.53</td>\n",
       "      <td>814.80</td>\n",
       "      <td>10</td>\n",
       "      <td>100000.0</td>\n",
       "      <td>493</td>\n",
       "      <td>22.18</td>\n",
       "      <td>0.0</td>\n",
       "      <td>0.0</td>\n",
       "      <td>...</td>\n",
       "      <td>0</td>\n",
       "      <td>0</td>\n",
       "      <td>0</td>\n",
       "      <td>0</td>\n",
       "      <td>0</td>\n",
       "      <td>0</td>\n",
       "      <td>0</td>\n",
       "      <td>0</td>\n",
       "      <td>0</td>\n",
       "      <td>0</td>\n",
       "    </tr>\n",
       "    <tr>\n",
       "      <th>3</th>\n",
       "      <td>8000.0</td>\n",
       "      <td>8000.0</td>\n",
       "      <td>10.99</td>\n",
       "      <td>261.88</td>\n",
       "      <td>2</td>\n",
       "      <td>33000.0</td>\n",
       "      <td>800</td>\n",
       "      <td>15.75</td>\n",
       "      <td>0.0</td>\n",
       "      <td>1.0</td>\n",
       "      <td>...</td>\n",
       "      <td>0</td>\n",
       "      <td>0</td>\n",
       "      <td>0</td>\n",
       "      <td>0</td>\n",
       "      <td>0</td>\n",
       "      <td>0</td>\n",
       "      <td>0</td>\n",
       "      <td>0</td>\n",
       "      <td>0</td>\n",
       "      <td>0</td>\n",
       "    </tr>\n",
       "    <tr>\n",
       "      <th>4</th>\n",
       "      <td>11500.0</td>\n",
       "      <td>11500.0</td>\n",
       "      <td>22.90</td>\n",
       "      <td>323.54</td>\n",
       "      <td>4</td>\n",
       "      <td>32760.0</td>\n",
       "      <td>937</td>\n",
       "      <td>27.06</td>\n",
       "      <td>0.0</td>\n",
       "      <td>0.0</td>\n",
       "      <td>...</td>\n",
       "      <td>0</td>\n",
       "      <td>0</td>\n",
       "      <td>0</td>\n",
       "      <td>0</td>\n",
       "      <td>0</td>\n",
       "      <td>0</td>\n",
       "      <td>0</td>\n",
       "      <td>0</td>\n",
       "      <td>0</td>\n",
       "      <td>0</td>\n",
       "    </tr>\n",
       "  </tbody>\n",
       "</table>\n",
       "<p>5 rows × 150 columns</p>\n",
       "</div>"
      ],
      "text/plain": [
       "   loan_amnt  funded_amnt  int_rate  installment  emp_length  annual_inc  \\\n",
       "0    28000.0      28000.0      7.62       872.52           5    325000.0   \n",
       "1    27600.0      27600.0     19.97       730.78           6     73000.0   \n",
       "2    24000.0      24000.0     13.53       814.80          10    100000.0   \n",
       "3     8000.0       8000.0     10.99       261.88           2     33000.0   \n",
       "4    11500.0      11500.0     22.90       323.54           4     32760.0   \n",
       "\n",
       "   zip_code    dti  delinq_2yrs  inq_last_6mths      ...        addr_state_SD  \\\n",
       "0       945  18.55          0.0             1.0      ...                    0   \n",
       "1       802  23.13          1.0             1.0      ...                    0   \n",
       "2       493  22.18          0.0             0.0      ...                    0   \n",
       "3       800  15.75          0.0             1.0      ...                    0   \n",
       "4       937  27.06          0.0             0.0      ...                    0   \n",
       "\n",
       "   addr_state_TN  addr_state_TX  addr_state_UT  addr_state_VA  addr_state_VT  \\\n",
       "0              0              0              0              0              0   \n",
       "1              0              0              0              0              0   \n",
       "2              0              0              0              0              0   \n",
       "3              0              0              0              0              0   \n",
       "4              0              0              0              0              0   \n",
       "\n",
       "   addr_state_WA  addr_state_WI  addr_state_WV  addr_state_WY  \n",
       "0              0              0              0              0  \n",
       "1              0              0              0              0  \n",
       "2              0              0              0              0  \n",
       "3              0              0              0              0  \n",
       "4              0              0              0              0  \n",
       "\n",
       "[5 rows x 150 columns]"
      ]
     },
     "execution_count": 4,
     "metadata": {},
     "output_type": "execute_result"
    }
   ],
   "source": [
    "lending_club_df.head()"
   ]
  },
  {
   "cell_type": "code",
   "execution_count": null,
   "metadata": {
    "collapsed": true
   },
   "outputs": [],
   "source": []
  },
  {
   "cell_type": "code",
   "execution_count": 7,
   "metadata": {},
   "outputs": [
    {
     "data": {
      "text/plain": [
       "150"
      ]
     },
     "execution_count": 7,
     "metadata": {},
     "output_type": "execute_result"
    }
   ],
   "source": [
    "len([i for i in lending_club_df.columns]) # should be 150 (including the repaid column)"
   ]
  },
  {
   "cell_type": "markdown",
   "metadata": {},
   "source": [
    "### Data Model\n",
    "``` 'loan_amnt',\n",
    " 'funded_amnt',\n",
    " 'int_rate',\n",
    " 'installment',\n",
    " 'emp_length',\n",
    " 'annual_inc',\n",
    " 'zip_code',\n",
    " 'dti',\n",
    " 'delinq_2yrs',\n",
    " 'inq_last_6mths',\n",
    " 'mths_since_last_delinq',\n",
    " 'mths_since_last_record',\n",
    " 'open_acc',\n",
    " 'pub_rec',\n",
    " 'revol_bal',\n",
    " 'revol_util',\n",
    " 'total_acc',\n",
    " 'collections_12_mths_ex_med',\n",
    " 'mths_since_last_major_derog',\n",
    " 'acc_now_delinq',\n",
    " 'tot_coll_amt',\n",
    " 'tot_cur_bal',\n",
    " 'open_acc_6m',\n",
    " 'open_il_6m',\n",
    " 'open_il_12m',\n",
    " 'open_il_24m',\n",
    " 'total_bal_il',\n",
    " 'il_util',\n",
    " 'max_bal_bc',\n",
    " 'all_util',\n",
    " 'total_rev_hi_lim',\n",
    " 'inq_last_12m',\n",
    " 'acc_open_past_24mths',\n",
    " 'avg_cur_bal',\n",
    " 'bc_util',\n",
    " 'chargeoff_within_12_mths',\n",
    " 'delinq_amnt',\n",
    " 'mo_sin_old_il_acct',\n",
    " 'mo_sin_old_rev_tl_op',\n",
    " 'mo_sin_rcnt_rev_tl_op',\n",
    " 'mo_sin_rcnt_tl',\n",
    " 'mort_acc',\n",
    " 'mths_since_recent_bc',\n",
    " 'mths_since_recent_bc_dlq',\n",
    " 'mths_since_recent_inq',\n",
    " 'mths_since_recent_revol_delinq',\n",
    " 'num_accts_ever_120_pd',\n",
    " 'num_actv_bc_tl',\n",
    " 'num_actv_rev_tl',\n",
    " 'num_bc_sats',\n",
    " 'num_bc_tl',\n",
    " 'num_il_tl',\n",
    " 'num_op_rev_tl',\n",
    " 'num_rev_accts',\n",
    " 'num_rev_tl_bal_gt_0',\n",
    " 'num_sats',\n",
    " 'num_tl_120dpd_2m',\n",
    " 'num_tl_30dpd',\n",
    " 'num_tl_90g_dpd_24m',\n",
    " 'num_tl_op_past_12m',\n",
    " 'pct_tl_nvr_dlq',\n",
    " 'percent_bc_gt_75',\n",
    " 'pub_rec_bankruptcies',\n",
    " 'tax_liens',\n",
    " 'tot_hi_cred_lim',\n",
    " 'total_bal_ex_mort',\n",
    " 'total_bc_limit',\n",
    " 'total_il_high_credit_limit',\n",
    " 'month',\n",
    " 'term_ 36 months',\n",
    " 'term_ 60 months',\n",
    " 'grade_A',\n",
    " 'grade_B',\n",
    " 'grade_C',\n",
    " 'grade_D',\n",
    " 'grade_E',\n",
    " 'grade_F',\n",
    " 'grade_G',\n",
    " 'home_ownership_ANY',\n",
    " 'home_ownership_MORTGAGE',\n",
    " 'home_ownership_NONE',\n",
    " 'home_ownership_OTHER',\n",
    " 'home_ownership_OWN',\n",
    " 'home_ownership_RENT',\n",
    " 'purpose_car',\n",
    " 'purpose_credit_card',\n",
    " 'purpose_debt_consolidation',\n",
    " 'purpose_educational',\n",
    " 'purpose_home_improvement',\n",
    " 'purpose_house',\n",
    " 'purpose_major_purchase',\n",
    " 'purpose_medical',\n",
    " 'purpose_moving',\n",
    " 'purpose_other',\n",
    " 'purpose_renewable_energy',\n",
    " 'purpose_small_business',\n",
    " 'purpose_vacation',\n",
    " 'purpose_wedding',\n",
    " 'addr_state_AK',\n",
    " 'addr_state_AL',\n",
    " 'addr_state_AR',\n",
    " 'addr_state_AZ',\n",
    " 'addr_state_CA',\n",
    " 'addr_state_CO',\n",
    " 'addr_state_CT',\n",
    " 'addr_state_DC',\n",
    " 'addr_state_DE',\n",
    " 'addr_state_FL',\n",
    " 'addr_state_GA',\n",
    " 'addr_state_HI',\n",
    " 'addr_state_IA',\n",
    " 'addr_state_ID',\n",
    " 'addr_state_IL',\n",
    " 'addr_state_IN',\n",
    " 'addr_state_KS',\n",
    " 'addr_state_KY',\n",
    " 'addr_state_LA',\n",
    " 'addr_state_MA',\n",
    " 'addr_state_MD',\n",
    " 'addr_state_ME',\n",
    " 'addr_state_MI',\n",
    " 'addr_state_MN',\n",
    " 'addr_state_MO',\n",
    " 'addr_state_MS',\n",
    " 'addr_state_MT',\n",
    " 'addr_state_NC',\n",
    " 'addr_state_ND',\n",
    " 'addr_state_NE',\n",
    " 'addr_state_NH',\n",
    " 'addr_state_NJ',\n",
    " 'addr_state_NM',\n",
    " 'addr_state_NV',\n",
    " 'addr_state_NY',\n",
    " 'addr_state_OH',\n",
    " 'addr_state_OK',\n",
    " 'addr_state_OR',\n",
    " 'addr_state_PA',\n",
    " 'addr_state_RI',\n",
    " 'addr_state_SC',\n",
    " 'addr_state_SD',\n",
    " 'addr_state_TN',\n",
    " 'addr_state_TX',\n",
    " 'addr_state_UT',\n",
    " 'addr_state_VA',\n",
    " 'addr_state_VT',\n",
    " 'addr_state_WA',\n",
    " 'addr_state_WI',\n",
    " 'addr_state_WV',\n",
    " 'addr_state_WY']'```"
   ]
  },
  {
   "cell_type": "markdown",
   "metadata": {},
   "source": [
    "### Make sure training DF is in the same order as the data model"
   ]
  },
  {
   "cell_type": "code",
   "execution_count": 108,
   "metadata": {
    "collapsed": true
   },
   "outputs": [],
   "source": [
    "lending_club_df_training = lending_club_df[['loan_amnt',\n",
    " 'funded_amnt',\n",
    " 'int_rate',\n",
    " 'installment',\n",
    " 'emp_length',\n",
    " 'annual_inc',\n",
    " 'zip_code',\n",
    " 'dti',\n",
    "                                            'repaid',\n",
    " 'delinq_2yrs',\n",
    " 'inq_last_6mths',\n",
    " 'mths_since_last_delinq',\n",
    " 'mths_since_last_record',\n",
    " 'open_acc',\n",
    " 'pub_rec',\n",
    " 'revol_bal',\n",
    " 'revol_util',\n",
    " 'total_acc',\n",
    " 'collections_12_mths_ex_med',\n",
    " 'mths_since_last_major_derog',\n",
    " 'acc_now_delinq',\n",
    " 'tot_coll_amt',\n",
    " 'tot_cur_bal',\n",
    " 'open_acc_6m',\n",
    " 'open_il_6m',\n",
    " 'open_il_12m',\n",
    " 'open_il_24m',\n",
    " 'total_bal_il',\n",
    " 'il_util',\n",
    " 'max_bal_bc',\n",
    " 'all_util',\n",
    " 'total_rev_hi_lim',\n",
    " 'inq_last_12m',\n",
    " 'acc_open_past_24mths',\n",
    " 'avg_cur_bal',\n",
    " 'bc_util',\n",
    " 'chargeoff_within_12_mths',\n",
    " 'delinq_amnt',\n",
    " 'mo_sin_old_il_acct',\n",
    " 'mo_sin_old_rev_tl_op',\n",
    " 'mo_sin_rcnt_rev_tl_op',\n",
    " 'mo_sin_rcnt_tl',\n",
    " 'mort_acc',\n",
    " 'mths_since_recent_bc',\n",
    " 'mths_since_recent_bc_dlq',\n",
    " 'mths_since_recent_inq',\n",
    " 'mths_since_recent_revol_delinq',\n",
    " 'num_accts_ever_120_pd',\n",
    " 'num_actv_bc_tl',\n",
    " 'num_actv_rev_tl',\n",
    " 'num_bc_sats',\n",
    " 'num_bc_tl',\n",
    " 'num_il_tl',\n",
    " 'num_op_rev_tl',\n",
    " 'num_rev_accts',\n",
    " 'num_rev_tl_bal_gt_0',\n",
    " 'num_sats',\n",
    " 'num_tl_120dpd_2m',\n",
    " 'num_tl_30dpd',\n",
    " 'num_tl_90g_dpd_24m',\n",
    " 'num_tl_op_past_12m',\n",
    " 'pct_tl_nvr_dlq',\n",
    " 'percent_bc_gt_75',\n",
    " 'pub_rec_bankruptcies',\n",
    " 'tax_liens',\n",
    " 'tot_hi_cred_lim',\n",
    " 'total_bal_ex_mort',\n",
    " 'total_bc_limit',\n",
    " 'total_il_high_credit_limit',\n",
    " 'month',\n",
    " 'term_ 36 months',\n",
    " 'term_ 60 months',\n",
    " 'grade_A',\n",
    " 'grade_B',\n",
    " 'grade_C',\n",
    " 'grade_D',\n",
    " 'grade_E',\n",
    " 'grade_F',\n",
    " 'grade_G',\n",
    " 'home_ownership_ANY',\n",
    " 'home_ownership_MORTGAGE',\n",
    " 'home_ownership_NONE',\n",
    " 'home_ownership_OTHER',\n",
    " 'home_ownership_OWN',\n",
    " 'home_ownership_RENT',\n",
    " 'purpose_car',\n",
    " 'purpose_credit_card',\n",
    " 'purpose_debt_consolidation',\n",
    " 'purpose_educational',\n",
    " 'purpose_home_improvement',\n",
    " 'purpose_house',\n",
    " 'purpose_major_purchase',\n",
    " 'purpose_medical',\n",
    " 'purpose_moving',\n",
    " 'purpose_other',\n",
    " 'purpose_renewable_energy',\n",
    " 'purpose_small_business',\n",
    " 'purpose_vacation',\n",
    " 'purpose_wedding',\n",
    " 'addr_state_AK',\n",
    " 'addr_state_AL',\n",
    " 'addr_state_AR',\n",
    " 'addr_state_AZ',\n",
    " 'addr_state_CA',\n",
    " 'addr_state_CO',\n",
    " 'addr_state_CT',\n",
    " 'addr_state_DC',\n",
    " 'addr_state_DE',\n",
    " 'addr_state_FL',\n",
    " 'addr_state_GA',\n",
    " 'addr_state_HI',\n",
    " 'addr_state_IA',\n",
    " 'addr_state_ID',\n",
    " 'addr_state_IL',\n",
    " 'addr_state_IN',\n",
    " 'addr_state_KS',\n",
    " 'addr_state_KY',\n",
    " 'addr_state_LA',\n",
    " 'addr_state_MA',\n",
    " 'addr_state_MD',\n",
    " 'addr_state_ME',\n",
    " 'addr_state_MI',\n",
    " 'addr_state_MN',\n",
    " 'addr_state_MO',\n",
    " 'addr_state_MS',\n",
    " 'addr_state_MT',\n",
    " 'addr_state_NC',\n",
    " 'addr_state_ND',\n",
    " 'addr_state_NE',\n",
    " 'addr_state_NH',\n",
    " 'addr_state_NJ',\n",
    " 'addr_state_NM',\n",
    " 'addr_state_NV',\n",
    " 'addr_state_NY',\n",
    " 'addr_state_OH',\n",
    " 'addr_state_OK',\n",
    " 'addr_state_OR',\n",
    " 'addr_state_PA',\n",
    " 'addr_state_RI',\n",
    " 'addr_state_SC',\n",
    " 'addr_state_SD',\n",
    " 'addr_state_TN',\n",
    " 'addr_state_TX',\n",
    " 'addr_state_UT',\n",
    " 'addr_state_VA',\n",
    " 'addr_state_VT',\n",
    " 'addr_state_WA',\n",
    " 'addr_state_WI',\n",
    " 'addr_state_WV',\n",
    " 'addr_state_WY']]"
   ]
  },
  {
   "cell_type": "code",
   "execution_count": null,
   "metadata": {
    "collapsed": true
   },
   "outputs": [],
   "source": []
  },
  {
   "cell_type": "code",
   "execution_count": 109,
   "metadata": {
    "collapsed": true
   },
   "outputs": [],
   "source": [
    "y_col = lending_club_df_training.repaid"
   ]
  },
  {
   "cell_type": "code",
   "execution_count": 110,
   "metadata": {},
   "outputs": [],
   "source": [
    "x_cols = lending_club_df_training.iloc[:,lending_club_df.columns!='repaid'] "
   ]
  },
  {
   "cell_type": "code",
   "execution_count": 16,
   "metadata": {
    "collapsed": true
   },
   "outputs": [],
   "source": [
    "X_train, X_test, y_train, y_test = train_test_split(x_cols, y_col,test_size=.15)"
   ]
  },
  {
   "cell_type": "code",
   "execution_count": 12,
   "metadata": {
    "collapsed": true
   },
   "outputs": [],
   "source": [
    "X_t, X_val, y_t, y_val = train_test_split(X_train, y_train,test_size=.15)"
   ]
  },
  {
   "cell_type": "code",
   "execution_count": 13,
   "metadata": {},
   "outputs": [
    {
     "name": "stdout",
     "output_type": "stream",
     "text": [
      "<class 'pandas.core.frame.DataFrame'>\n",
      "Int64Index: 961071 entries, 859384 to 1291576\n",
      "Columns: 149 entries, loan_amnt to addr_state_WY\n",
      "dtypes: float64(65), int64(84)\n",
      "memory usage: 1.1 GB\n"
     ]
    }
   ],
   "source": [
    "X_t.info()"
   ]
  },
  {
   "cell_type": "markdown",
   "metadata": {},
   "source": [
    "# Random Forest First"
   ]
  },
  {
   "cell_type": "code",
   "execution_count": 112,
   "metadata": {
    "collapsed": true
   },
   "outputs": [],
   "source": [
    "num_trees_rf = 2"
   ]
  },
  {
   "cell_type": "code",
   "execution_count": 113,
   "metadata": {},
   "outputs": [],
   "source": [
    "rf = RandomForestClassifier(n_estimators=num_trees_rf, n_jobs=-1, verbose = 1) #n_jobs -1 parallelize the tree building"
   ]
  },
  {
   "cell_type": "code",
   "execution_count": 114,
   "metadata": {},
   "outputs": [
    {
     "name": "stderr",
     "output_type": "stream",
     "text": [
      "[Parallel(n_jobs=-1)]: Done   2 out of   2 | elapsed:   14.9s finished\n"
     ]
    }
   ],
   "source": [
    "s_rf = time.time()\n",
    "rf.fit(X_t,y_t)\n",
    "e_rf = time.time()"
   ]
  },
  {
   "cell_type": "code",
   "execution_count": 115,
   "metadata": {},
   "outputs": [
    {
     "name": "stdout",
     "output_type": "stream",
     "text": [
      "RF training took 0.379330615203 minutes\n"
     ]
    }
   ],
   "source": [
    "print(\"RF training took {} minutes\".format((e_rf-s_rf)/60))"
   ]
  },
  {
   "cell_type": "code",
   "execution_count": 116,
   "metadata": {},
   "outputs": [
    {
     "name": "stderr",
     "output_type": "stream",
     "text": [
      "[Parallel(n_jobs=2)]: Done   2 out of   2 | elapsed:    0.3s remaining:    0.0s\n",
      "[Parallel(n_jobs=2)]: Done   2 out of   2 | elapsed:    0.3s finished\n",
      "[Parallel(n_jobs=2)]: Done   2 out of   2 | elapsed:    0.2s remaining:    0.0s\n",
      "[Parallel(n_jobs=2)]: Done   2 out of   2 | elapsed:    0.2s finished\n"
     ]
    }
   ],
   "source": [
    "predictions_rf = rf.predict(X_val)\n",
    "positive_probability_predictions = rf.predict_proba(X_val)[:,1]"
   ]
  },
  {
   "cell_type": "code",
   "execution_count": 117,
   "metadata": {},
   "outputs": [
    {
     "data": {
      "text/plain": [
       "27244"
      ]
     },
     "execution_count": 117,
     "metadata": {},
     "output_type": "execute_result"
    }
   ],
   "source": [
    "predictions_rf.sum()"
   ]
  },
  {
   "cell_type": "markdown",
   "metadata": {},
   "source": [
    "### Initial Accuracy"
   ]
  },
  {
   "cell_type": "code",
   "execution_count": 118,
   "metadata": {},
   "outputs": [
    {
     "name": "stdout",
     "output_type": "stream",
     "text": [
      "Accuracy of Random Forrest with 2 trees was 69.32%\n"
     ]
    }
   ],
   "source": [
    "print(\"Accuracy of Random Forrest with {} trees was {:.2%}\".format(num_trees_rf,accuracy_score(y_val, predictions_rf)))"
   ]
  },
  {
   "cell_type": "markdown",
   "metadata": {},
   "source": [
    "### Initial Recall and Precision"
   ]
  },
  {
   "cell_type": "code",
   "execution_count": 74,
   "metadata": {},
   "outputs": [
    {
     "name": "stdout",
     "output_type": "stream",
     "text": [
      "recall of RF is 50.19%\n"
     ]
    }
   ],
   "source": [
    "print(\"recall of RF is {:.2%}\".format(recall_score(y_val, predictions_rf)))"
   ]
  },
  {
   "cell_type": "code",
   "execution_count": 75,
   "metadata": {},
   "outputs": [
    {
     "name": "stdout",
     "output_type": "stream",
     "text": [
      "Precision of RF is 57.67%\n"
     ]
    }
   ],
   "source": [
    "print(\"Precision of RF is {:.2%}\".format(precision_score(y_val, predictions_rf)))"
   ]
  },
  {
   "cell_type": "markdown",
   "metadata": {},
   "source": [
    "### Initial F1"
   ]
  },
  {
   "cell_type": "code",
   "execution_count": 84,
   "metadata": {},
   "outputs": [
    {
     "name": "stdout",
     "output_type": "stream",
     "text": [
      "F1 score of RF was 53.67% \n"
     ]
    }
   ],
   "source": [
    "print(\"F1 score of RF was {:.2%} \".format(f1_score(y_val, predictions_rf)))"
   ]
  },
  {
   "cell_type": "markdown",
   "metadata": {},
   "source": [
    "# Gradient Boosting"
   ]
  },
  {
   "cell_type": "code",
   "execution_count": 77,
   "metadata": {
    "collapsed": true
   },
   "outputs": [],
   "source": [
    "num_gb_trees = 5"
   ]
  },
  {
   "cell_type": "code",
   "execution_count": 78,
   "metadata": {
    "collapsed": true
   },
   "outputs": [],
   "source": [
    "gb = GradientBoostingClassifier(n_estimators=num_gb_trees, verbose = 1)"
   ]
  },
  {
   "cell_type": "code",
   "execution_count": 79,
   "metadata": {},
   "outputs": [
    {
     "data": {
      "text/plain": [
       "GradientBoostingClassifier(criterion='friedman_mse', init=None,\n",
       "              learning_rate=0.1, loss='deviance', max_depth=3,\n",
       "              max_features=None, max_leaf_nodes=None,\n",
       "              min_impurity_decrease=0.0, min_impurity_split=None,\n",
       "              min_samples_leaf=1, min_samples_split=2,\n",
       "              min_weight_fraction_leaf=0.0, n_estimators=5, presort='auto',\n",
       "              random_state=None, subsample=1.0, verbose=0,\n",
       "              warm_start=False)"
      ]
     },
     "execution_count": 79,
     "metadata": {},
     "output_type": "execute_result"
    }
   ],
   "source": [
    "s_gb = time.time()\n",
    "gb.fit(X_t,y_t)\n",
    "e_gb  = time.time()"
   ]
  },
  {
   "cell_type": "code",
   "execution_count": null,
   "metadata": {
    "collapsed": true
   },
   "outputs": [],
   "source": [
    "print(\"GB training took {}\".format((e_gb-s_gb)/60))"
   ]
  },
  {
   "cell_type": "code",
   "execution_count": 87,
   "metadata": {
    "collapsed": true
   },
   "outputs": [],
   "source": [
    "predictions_gb = gb.predict(X_val)\n",
    "positive_probability_predictions_gb = gb.predict_proba(X_val)[:,1]"
   ]
  },
  {
   "cell_type": "code",
   "execution_count": 92,
   "metadata": {},
   "outputs": [
    {
     "data": {
      "text/plain": [
       "array([0, 0, 0, ..., 0, 0, 0])"
      ]
     },
     "execution_count": 92,
     "metadata": {},
     "output_type": "execute_result"
    }
   ],
   "source": [
    "predictions_gb"
   ]
  },
  {
   "cell_type": "code",
   "execution_count": 88,
   "metadata": {},
   "outputs": [
    {
     "name": "stdout",
     "output_type": "stream",
     "text": [
      "Accuracy of GB with 5 trees was 0.669253129404\n"
     ]
    }
   ],
   "source": [
    "print(\"Accuracy of GB with {} trees was {}\".format(num_gb_trees,accuracy_score(y_val, predictions_gb)))"
   ]
  },
  {
   "cell_type": "code",
   "execution_count": 89,
   "metadata": {},
   "outputs": [
    {
     "name": "stdout",
     "output_type": "stream",
     "text": [
      "recall of GB is 0.00%\n"
     ]
    }
   ],
   "source": [
    "print(\"recall of GB is {:.2%}\".format(recall_score(y_val, predictions_gb)))"
   ]
  },
  {
   "cell_type": "code",
   "execution_count": 83,
   "metadata": {},
   "outputs": [
    {
     "name": "stdout",
     "output_type": "stream",
     "text": [
      "Precision of GB is 0.00%\n"
     ]
    },
    {
     "name": "stderr",
     "output_type": "stream",
     "text": [
      "/usr/local/lib/python2.7/site-packages/sklearn/metrics/classification.py:1135: UndefinedMetricWarning: Precision is ill-defined and being set to 0.0 due to no predicted samples.\n",
      "  'precision', 'predicted', average, warn_for)\n"
     ]
    }
   ],
   "source": [
    "print(\"Precision of GB is {:.2%}\".format(precision_score(y_val, predictions_gb)))"
   ]
  },
  {
   "cell_type": "code",
   "execution_count": 85,
   "metadata": {},
   "outputs": [
    {
     "name": "stdout",
     "output_type": "stream",
     "text": [
      "F1 score of GB was 0.00% \n"
     ]
    },
    {
     "name": "stderr",
     "output_type": "stream",
     "text": [
      "/usr/local/lib/python2.7/site-packages/sklearn/metrics/classification.py:1135: UndefinedMetricWarning: F-score is ill-defined and being set to 0.0 due to no predicted samples.\n",
      "  'precision', 'predicted', average, warn_for)\n"
     ]
    }
   ],
   "source": [
    "print(\"F1 score of GB was {:.2%} \".format(f1_score(y_val, predictions_gb)))"
   ]
  },
  {
   "cell_type": "code",
   "execution_count": null,
   "metadata": {
    "collapsed": true
   },
   "outputs": [],
   "source": []
  },
  {
   "cell_type": "markdown",
   "metadata": {},
   "source": [
    "## Save the models"
   ]
  },
  {
   "cell_type": "code",
   "execution_count": 104,
   "metadata": {},
   "outputs": [],
   "source": [
    "filename = './models/random_forest_{}-trees.joblib.pkl'.format(num_trees_rf)\n",
    "_ = joblib.dump(rf, filename, compress=9)"
   ]
  },
  {
   "cell_type": "code",
   "execution_count": null,
   "metadata": {
    "collapsed": true
   },
   "outputs": [],
   "source": [
    "filename = './models/gradient_boosting_{}-trees.joblib.pkl'.format(num_gb_trees)\n",
    "_ = joblib.dump(gb, filename, compress=9)"
   ]
  },
  {
   "cell_type": "code",
   "execution_count": null,
   "metadata": {
    "collapsed": true
   },
   "outputs": [],
   "source": []
  },
  {
   "cell_type": "code",
   "execution_count": null,
   "metadata": {
    "collapsed": true
   },
   "outputs": [],
   "source": []
  },
  {
   "cell_type": "markdown",
   "metadata": {},
   "source": [
    "## Find the best threshold"
   ]
  },
  {
   "cell_type": "code",
   "execution_count": 28,
   "metadata": {},
   "outputs": [],
   "source": [
    "fpr, tpr, thresholds = roc_curve(y_val, positive_probability_predictions)"
   ]
  },
  {
   "cell_type": "code",
   "execution_count": 29,
   "metadata": {},
   "outputs": [
    {
     "data": {
      "text/plain": [
       "[<matplotlib.lines.Line2D at 0x106cb3390>]"
      ]
     },
     "execution_count": 29,
     "metadata": {},
     "output_type": "execute_result"
    },
    {
     "data": {
      "image/png": "[encoded data removed]",
      "text/plain": [
       "<matplotlib.figure.Figure at 0x106db8c50>"
      ]
     },
     "metadata": {},
     "output_type": "display_data"
    }
   ],
   "source": [
    "plt.plot(fpr,tpr)"
   ]
  },
  {
   "cell_type": "markdown",
   "metadata": {},
   "source": [
    "### Adjust threshold\n",
    "- We want to minimize the number of false positive (people who we think will pay back but don't)\n"
   ]
  },
  {
   "cell_type": "code",
   "execution_count": 49,
   "metadata": {},
   "outputs": [],
   "source": [
    "p6_threshold = positive_probability_predictions>.6"
   ]
  },
  {
   "cell_type": "code",
   "execution_count": 50,
   "metadata": {},
   "outputs": [
    {
     "data": {
      "text/plain": [
       "0.7468293229403129"
      ]
     },
     "execution_count": 50,
     "metadata": {},
     "output_type": "execute_result"
    }
   ],
   "source": [
    "accuracy_score(y_val, p6_threshold )"
   ]
  },
  {
   "cell_type": "code",
   "execution_count": 51,
   "metadata": {},
   "outputs": [
    {
     "data": {
      "text/plain": [
       "0.75670264965652601"
      ]
     },
     "execution_count": 51,
     "metadata": {},
     "output_type": "execute_result"
    }
   ],
   "source": [
    "precision_score(y_val,p6_threshold ) # up to 90% precision now"
   ]
  },
  {
   "cell_type": "code",
   "execution_count": 52,
   "metadata": {},
   "outputs": [
    {
     "data": {
      "text/plain": [
       "0.34412767552707213"
      ]
     },
     "execution_count": 52,
     "metadata": {},
     "output_type": "execute_result"
    }
   ],
   "source": [
    "recall_score(y_val, p6_threshold)"
   ]
  },
  {
   "cell_type": "code",
   "execution_count": 53,
   "metadata": {},
   "outputs": [
    {
     "data": {
      "text/plain": [
       "0.47310165415010064"
      ]
     },
     "execution_count": 53,
     "metadata": {},
     "output_type": "execute_result"
    }
   ],
   "source": [
    "f1_score(y_val, p6_threshold)"
   ]
  },
  {
   "cell_type": "markdown",
   "metadata": {
    "collapsed": true
   },
   "source": [
    "### Feature importances"
   ]
  },
  {
   "cell_type": "code",
   "execution_count": 34,
   "metadata": {},
   "outputs": [
    {
     "data": {
      "text/plain": [
       "Index([u'all_util', u'open_il_24m', u'int_rate', u'dti', u'bc_util',\n",
       "       u'revol_util', u'zip_code', u'mo_sin_old_rev_tl_op', u'avg_cur_bal',\n",
       "       u'tot_cur_bal', u'mo_sin_old_il_acct', u'tot_hi_cred_lim', u'revol_bal',\n",
       "       u'annual_inc', u'installment', u'total_rev_hi_lim', u'total_bc_limit',\n",
       "       u'total_bal_ex_mort', u'total_il_high_credit_limit', u'total_acc'],\n",
       "      dtype='object')"
      ]
     },
     "execution_count": 34,
     "metadata": {},
     "output_type": "execute_result"
    }
   ],
   "source": [
    "lending_club_df.columns[np.argsort(rf.feature_importances_)[::-1]][:20]"
   ]
  },
  {
   "cell_type": "code",
   "execution_count": 36,
   "metadata": {},
   "outputs": [
    {
     "data": {
      "text/plain": [
       "array([  1.60408712e-02,   1.56640838e-02,   2.85551930e-02,\n",
       "         1.97012650e-02,   1.06018213e-02,   1.98138631e-02,\n",
       "         2.11859082e-02,   2.59101440e-02,   3.55634199e-03,\n",
       "         5.92559594e-03,   1.10401854e-02,   5.82696578e-03,\n",
       "         1.14744845e-02,   2.68872129e-03,   1.99387710e-02,\n",
       "         2.12906333e-02,   1.76832563e-02,   6.42987489e-04,\n",
       "         6.45318093e-03,   2.07564022e-04,   5.82979344e-03,\n",
       "         2.05015376e-02,   2.92745530e-03,   3.42250204e-03,\n",
       "         9.22301595e-03,   3.34465621e-02,   1.59631279e-02,\n",
       "         1.20934306e-02,   1.53685819e-02,   7.71974551e-02,\n",
       "         1.96132993e-02,   1.49756604e-02,   1.21473219e-02,\n",
       "         2.05868508e-02,   2.14259726e-02,   3.45461829e-04,\n",
       "         2.79907211e-04,   2.03545834e-02,   2.10237170e-02,\n",
       "         1.55509473e-02,   1.37576713e-02,   8.73531351e-03,\n",
       "         1.73456592e-02,   6.46415839e-03,   1.40980063e-02,\n",
       "         8.39735200e-03,   3.61906860e-03,   9.12968405e-03,\n",
       "         9.98072398e-03,   9.38228154e-03,   1.47044652e-02,\n",
       "         1.42242124e-02,   1.07232864e-02,   1.49225635e-02,\n",
       "         1.06784517e-02,   1.18026346e-02,   5.75897169e-05,\n",
       "         1.74002013e-04,   1.28238806e-03,   8.84030185e-03,\n",
       "         1.16087378e-02,   1.07968265e-02,   1.80618861e-03,\n",
       "         1.44370898e-03,   2.00741717e-02,   1.94700351e-02,\n",
       "         1.95573083e-02,   1.85085286e-02,   1.51676181e-02,\n",
       "         1.15668333e-02,   1.17035776e-02,   1.76440051e-03,\n",
       "         2.93567063e-03,   2.66789541e-03,   1.93274353e-03,\n",
       "         1.26055836e-03,   5.83155817e-04,   2.14421544e-04,\n",
       "         2.57002892e-05,   2.24719664e-03,   3.42831295e-06,\n",
       "         6.51317253e-06,   1.87009365e-03,   2.14068923e-03,\n",
       "         4.52506680e-04,   2.55113819e-03,   3.08361469e-03,\n",
       "         0.00000000e+00,   1.43284865e-03,   3.39916152e-04,\n",
       "         7.68275844e-04,   5.13825861e-04,   3.83252564e-04,\n",
       "         1.31678991e-03,   5.96914417e-05,   4.67600167e-04,\n",
       "         3.27095765e-04,   3.81046937e-05,   1.44186637e-04,\n",
       "         6.23709790e-04,   4.10809293e-04,   8.88707530e-04,\n",
       "         2.04020453e-03,   1.03272713e-03,   6.49533101e-04,\n",
       "         1.97862134e-04,   2.21423431e-04,   1.78862036e-03,\n",
       "         1.12925597e-03,   3.28652577e-04,   0.00000000e+00,\n",
       "         8.70000580e-05,   1.19807353e-03,   7.41193646e-04,\n",
       "         4.65111806e-04,   5.69690577e-04,   5.48658627e-04,\n",
       "         7.88136570e-04,   8.96703908e-04,   1.41394777e-04,\n",
       "         1.01051385e-03,   8.64837812e-04,   7.00877788e-04,\n",
       "         3.77411184e-04,   2.26345734e-04,   1.11799059e-03,\n",
       "         1.07072857e-04,   2.53075394e-04,   2.80239995e-04,\n",
       "         1.11049073e-03,   3.58105694e-04,   6.89536640e-04,\n",
       "         1.62178817e-03,   1.07691948e-03,   4.57367619e-04,\n",
       "         5.70868970e-04,   1.12432408e-03,   3.22765693e-04,\n",
       "         5.86510922e-04,   2.08393246e-04,   7.41335267e-04,\n",
       "         1.68511176e-03,   5.45737909e-04,   1.09304774e-03,\n",
       "         1.75954209e-04,   7.02224311e-04,   7.31575569e-04,\n",
       "         2.91193974e-04,   1.87228908e-04])"
      ]
     },
     "execution_count": 36,
     "metadata": {},
     "output_type": "execute_result"
    }
   ],
   "source": [
    "rf.feature_importances_"
   ]
  },
  {
   "cell_type": "code",
   "execution_count": 44,
   "metadata": {},
   "outputs": [
    {
     "data": {
      "text/plain": [
       "<matplotlib.axes._subplots.AxesSubplot at 0x106d13dd0>"
      ]
     },
     "execution_count": 44,
     "metadata": {},
     "output_type": "execute_result"
    },
    {
     "data": {
      "image/png": "[encoded data removed]",
      "text/plain": [
       "<matplotlib.figure.Figure at 0x108cc5a90>"
      ]
     },
     "metadata": {},
     "output_type": "display_data"
    }
   ],
   "source": [
    "plt.figure(figsize=(20,5))\n",
    "sns.barplot(lending_club_df.columns[np.argsort(rf.feature_importances_)[::-1]][:20],\n",
    "            rf.feature_importances_[np.argsort(rf.feature_importances_)[::-1][:20]])"
   ]
  },
  {
   "cell_type": "code",
   "execution_count": null,
   "metadata": {
    "collapsed": true
   },
   "outputs": [],
   "source": []
  }
 ],
 "metadata": {
  "kernelspec": {
   "display_name": "Python 2",
   "language": "python",
   "name": "python2"
  },
  "language_info": {
   "codemirror_mode": {
    "name": "ipython",
    "version": 2
   },
   "file_extension": ".py",
   "mimetype": "text/x-python",
   "name": "python",
   "nbconvert_exporter": "python",
   "pygments_lexer": "ipython2",
   "version": "2.7.13"
  }
 },
 "nbformat": 4,
 "nbformat_minor": 2
}
